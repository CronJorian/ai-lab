{
 "cells": [
  {
   "cell_type": "markdown",
   "metadata": {},
   "source": [
    "# Mount Google Drive as folder"
   ]
  },
  {
   "cell_type": "code",
   "execution_count": null,
   "metadata": {},
   "outputs": [],
   "source": [
    "from google.colab import drive\n",
    "\n",
    "drive.mount('/content/drive', force_remount=True)"
   ]
  },
  {
   "cell_type": "markdown",
   "metadata": {},
   "source": [
    "# Check GPU\n",
    "\n",
    "*   Google Colab can provide you with one of two Tesla graphics cards: K80 or T4\n",
    "*   Here you can check the GPU model\n",
    "*   If this command fails, this probably means that you have not selected a GPU runtime. Go to `Runtime>Change runtime type` and select GPU from the `Hardware accelerator` dropdown menu."
   ]
  },
  {
   "cell_type": "code",
   "execution_count": null,
   "metadata": {},
   "outputs": [],
   "source": [
    "!nvidia-smi"
   ]
  },
  {
   "cell_type": "markdown",
   "metadata": {},
   "source": [
    "# Clone Github repository and install requirements\n",
    "\n",
    "* Clone Github repository or pull updates\n",
    "* Requirements install is automatically"
   ]
  },
  {
   "cell_type": "code",
   "execution_count": null,
   "metadata": {},
   "outputs": [],
   "source": [
    "#@title Clone or pull DeepFaceLab from Github\n",
    "\n",
    "Mode = \"clone\" #@param [\"clone\", \"pull\"]\n",
    "\n",
    "!pwd\n",
    "%cd /content/drive/My\\ Drive/\n",
    "\n",
    "if (Mode == \"clone\"):\n",
    "  !git clone https://github.com/inovex/ai-lab.git\n",
    "else:\n",
    "  %cd /content/drive/My\\ Drive/ai-lab\n",
    "  !git pull\n",
    "\n",
    "print(\"Done!\")"
   ]
  }
 ],
 "metadata": {
  "kernelspec": {
   "display_name": "Python 3",
   "language": "python",
   "name": "python3"
  },
  "language_info": {
   "codemirror_mode": {
    "name": "ipython",
    "version": 3
   },
   "file_extension": ".py",
   "mimetype": "text/x-python",
   "name": "python",
   "nbconvert_exporter": "python",
   "pygments_lexer": "ipython3",
   "version": "3.7.4"
  }
 },
 "nbformat": 4,
 "nbformat_minor": 2
}
