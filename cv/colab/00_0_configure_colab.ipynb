{
 "cells": [
  {
   "cell_type": "code",
   "execution_count": null,
   "metadata": {},
   "outputs": [],
   "source": []
  },
  {
   "cell_type": "markdown",
   "metadata": {},
   "source": [
    "# Check GPU\n",
    "\n",
    "*   Google Colab can provide you with one of two Tesla graphics cards: K80 or T4\n",
    "*   Here you can check the model of GPU before using DeepFaceLab"
   ]
  },
  {
   "cell_type": "code",
   "execution_count": null,
   "metadata": {},
   "outputs": [],
   "source": [
    "!nvidia-smi"
   ]
  },
  {
   "cell_type": "markdown",
   "metadata": {},
   "source": [
    "# Clone Github repository and install requirements\n",
    "\n",
    "* Clone Github repository or pull updates\n",
    "* Requirements install is automatically"
   ]
  },
  {
   "cell_type": "code",
   "execution_count": null,
   "metadata": {},
   "outputs": [],
   "source": [
    "#@title Clone or pull DeepFaceLab from Github\n",
    "\n",
    "Mode = \"clone\" #@param [\"clone\", \"pull\"]\n",
    "\n",
    "from pathlib import Path\n",
    "if (Mode == \"clone\"):\n",
    "  !git clone https://github.com/inovex/ai-lab.git\n",
    "else:\n",
    "  %cd /content/ai-lab\n",
    "  !git pull\n",
    "\n",
    "!pip install --upgrade mlflow scikit-image open3d\n",
    "\n",
    "print(\"Done!\")"
   ]
  },
  {
   "cell_type": "markdown",
   "metadata": {},
   "source": [
    "# Manage workspace\n",
    "\n",
    "\n",
    "*   You can import/export workspace or individual data, like model files with Google Drive\n",
    "*   Also, you can use HFS (HTTP Fileserver) for directly import/export you workspace from your computer\n",
    "*   You can clear all workspace or delete part of it"
   ]
  },
  {
   "cell_type": "code",
   "execution_count": null,
   "metadata": {},
   "outputs": [],
   "source": [
    "#Mount Google Drive as folder\n",
    "from google.colab import drive\n",
    "\n",
    "drive.mount('/content/drive', force_remount=True)"
   ]
  }
 ],
 "metadata": {
  "kernelspec": {
   "display_name": "Python 3",
   "language": "python",
   "name": "python3"
  },
  "language_info": {
   "codemirror_mode": {
    "name": "ipython",
    "version": 3
   },
   "file_extension": ".py",
   "mimetype": "text/x-python",
   "name": "python",
   "nbconvert_exporter": "python",
   "pygments_lexer": "ipython3",
   "version": "3.7.4"
  }
 },
 "nbformat": 4,
 "nbformat_minor": 2
}
