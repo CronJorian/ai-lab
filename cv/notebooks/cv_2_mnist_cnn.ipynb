{
 "nbformat": 4,
 "nbformat_minor": 0,
 "metadata": {
  "colab": {
   "name": "cv_2_mnist_cnn.ipynb",
   "provenance": [],
   "collapsed_sections": [],
   "authorship_tag": "ABX9TyOLkVzimcTiICH2hQR5+qWY"
  },
  "kernelspec": {
   "name": "python3",
   "display_name": "Python 3"
  },
  "language_info": {
   "name": "python"
  },
  "accelerator": "GPU"
 },
 "cells": [
  {
   "cell_type": "markdown",
   "metadata": {
    "id": "roSaJ_QNQSQH"
   },
   "source": [
    "# **MNIST Convolutional Neural Network (CNN)**\n",
    "\n",
    "In this notebook we want you to take a step further and implement a convolutional neural network to beat the performance of your mlp classifier. In addition, we will show you how to track the training process with [tensorboard](https://www.tensorflow.org/tensorboard). Finally, you visualize the discriminative power of your CNN with [t-SNE](https://lvdmaaten.github.io/tsne/).\n",
    "\n",
    "<br>\n",
    "\n",
    "**Task:**\n",
    "\n",
    "- Please solve all the tasks with code.\n",
    "- You are free to use any python package you like, however, the imports should be enough to solve all the tasks.\n",
    "- Questions (marked with QUESTION tag) requires you to write a short and concise text.\n",
    "\n",
    "**Note:**\n",
    "- Keep in mind that there is not only one solution for each task.\n",
    "- If you need any help use the [Tensorflow Documentation](https://www.tensorflow.org/) or the [Keras Documentation](https://keras.io)"
   ]
  },
  {
   "cell_type": "markdown",
   "metadata": {
    "id": "lBLYFftXkhYc"
   },
   "source": [
    "## Prerequisites"
   ]
  },
  {
   "cell_type": "code",
   "metadata": {
    "id": "6FmYCbdGOqkf"
   },
   "source": [
    "import tensorflow as tf\n",
    "from tensorflow.keras.callbacks import TensorBoard\n",
    "import numpy as np\n",
    "from sklearn.manifold import TSNE\n",
    "from matplotlib import cm\n",
    "import matplotlib.pyplot as plt\n",
    "%matplotlib inline\n",
    "\n",
    "print(tf.__version__)\n",
    "print(tf.config.list_physical_devices('GPU'))"
   ],
   "execution_count": 1,
   "outputs": [
    {
     "name": "stdout",
     "output_type": "stream",
     "text": [
      "2.10.0\n",
      "[]\n"
     ]
    }
   ]
  },
  {
   "cell_type": "code",
   "metadata": {
    "id": "34TVIcmPQICM"
   },
   "source": [
    "# Import MNIST data\n",
    "\n",
    "(x_train, y_train), (x_test, y_test) = tf.keras.datasets.mnist.load_data()"
   ],
   "execution_count": 2,
   "outputs": []
  },
  {
   "cell_type": "markdown",
   "metadata": {
    "id": "QdWC-Q9Jak0i"
   },
   "source": [
    "RECAP: Repeat the preprocessing steps from the last exercise!\n",
    "\n",
    "Note: You also need to reshape the images as the convolutional layers expect a color channel (Width, Height, Channel)!"
   ]
  },
  {
   "cell_type": "code",
   "metadata": {
    "id": "DL_QAXP4ak7z"
   },
   "source": [
    "# Normalize the images and add a color channel\n",
    "from_to = ((x_train.min(),x_train.max()), (0, 1))\n",
    "\n",
    "\n",
    "\n",
    "\n",
    "\n",
    "# One-hot encode labels\n",
    "\n",
    "\n"
   ],
   "execution_count": 7,
   "outputs": [
    {
     "data": {
      "text/plain": "array([[[0., 0., 0., ..., 0., 0., 0.],\n        [0., 0., 0., ..., 0., 0., 0.],\n        [0., 0., 0., ..., 0., 0., 0.],\n        ...,\n        [0., 0., 0., ..., 0., 0., 0.],\n        [0., 0., 0., ..., 0., 0., 0.],\n        [0., 0., 0., ..., 0., 0., 0.]],\n\n       [[0., 0., 0., ..., 0., 0., 0.],\n        [0., 0., 0., ..., 0., 0., 0.],\n        [0., 0., 0., ..., 0., 0., 0.],\n        ...,\n        [0., 0., 0., ..., 0., 0., 0.],\n        [0., 0., 0., ..., 0., 0., 0.],\n        [0., 0., 0., ..., 0., 0., 0.]],\n\n       [[0., 0., 0., ..., 0., 0., 0.],\n        [0., 0., 0., ..., 0., 0., 0.],\n        [0., 0., 0., ..., 0., 0., 0.],\n        ...,\n        [0., 0., 0., ..., 0., 0., 0.],\n        [0., 0., 0., ..., 0., 0., 0.],\n        [0., 0., 0., ..., 0., 0., 0.]],\n\n       ...,\n\n       [[0., 0., 0., ..., 0., 0., 0.],\n        [0., 0., 0., ..., 0., 0., 0.],\n        [0., 0., 0., ..., 0., 0., 0.],\n        ...,\n        [0., 0., 0., ..., 0., 0., 0.],\n        [0., 0., 0., ..., 0., 0., 0.],\n        [0., 0., 0., ..., 0., 0., 0.]],\n\n       [[0., 0., 0., ..., 0., 0., 0.],\n        [0., 0., 0., ..., 0., 0., 0.],\n        [0., 0., 0., ..., 0., 0., 0.],\n        ...,\n        [0., 0., 0., ..., 0., 0., 0.],\n        [0., 0., 0., ..., 0., 0., 0.],\n        [0., 0., 0., ..., 0., 0., 0.]],\n\n       [[0., 0., 0., ..., 0., 0., 0.],\n        [0., 0., 0., ..., 0., 0., 0.],\n        [0., 0., 0., ..., 0., 0., 0.],\n        ...,\n        [0., 0., 0., ..., 0., 0., 0.],\n        [0., 0., 0., ..., 0., 0., 0.],\n        [0., 0., 0., ..., 0., 0., 0.]]])"
     },
     "execution_count": 7,
     "metadata": {},
     "output_type": "execute_result"
    }
   ]
  },
  {
   "cell_type": "markdown",
   "metadata": {
    "id": "CYOp0in4zjUt"
   },
   "source": [
    "Setting up tensorboard."
   ]
  },
  {
   "cell_type": "code",
   "metadata": {
    "id": "bf3LPDJ32JNq"
   },
   "source": [
    "# Loading the tensorboard extension\n",
    "%load_ext tensorboard"
   ],
   "execution_count": null,
   "outputs": []
  },
  {
   "cell_type": "code",
   "metadata": {
    "id": "a8ndeEhCzlqf"
   },
   "source": [
    "# Setting up tensorboard\n",
    "tensorboard = TensorBoard(\n",
    "  log_dir='./logs',\n",
    "  histogram_freq=1\n",
    ")\n",
    "keras_callbacks = [\n",
    "  tensorboard\n",
    "]"
   ],
   "execution_count": null,
   "outputs": []
  },
  {
   "cell_type": "markdown",
   "metadata": {
    "id": "mCPpOg_1r3Rr"
   },
   "source": [
    "## Learning a CNN\n"
   ]
  },
  {
   "cell_type": "markdown",
   "metadata": {
    "id": "JAdR6-rEZhwP"
   },
   "source": [
    "Define an arbitrary CNN!"
   ]
  },
  {
   "cell_type": "code",
   "metadata": {
    "id": "qXOjKcavZh5w"
   },
   "source": [
    "cnn = tf.keras.models.Sequential([\n",
    "\n",
    "])"
   ],
   "execution_count": null,
   "outputs": []
  },
  {
   "cell_type": "markdown",
   "metadata": {
    "id": "JOKSm9h5jW-K"
   },
   "source": [
    "Define hyperparameters, cost function (loss) and optimizer!"
   ]
  },
  {
   "cell_type": "code",
   "metadata": {
    "id": "wGcABtgQjYNF"
   },
   "source": [],
   "execution_count": null,
   "outputs": []
  },
  {
   "cell_type": "markdown",
   "metadata": {
    "id": "4fWj-6hYjYc-"
   },
   "source": [
    "Compile the model and train it on the training set!\n",
    "\n",
    "Note: Add the `callbacks` argument to the `fit()` method to track your training in tensorboard!"
   ]
  },
  {
   "cell_type": "code",
   "metadata": {
    "id": "zu74lQ6_jdxQ"
   },
   "source": [],
   "execution_count": null,
   "outputs": []
  },
  {
   "cell_type": "markdown",
   "metadata": {
    "id": "rxOPmQH26CUx"
   },
   "source": [
    "Start tensorboard and have a look at the training process!\n",
    "\n",
    "Note: You can also run tensorboard before the training for live-tracking."
   ]
  },
  {
   "cell_type": "code",
   "metadata": {
    "id": "DIVWYJjQ6Ce-"
   },
   "source": [
    "%tensorboard --logdir logs"
   ],
   "execution_count": null,
   "outputs": []
  },
  {
   "cell_type": "markdown",
   "metadata": {
    "id": "2VXe5dEGkKAX"
   },
   "source": [
    "Evaluate the performance of your classifier! It should achieve high accuracy (> 98%) on the test set!\n",
    "\n",
    "You might adjust the model architecture and/or the hyperparameters if you don't make it above 98% accuracy."
   ]
  },
  {
   "cell_type": "code",
   "metadata": {
    "id": "FjIEiItmkKIo"
   },
   "source": [],
   "execution_count": null,
   "outputs": []
  },
  {
   "cell_type": "markdown",
   "metadata": {
    "id": "D6uLwS-Cjpdi"
   },
   "source": [
    "Use the test set and take the outputs of the penultimate fully connected layer (not the logits!) and visualize it with t-SNE!\n",
    "\n",
    "<br>\n",
    "\n",
    "Hint: Have a look in the [Keras FAQ Documentation](https://keras.io/getting_started/faq/#how-can-i-obtain-the-output-of-an-intermediate-layer-feature-extraction) to find out how to get intermediate outputs of any layer."
   ]
  },
  {
   "cell_type": "code",
   "metadata": {
    "id": "L76gOLA19YvX"
   },
   "source": [
    "# Make predictions for the test set and convert them back to categorical\n",
    "\n",
    "\n"
   ],
   "execution_count": null,
   "outputs": []
  },
  {
   "cell_type": "code",
   "metadata": {
    "id": "yga4_DPtI5Cy"
   },
   "source": [
    "# Build a model for the outputs of the penultimate fully connected layer\n",
    "\n",
    "\n"
   ],
   "execution_count": null,
   "outputs": []
  },
  {
   "cell_type": "code",
   "metadata": {
    "id": "33OaS6iWJW2y"
   },
   "source": [
    "# Instantiate and fit t-SNE\n",
    "tsne = TSNE(2, verbose=1)\n",
    "tsne_proj = tsne.fit_transform(intermediate_output.numpy())"
   ],
   "execution_count": null,
   "outputs": []
  },
  {
   "cell_type": "code",
   "metadata": {
    "id": "VZxFlXd1KQTl"
   },
   "source": [
    "# Plot t-SNE projections\n",
    "cmap = cm.get_cmap('tab20')\n",
    "n_classes = 10\n",
    "for label in range(n_classes):\n",
    "    idx = cat_y_pred == label\n",
    "    plt.scatter(tsne_proj[idx, 0], tsne_proj[idx, 1], c=np.array(cmap(label)).reshape(1, 4), label=label, alpha=0.5)\n",
    "plt.show()"
   ],
   "execution_count": null,
   "outputs": []
  },
  {
   "cell_type": "code",
   "metadata": {
    "id": "2QZi-6iG-8bk"
   },
   "source": [],
   "execution_count": null,
   "outputs": []
  }
 ]
}
