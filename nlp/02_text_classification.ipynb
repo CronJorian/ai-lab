{
  "cells": [
    {
      "cell_type": "markdown",
      "metadata": {
        "id": "URsEpKN3YYXF"
      },
      "source": [
        "# Text Klassifikation - Sentiment Analyse\n",
        "\n",
        "In diesem Notebook möchten wir uns mit der Klassifikation von Texten beschäftigen. Vereinfacht gesagt beschäftigt sich Sentiment Analysis damit, natürlichsprachliche Aussagen dahingehend zu bewerten, ob die subjektive Aussage des Sprechers positiv oder negativ wertend gemeint ist.\n",
        "\n",
        "Zu diesem Zweck haben wir den Datensatz von _Sentiment140_, einem Projekt der Stanford University, ausgewählt. Er beinhaltet 16 Millionen Tweets, die aufgrund der enthaltenen Emoticons automatisch in positiv und negativ eingeteilt wurden.\n",
        "\n",
        "---\n",
        "\n",
        "Dieses Notebook gliedert sich in die folgenden Teile:\n",
        "\n",
        "1. Datenanalyse und Preprocessing\n",
        "2. Tokenisierung & Vokabular\n",
        "3. Klassifikation\n",
        "4. Klassifikation mit huggingface transformers\n"
      ]
    },
    {
      "cell_type": "code",
      "execution_count": 136,
      "metadata": {
        "id": "baoj_cXFHCqr"
      },
      "outputs": [
        {
          "data": {
            "text/plain": [
              "'2.10.0'"
            ]
          },
          "execution_count": 136,
          "metadata": {},
          "output_type": "execute_result"
        }
      ],
      "source": [
        "import tensorflow as tf\n",
        "\n",
        "tf.__version__\n"
      ]
    },
    {
      "cell_type": "markdown",
      "metadata": {
        "id": "ZLSIuUHq-qc_"
      },
      "source": [
        "## 0. Vorbereitung"
      ]
    },
    {
      "cell_type": "markdown",
      "metadata": {
        "id": "xyE-j8e1_qTw"
      },
      "source": [
        "Als erstes muss der Datensatz von http://help.sentiment140.com/for-students in diese Colab Virtual Machine geladen werden.\n"
      ]
    },
    {
      "cell_type": "code",
      "execution_count": 137,
      "metadata": {
        "id": "qzK4XN9vBBWz"
      },
      "outputs": [
        {
          "name": "stderr",
          "output_type": "stream",
          "text": [
            "Syntaxfehler.\n",
            "Downloading...\n",
            "From: https://drive.google.com/uc?id=0B04GJPshIjmPRnZManQwWEdTZjg\n",
            "To: c:\\repositories\\ai-lab\\nlp\\download\\sentiment140.zip\n",
            "100%|██████████| 81.4M/81.4M [00:13<00:00, 6.17MB/s]\n"
          ]
        },
        {
          "data": {
            "text/plain": [
              "'./download/sentiment140.zip'"
            ]
          },
          "execution_count": 137,
          "metadata": {},
          "output_type": "execute_result"
        }
      ],
      "source": [
        "from gdown import download\n",
        "\n",
        "!mkdir ./download\n",
        "\n",
        "download(id=\"0B04GJPshIjmPRnZManQwWEdTZjg\", output=\"./download/sentiment140.zip\")"
      ]
    },
    {
      "cell_type": "code",
      "execution_count": 138,
      "metadata": {
        "id": "NY_uOpPsAfSQ"
      },
      "outputs": [],
      "source": [
        "DATA_DIR = \"./download/sentiment140\"\n"
      ]
    },
    {
      "cell_type": "code",
      "execution_count": 139,
      "metadata": {
        "id": "87ZXB6FoBV_y"
      },
      "outputs": [
        {
          "name": "stderr",
          "output_type": "stream",
          "text": [
            "Syntaxfehler.\n"
          ]
        },
        {
          "name": "stdout",
          "output_type": "stream",
          "text": [
            "Archive:  ./download/sentiment140.zip\n"
          ]
        },
        {
          "name": "stderr",
          "output_type": "stream",
          "text": [
            "Der Befehl \"rm\" ist entweder falsch geschrieben oder\n",
            "konnte nicht gefunden werden.\n",
            "Der Befehl \"ls\" ist entweder falsch geschrieben oder\n",
            "konnte nicht gefunden werden.\n"
          ]
        }
      ],
      "source": [
        "!mkdir -p {DATA_DIR}\n",
        "!unzip -n {DATA_DIR}.zip -d {DATA_DIR}\n",
        "!rm {DATA_DIR}.zip\n",
        "!ls -la {DATA_DIR}"
      ]
    },
    {
      "cell_type": "markdown",
      "metadata": {
        "id": "O-W8Qq9m-YPu"
      },
      "source": [
        "## 1. Datenbeschaffung und -Analyse\n",
        "\n",
        "Im ersten Schritt sollen folgende Schritte durchgeführt werden.\n"
      ]
    },
    {
      "cell_type": "code",
      "execution_count": 140,
      "metadata": {
        "id": "0n-sY1uc2Nsl"
      },
      "outputs": [],
      "source": [
        "import pandas as pd\n",
        "import os\n"
      ]
    },
    {
      "cell_type": "markdown",
      "metadata": {
        "id": "OBZTmJUC2NyU"
      },
      "source": [
        "1. Ladet den Datensatz in einen Pandas Dataframe. Welche Feature gibt es? Wie viele Samples gibt es?\n"
      ]
    },
    {
      "cell_type": "markdown",
      "metadata": {},
      "source": [
        "> The data is a CSV with emoticons removed. Data file format has 6 fields:\n",
        ">\n",
        "> 1. the polarity of the tweet (0 = negative, 2 = neutral, 4 = positive)\n",
        "> 2. the id of the tweet (2087)\n",
        "> 3. the date of the tweet (Sat May 16 23:58:44 UTC 2009)\n",
        "> 4. the query (lyx). If there is no query, then this value is NO_QUERY.\n",
        "> 5. the user that tweeted (robotickilldozr)\n",
        "> 6. the text of the tweet (Lyx is cool)\n"
      ]
    },
    {
      "cell_type": "markdown",
      "metadata": {},
      "source": [
        "The dataset has 1.6 million samples.\n"
      ]
    },
    {
      "cell_type": "markdown",
      "metadata": {},
      "source": [
        "2. Da wir uns nur für die Felder `polarity` und `text` interessieren, sollte die Liste mit den Daten folgendes Format haben : `id => (polarity, text)`.\n"
      ]
    },
    {
      "cell_type": "code",
      "execution_count": 141,
      "metadata": {
        "id": "RRWljU0LYYXJ"
      },
      "outputs": [],
      "source": [
        "# http://help.sentiment140.com/for-students\n",
        "df = pd.read_csv(\n",
        "    rf\"{DATA_DIR}/training.1600000.processed.noemoticon.csv\",\n",
        "    encoding=\"latin-1\",\n",
        "    index_col=1,\n",
        "    usecols=[0, 1, 5],\n",
        "    names=[\"polarity\", \"id\", \"text\"],\n",
        "    converters={0: int, 1: int, 5: str},\n",
        ")  # TODO\n"
      ]
    },
    {
      "cell_type": "markdown",
      "metadata": {},
      "source": [
        "3. Wandelt diese Werte in 1 (positiv) und 0 (negativ).\n"
      ]
    },
    {
      "cell_type": "code",
      "execution_count": 142,
      "metadata": {},
      "outputs": [
        {
          "data": {
            "text/plain": [
              "array([0, 4], dtype=int64)"
            ]
          },
          "execution_count": 142,
          "metadata": {},
          "output_type": "execute_result"
        }
      ],
      "source": [
        "df[\"polarity\"].unique()\n"
      ]
    },
    {
      "cell_type": "code",
      "execution_count": 143,
      "metadata": {},
      "outputs": [],
      "source": [
        "df.loc[df[\"polarity\"] == 4] = 1\n"
      ]
    },
    {
      "cell_type": "code",
      "execution_count": 144,
      "metadata": {},
      "outputs": [],
      "source": [
        "df = df.astype({\"text\": str})\n"
      ]
    },
    {
      "cell_type": "code",
      "execution_count": 145,
      "metadata": {},
      "outputs": [
        {
          "data": {
            "text/html": [
              "<div>\n",
              "<style scoped>\n",
              "    .dataframe tbody tr th:only-of-type {\n",
              "        vertical-align: middle;\n",
              "    }\n",
              "\n",
              "    .dataframe tbody tr th {\n",
              "        vertical-align: top;\n",
              "    }\n",
              "\n",
              "    .dataframe thead th {\n",
              "        text-align: right;\n",
              "    }\n",
              "</style>\n",
              "<table border=\"1\" class=\"dataframe\">\n",
              "  <thead>\n",
              "    <tr style=\"text-align: right;\">\n",
              "      <th></th>\n",
              "      <th>polarity</th>\n",
              "      <th>text</th>\n",
              "    </tr>\n",
              "    <tr>\n",
              "      <th>id</th>\n",
              "      <th></th>\n",
              "      <th></th>\n",
              "    </tr>\n",
              "  </thead>\n",
              "  <tbody>\n",
              "    <tr>\n",
              "      <th>1467810369</th>\n",
              "      <td>0</td>\n",
              "      <td>@switchfoot http://twitpic.com/2y1zl - Awww, t...</td>\n",
              "    </tr>\n",
              "    <tr>\n",
              "      <th>1467810672</th>\n",
              "      <td>0</td>\n",
              "      <td>is upset that he can't update his Facebook by ...</td>\n",
              "    </tr>\n",
              "    <tr>\n",
              "      <th>1467810917</th>\n",
              "      <td>0</td>\n",
              "      <td>@Kenichan I dived many times for the ball. Man...</td>\n",
              "    </tr>\n",
              "    <tr>\n",
              "      <th>1467811184</th>\n",
              "      <td>0</td>\n",
              "      <td>my whole body feels itchy and like its on fire</td>\n",
              "    </tr>\n",
              "    <tr>\n",
              "      <th>1467811193</th>\n",
              "      <td>0</td>\n",
              "      <td>@nationwideclass no, it's not behaving at all....</td>\n",
              "    </tr>\n",
              "  </tbody>\n",
              "</table>\n",
              "</div>"
            ],
            "text/plain": [
              "            polarity                                               text\n",
              "id                                                                     \n",
              "1467810369         0  @switchfoot http://twitpic.com/2y1zl - Awww, t...\n",
              "1467810672         0  is upset that he can't update his Facebook by ...\n",
              "1467810917         0  @Kenichan I dived many times for the ball. Man...\n",
              "1467811184         0    my whole body feels itchy and like its on fire \n",
              "1467811193         0  @nationwideclass no, it's not behaving at all...."
            ]
          },
          "execution_count": 145,
          "metadata": {},
          "output_type": "execute_result"
        }
      ],
      "source": [
        "df.head()\n"
      ]
    },
    {
      "cell_type": "markdown",
      "metadata": {},
      "source": [
        "4. Fügt eine Spalte für die Anzahl an Wörtern im Text hinzu.\n"
      ]
    },
    {
      "cell_type": "code",
      "execution_count": 146,
      "metadata": {},
      "outputs": [
        {
          "name": "stdout",
          "output_type": "stream",
          "text": [
            "Mean tweet length: 7.290991875\n"
          ]
        }
      ],
      "source": [
        "df[\"word_count\"] = df[\"text\"].str.strip().str.split().str.len()  # TODO\n",
        "print(f'Mean tweet length: {df[\"word_count\"].describe()[\"mean\"]}')\n"
      ]
    },
    {
      "cell_type": "markdown",
      "metadata": {},
      "source": [
        "5. Analysiert den Datensatz mit den Pandas Boardmitteln.\n"
      ]
    },
    {
      "cell_type": "code",
      "execution_count": 147,
      "metadata": {},
      "outputs": [
        {
          "data": {
            "text/plain": [
              "polarity      0\n",
              "text          0\n",
              "word_count    0\n",
              "dtype: int64"
            ]
          },
          "execution_count": 147,
          "metadata": {},
          "output_type": "execute_result"
        }
      ],
      "source": [
        "# check whether all text was countable\n",
        "df.isna().sum()\n"
      ]
    },
    {
      "cell_type": "code",
      "execution_count": 148,
      "metadata": {},
      "outputs": [
        {
          "data": {
            "text/html": [
              "<div>\n",
              "<style scoped>\n",
              "    .dataframe tbody tr th:only-of-type {\n",
              "        vertical-align: middle;\n",
              "    }\n",
              "\n",
              "    .dataframe tbody tr th {\n",
              "        vertical-align: top;\n",
              "    }\n",
              "\n",
              "    .dataframe thead th {\n",
              "        text-align: right;\n",
              "    }\n",
              "</style>\n",
              "<table border=\"1\" class=\"dataframe\">\n",
              "  <thead>\n",
              "    <tr style=\"text-align: right;\">\n",
              "      <th></th>\n",
              "      <th>polarity</th>\n",
              "      <th>word_count</th>\n",
              "    </tr>\n",
              "  </thead>\n",
              "  <tbody>\n",
              "    <tr>\n",
              "      <th>count</th>\n",
              "      <td>1600000.0</td>\n",
              "      <td>1.600000e+06</td>\n",
              "    </tr>\n",
              "    <tr>\n",
              "      <th>mean</th>\n",
              "      <td>0.5</td>\n",
              "      <td>7.290992e+00</td>\n",
              "    </tr>\n",
              "    <tr>\n",
              "      <th>std</th>\n",
              "      <td>0.5</td>\n",
              "      <td>8.037034e+00</td>\n",
              "    </tr>\n",
              "    <tr>\n",
              "      <th>min</th>\n",
              "      <td>0.0</td>\n",
              "      <td>1.000000e+00</td>\n",
              "    </tr>\n",
              "    <tr>\n",
              "      <th>25%</th>\n",
              "      <td>0.0</td>\n",
              "      <td>1.000000e+00</td>\n",
              "    </tr>\n",
              "    <tr>\n",
              "      <th>50%</th>\n",
              "      <td>0.5</td>\n",
              "      <td>1.000000e+00</td>\n",
              "    </tr>\n",
              "    <tr>\n",
              "      <th>75%</th>\n",
              "      <td>1.0</td>\n",
              "      <td>1.300000e+01</td>\n",
              "    </tr>\n",
              "    <tr>\n",
              "      <th>max</th>\n",
              "      <td>1.0</td>\n",
              "      <td>5.700000e+01</td>\n",
              "    </tr>\n",
              "  </tbody>\n",
              "</table>\n",
              "</div>"
            ],
            "text/plain": [
              "        polarity    word_count\n",
              "count  1600000.0  1.600000e+06\n",
              "mean         0.5  7.290992e+00\n",
              "std          0.5  8.037034e+00\n",
              "min          0.0  1.000000e+00\n",
              "25%          0.0  1.000000e+00\n",
              "50%          0.5  1.000000e+00\n",
              "75%          1.0  1.300000e+01\n",
              "max          1.0  5.700000e+01"
            ]
          },
          "execution_count": 148,
          "metadata": {},
          "output_type": "execute_result"
        }
      ],
      "source": [
        "df.describe()\n"
      ]
    },
    {
      "cell_type": "markdown",
      "metadata": {
        "id": "nVZCgmAnYYXV"
      },
      "source": [
        "## 2. Tokenisierung\n",
        "\n",
        "Um einen Einblick in die Daten zu bekommen und um später ein Modell zur Sentiment Analyse trainieren zu können, sollen die Daten nun aufbereitet werden. Da die sinntragenden Elemente in den Tweets die Wörter sind, sollten Sie die Tweets in Wörter aufteilen. Um genau zu sein, ist der Term 'Wörter' hier aus linguistischer Sicht etwas falsch, man spricht eigentlich von Tokens. Daher nennt man das Aufteilen von Text auch Tokenizing und die Funktion, die sowas kann, Tokenizer.\n",
        "\n",
        "1. Der allereinfachste Tokenizer ist vermutlich die `split` Methode. Tokenisiert damit die eingelesen Tweets. Am Ende solltet ihr eine Liste `tokenized = [(polarity, [token_1,token_2, ...])]` erhalten.\n"
      ]
    },
    {
      "cell_type": "code",
      "execution_count": 149,
      "metadata": {
        "id": "esbcYU6hYYXX"
      },
      "outputs": [],
      "source": [
        "df[\"tokenized\"] = df[\"text\"].str.split()  # TODO\n"
      ]
    },
    {
      "cell_type": "markdown",
      "metadata": {
        "id": "U2V0tecoYYXe"
      },
      "source": [
        "Abgesehen von natürlichsprachlichen Wörtern sind in Tweets mindestens auch Hashtags, Mentions und Links enthalten. Überlegt euch, ob es Sinn ergibt, alle diese Bestandteile in den Daten in dieser From zu behalten. Begründet kurz Ihre Entscheidungen.\n",
        "Falls ihr euch entschlossen habt, nicht alle diese Bestandteile zu behalten, filtert dementsprechend eure Daten. Die Struktur Ihrer Daten sollte am Ende gleich bleiben: `df['cleaned'] = [token_1,...]`\n"
      ]
    },
    {
      "cell_type": "code",
      "execution_count": 150,
      "metadata": {
        "id": "-tPma3rxvLQ6"
      },
      "outputs": [],
      "source": [
        "import re\n",
        "\n",
        "expression = re.compile(\n",
        "    r\"[-a-zA-Z0-9@:%._\\+~#=]{1,256}\\.[a-zA-Z0-9()]{1,6}\\b([-a-zA-Z0-9()@:%_\\+.~#?&//=]*)\"\n",
        ")\n",
        "df[\"stripped\"] = df[\"tokenized\"].apply(\n",
        "    lambda tokens: [\n",
        "        \"USER_TOKEN\"\n",
        "        if str.startswith(token, \"@\")\n",
        "        else \"HASHTAG_TOKEN\"\n",
        "        if str.startswith(token, \"#\")\n",
        "        else \"URL_TOKEN\"\n",
        "        if bool(expression.search(token))\n",
        "        else token\n",
        "        for token in tokens\n",
        "    ]\n",
        ")  # TODO\n"
      ]
    },
    {
      "cell_type": "markdown",
      "metadata": {},
      "source": [
        "Zählt die Tokens in eurem Datensatz. Benutzt dafür ein Dictionary oder andere Python Build-Ins.\n"
      ]
    },
    {
      "cell_type": "code",
      "execution_count": 151,
      "metadata": {},
      "outputs": [],
      "source": [
        "value_counts = pd.value_counts([token for tokens in df[\"stripped\"] for token in tokens])\n"
      ]
    },
    {
      "cell_type": "markdown",
      "metadata": {},
      "source": [
        "1. Wieviele unterschiedliche Wörter gibt es?\n"
      ]
    },
    {
      "cell_type": "code",
      "execution_count": null,
      "metadata": {},
      "outputs": [
        {
          "data": {
            "text/plain": [
              "459777"
            ]
          },
          "execution_count": 17,
          "metadata": {},
          "output_type": "execute_result"
        }
      ],
      "source": [
        "len(value_counts)\n"
      ]
    },
    {
      "cell_type": "markdown",
      "metadata": {},
      "source": [
        "2. Gebt die 100 häufigsten Wörter sortiert aus.\n"
      ]
    },
    {
      "cell_type": "code",
      "execution_count": null,
      "metadata": {},
      "outputs": [
        {
          "data": {
            "text/plain": [
              "Index(['1', 'USER_TOKEN', 'to', 'I', 'the', 'a', 'my', 'i', 'and', 'is', 'in',\n",
              "       'URL_TOKEN', 'for', 'it', 'of', 'have', 'on', 'you', 'so', 'me', 'but',\n",
              "       'that', 'not', 'at', 'be', 'I'm', 'was', 'just', 'with', 'get', 'this',\n",
              "       'go', 'up', 'like', 'out', 'no', 'all', 'work', 'are', 'now', 'got',\n",
              "       'do', 'going', 'don't', 'miss', 'want', 'from', 'day', 'really',\n",
              "       'can't', 'back', '-', 'too', 'am', 'about', 'had', 'still', 'im',\n",
              "       'it's', 'one', 'know', 'feel', '2', 'will', 'when', 'its', 'good',\n",
              "       'think', 'need', 'last', 'your', 'My', 'today', 'has', 'time', 'see',\n",
              "       'u', 'what', 'we', 'been', 'HASHTAG_TOKEN', 'sad', '&amp;', 'wish',\n",
              "       'can', 'some', 'they', 'as', 'an', 'home', 'bad', 'more', 'much', 'i'm',\n",
              "       'if', 'how', 'only', 'hate', 'her', 'off'],\n",
              "      dtype='object')"
            ]
          },
          "execution_count": 18,
          "metadata": {},
          "output_type": "execute_result"
        }
      ],
      "source": [
        "value_counts.index[:100]\n"
      ]
    },
    {
      "cell_type": "markdown",
      "metadata": {},
      "source": [
        "Was zieht ihr aus den beiden Analysen? Was müsst ihr zusätzlich noch filtern?\n"
      ]
    },
    {
      "cell_type": "markdown",
      "metadata": {
        "id": "WB9skQUN2oPe"
      },
      "source": [
        "> Stopwörter sollten auch noch gefiltert werden. Je nach dem kommt es außerdem auf den gewünschten Task am Ende an.\n"
      ]
    },
    {
      "cell_type": "markdown",
      "metadata": {
        "id": "pm76wuIZzhGC"
      },
      "source": [
        "Eine Möglichkeit für komplexere Preprocessing-Methoden ist das Entfernen von Stoppwörtern. Hiefür nutzen wir NLTK.\n",
        "\n",
        "Filtert eure gesäuberten Tokens auf Stopwörter.\n"
      ]
    },
    {
      "cell_type": "code",
      "execution_count": null,
      "metadata": {
        "id": "N4K-ZoYRzf2B"
      },
      "outputs": [],
      "source": [
        "import nltk\n"
      ]
    },
    {
      "cell_type": "code",
      "execution_count": null,
      "metadata": {
        "id": "gkETxK9Ezsb8"
      },
      "outputs": [],
      "source": [
        "# df['cleaned'] = nltk.word_tokenize(df[\"text\"]) # TODO\n",
        "tweet_tokenizer = nltk.TweetTokenizer()\n",
        "df[\"cleaned\"] = df[\"text\"].apply(tweet_tokenizer.tokenize)\n"
      ]
    },
    {
      "cell_type": "code",
      "execution_count": null,
      "metadata": {},
      "outputs": [
        {
          "data": {
            "text/plain": [
              "id\n",
              "1467810369    [@switchfoot, http://twitpic.com/2y1zl, -, Aww...\n",
              "1467810672    [is, upset, that, he, can't, update, his, Face...\n",
              "1467810917    [@Kenichan, I, dived, many, times, for, the, b...\n",
              "1467811184    [my, whole, body, feels, itchy, and, like, its...\n",
              "1467811193    [@nationwideclass, no, ,, it's, not, behaving,...\n",
              "                                    ...                        \n",
              "2193601966                                                  [1]\n",
              "2193601969                                                  [1]\n",
              "2193601991                                                  [1]\n",
              "2193602064                                                  [1]\n",
              "2193602129                                                  [1]\n",
              "Name: cleaned, Length: 1600000, dtype: object"
            ]
          },
          "execution_count": 21,
          "metadata": {},
          "output_type": "execute_result"
        }
      ],
      "source": [
        "df[\"cleaned\"]\n"
      ]
    },
    {
      "cell_type": "markdown",
      "metadata": {
        "id": "1BSWVNV0YYXu"
      },
      "source": [
        "## 3. Klassifikation\n",
        "\n",
        "Wie Eingangs erwähnt, beschäftigt sich Sentiment Analysis damit, eine Äußerung automatisch dahingehend zu klassifizieren,\n",
        "ob der Inhalt positiv oder negativ gemeint ist.\n",
        "Es handelt sich also um eine binäre Klassifikation.\n",
        "\n",
        "Für das Training des neuronalen Netzes orintiert sich der nachfolgende Teil an _Keras_ als Framework. Ihr könnt aber auch ein anderes Framework wie bspw. _Pytorch_ benutzen.\n",
        "\n",
        "Aktuell liegen unsere Daten zwar in tokenisierter und gesäuberter Form vor, wir müssen unsere Daten aber noch in Vektoren transformieren.\n",
        "\n",
        "Für die erste Klassifikation encoden wir die Eingabe als **Bag-of-Words**, sodass jedes potentielle Wort einem Eingabeneuron einspricht. _Ein Beispiel_: Zwei Tweets \"lorem ipsum\" und \"foo foo bar\", die Vektoren hätten die Länge 4 und für den ersten Tweet wäre der Vektor [1,1,0,0], für den zweiten [0,0,2,1].\n"
      ]
    },
    {
      "cell_type": "markdown",
      "metadata": {
        "id": "pIh-IUrCetfp"
      },
      "source": [
        "### 3.1 Vokabular\n",
        "\n",
        "Befüllt das dictionary `word2idx` so, dass jedes Wort auf einen Index abgebildet wird und die Indizes streng monoton aufsteigend sind. Für das Beispiel oben wäre `word2idx = {\"lorem\": 0, \"ipsum\": 1, \"foo\": 3, \"bar\": 4}`\n"
      ]
    },
    {
      "cell_type": "code",
      "execution_count": null,
      "metadata": {
        "id": "aj0I7deSYYXx"
      },
      "outputs": [],
      "source": [
        "word2idx = {word: index for index, word in enumerate(pd.value_counts([token for tokens in df[\"cleaned\"] for token in tokens]).index)}  # TODO\n"
      ]
    },
    {
      "cell_type": "markdown",
      "metadata": {
        "id": "wShRcQcfYYX2"
      },
      "source": [
        "Welche Länge werden die Vektoren haben?\n"
      ]
    },
    {
      "cell_type": "code",
      "execution_count": null,
      "metadata": {
        "id": "eM8DyIgNYYX4"
      },
      "outputs": [],
      "source": [
        "VECTOR_LEN = len(word2idx) # TODO"
      ]
    },
    {
      "cell_type": "markdown",
      "metadata": {
        "id": "fc65A8wwYYX9"
      },
      "source": [
        "Wir könnten mit `numpy` ein Array befüllen, das für jeden der 16 Millionen Tweets einen Vektor wie oben beschrieben enthält.\n",
        "Bevor ihr damit beginnen, überschlagt, wieviel Speicherplatz (im Hauptspeicher) ein solches Array belegen würde, wenn jeder Eintrag 32 bit hat. Reicht euer Hauptspeicher dafür aus?\n"
      ]
    },
    {
      "cell_type": "code",
      "execution_count": null,
      "metadata": {
        "id": "aYODrE0LYYX_"
      },
      "outputs": [
        {
          "name": "stdout",
          "output_type": "stream",
          "text": [
            "Das numpy Array würde 27.14 TB benötigen\n"
          ]
        }
      ],
      "source": [
        "MEMORY = VECTOR_LEN * 16_000_000 * 32 # TODO\n",
        "print(f\"Das numpy Array würde {(MEMORY / 8 / (1024 **4)):.2f} TB benötigen\")"
      ]
    },
    {
      "cell_type": "markdown",
      "metadata": {
        "id": "iGTNZMlIYYYD"
      },
      "source": [
        "### 3.2 Data Generator\n",
        "\n",
        "Um das Problem mit dem zu kleinen Hauptspeicher zu umgehen, bietet Keras die Möglichkeit, anstatt auf einem kompletten Datensatz zu operieren, immer nur kleinere Häppchen abzuarbeiten. Dazu wird ein Python-Generator eingesetzt.\n",
        "Vervollständigt die Funktion unten, so dass ein Generator entsteht. Die Parameter der Funktion sind:\n",
        "\n",
        "- x, y: tokenisierte und gesäuberte Tweets und Labels\n",
        "- w2i: das word2index dictionary\n",
        "- batch_size: Anzahl der vektorisierten Tweets, die pro Aufruf zurückgegeben werden sollen.\n",
        "\n",
        "Die benutzen Tweets nacheinander aus `x, y` gewählt werden und kein Tweet mehrfach zurückgegeben werden.\n"
      ]
    },
    {
      "cell_type": "code",
      "execution_count": null,
      "metadata": {
        "id": "mRVPs_ZlYYYF"
      },
      "outputs": [],
      "source": [
        "import random\n",
        "import numpy as np\n",
        "\n",
        "def data_generator(x, y, w2i, batch_size):\n",
        "  num_batches = int(np.ceil(len(x) / batch_size)) # TODO\n",
        "  current_batch = 0\n",
        "\n",
        "  while True:\n",
        "    # Initialize with zeros\n",
        "    batch_x = np.zeros((batch_size, len(w2i.keys())))\n",
        "    batch_y = np.zeros((batch_size, 1))\n",
        "\n",
        "    # TODO\n",
        "    # Iterate batches\n",
        "    start_index = current_batch * batch_size\n",
        "    for i in range(start_index, start_index + batch_size):\n",
        "      # Add to _batch_x_ at index of _np.vectorize_ value _1_ for each found index \n",
        "      np.add.at(batch_x[i - start_index], np.vectorize(lambda word: w2i[word])(x[i]), 1)\n",
        "      batch_y[i - start_index] = y[i]\n",
        "\n",
        "    current_batch += 1\n",
        "    yield batch_x, batch_y\n",
        "\n",
        "    # Reset counter\n",
        "    if current_batch >= num_batches:\n",
        "      current_batch = 0"
      ]
    },
    {
      "cell_type": "code",
      "execution_count": null,
      "metadata": {
        "id": "ETv9mEIhYYYM"
      },
      "outputs": [],
      "source": [
        "BATCH_SIZE = 32\n",
        "\n",
        "gen = data_generator(\n",
        "    df[\"cleaned\"].to_numpy(), df[\"polarity\"].to_numpy(), word2idx, BATCH_SIZE\n",
        ")  # TODO\n"
      ]
    },
    {
      "cell_type": "markdown",
      "metadata": {
        "id": "VwLI3pTcYYYK"
      },
      "source": [
        "Ihr könnt euren Generator wie folgt ausprobieren:\n"
      ]
    },
    {
      "cell_type": "code",
      "execution_count": null,
      "metadata": {
        "id": "ZEh0__Ljyk8x"
      },
      "outputs": [
        {
          "data": {
            "text/plain": [
              "(array([[0., 2., 0., ..., 0., 0., 0.],\n",
              "        [0., 1., 1., ..., 0., 0., 0.],\n",
              "        [0., 1., 0., ..., 0., 0., 0.],\n",
              "        ...,\n",
              "        [0., 1., 0., ..., 0., 0., 0.],\n",
              "        [1., 0., 0., ..., 0., 0., 0.],\n",
              "        [0., 0., 0., ..., 0., 0., 0.]]),\n",
              " array([[0.],\n",
              "        [0.],\n",
              "        [0.],\n",
              "        [0.],\n",
              "        [0.],\n",
              "        [0.],\n",
              "        [0.],\n",
              "        [0.],\n",
              "        [0.],\n",
              "        [0.],\n",
              "        [0.],\n",
              "        [0.],\n",
              "        [0.],\n",
              "        [0.],\n",
              "        [0.],\n",
              "        [0.],\n",
              "        [0.],\n",
              "        [0.],\n",
              "        [0.],\n",
              "        [0.],\n",
              "        [0.],\n",
              "        [0.],\n",
              "        [0.],\n",
              "        [0.],\n",
              "        [0.],\n",
              "        [0.],\n",
              "        [0.],\n",
              "        [0.],\n",
              "        [0.],\n",
              "        [0.],\n",
              "        [0.],\n",
              "        [0.]]))"
            ]
          },
          "execution_count": 132,
          "metadata": {},
          "output_type": "execute_result"
        }
      ],
      "source": [
        "next(gen)\n"
      ]
    },
    {
      "cell_type": "markdown",
      "metadata": {
        "id": "b1qy5nlEYYYW"
      },
      "source": [
        "### 3.3 Neuronales Netz\n",
        "\n",
        "Wir sind nun endlich soweit, unser neuronales Netz aufzubauen. Da unser Netz genau ein hidden Layer hat und auch sonst nicht sonderlich komplex ist, benutzen wir die _Sequential_-API von Keras.\n"
      ]
    },
    {
      "cell_type": "code",
      "execution_count": null,
      "metadata": {
        "id": "VY_sZSc1YYYX"
      },
      "outputs": [],
      "source": [
        "from tensorflow.keras.models import Sequential\n",
        "from tensorflow.keras.layers import Dense\n",
        "\n",
        "m = Sequential()\n"
      ]
    },
    {
      "cell_type": "markdown",
      "metadata": {
        "id": "rcE9-qJxYYYc"
      },
      "source": [
        "Fügt einen _Dense_-Layer dem Netz hinzu, als _hidden units_ könnt ihr 16 nehmen. Da dies auch der Eingabe-Layer ist, müsst ihr den Parameter `input_shape` definieren. (Siehe auch: https://keras.io/layers/core/)\n"
      ]
    },
    {
      "cell_type": "code",
      "execution_count": null,
      "metadata": {
        "id": "uWkgD9ACYYYd"
      },
      "outputs": [],
      "source": [
        "m.add(Dense(16, input_shape=(VECTOR_LEN,)))  # TODO\n"
      ]
    },
    {
      "cell_type": "markdown",
      "metadata": {
        "id": "LnqAOXj5YYYi"
      },
      "source": [
        "Als letzten Layer in unserem neuronalen Netz, fügt einen weiteren _Dense_-Layer hinzu. Dieser Layer dient auch als \"Ausgabelayer\" Überlegt euch die Anzahl der _hidden units_ (Hinweis: Wie lässt sich unser Machine-Learning-Problem kategorisieren?) Welche _Activation_-Funktion wählt ihr?\n"
      ]
    },
    {
      "cell_type": "code",
      "execution_count": null,
      "metadata": {
        "id": "-EdR3LgfYYYj"
      },
      "outputs": [],
      "source": [
        "m.add(Dense(1, activation=\"sigmoid\"))  # TODO\n"
      ]
    },
    {
      "cell_type": "markdown",
      "metadata": {
        "id": "JlSaW4I1YYYn"
      },
      "source": [
        "7. Kompiliert das neuronale Netz. Als `optimizer` könnt ihr 'adam' benutzen. Wählt eine passende `loss`-Funktion aus. Begründet eure Entscheidung. (https://keras.io/models/model/#compile)\n"
      ]
    },
    {
      "cell_type": "code",
      "execution_count": null,
      "metadata": {
        "id": "0U54vEg-YYYo"
      },
      "outputs": [],
      "source": [
        "# TODO\n",
        "m.compile(optimizer=\"adam\", loss=\"binary_crossentropy\")\n"
      ]
    },
    {
      "cell_type": "markdown",
      "metadata": {
        "id": "Bpt8M2ynYYYs"
      },
      "source": [
        "### 3.3. Training\n",
        "\n",
        "Bevor ihr nun das neuronale Netz trainiert, teilt noch euren Datensatz in zwei Teile auf. Einen Teil zum Trainieren und einen zum Evaluieren. Das Verhältnis der beiden Datensätze sollte 70%:30% sein. Bevor ihr die Daten aufteilen, durchmischt sie mit der `shuffle`-Methode aus dem `random`-Modul. Außerdem solltet ihr die Datenmenge zunächst auf ca. 100000 begrenzen, damit das Training des neuronalen Netzes nicht ewig dauert.\n"
      ]
    },
    {
      "cell_type": "code",
      "execution_count": null,
      "metadata": {
        "id": "0TLMbqBDYYYt"
      },
      "outputs": [],
      "source": [
        "# TODO\n",
        "from sklearn.model_selection import train_test_split\n",
        "\n",
        "X_train, X_val, y_train, y_val = train_test_split(df[\"cleaned\"], df[\"polarity\"], test_size=0.3)\n"
      ]
    },
    {
      "cell_type": "markdown",
      "metadata": {
        "id": "POelfhirYYYx"
      },
      "source": [
        "Wir sind nun soweit das neuronale Netz zu trainieren. Da wir den oben entwickelten Generator einsetzen wollen, verwenden wir dazu die `fit_generator`-Methode. Als `batch_size` könnt ihr 100 nehmen, für den `epochs`-Parameter 10. Was wählt ihr als `steps_per_epoch`-Parameter? (https://keras.io/models/model/#fit_generator)\n"
      ]
    },
    {
      "cell_type": "code",
      "execution_count": 135,
      "metadata": {
        "id": "i0sWka05YYYy"
      },
      "outputs": [
        {
          "ename": "KeyError",
          "evalue": "0",
          "output_type": "error",
          "traceback": [
            "\u001b[1;31m---------------------------------------------------------------------------\u001b[0m",
            "\u001b[1;31mKeyError\u001b[0m                                  Traceback (most recent call last)",
            "\u001b[1;32mc:\\repositories\\ai-lab\\nlp\\02_text_classification.ipynb Zelle 64\u001b[0m in \u001b[0;36m<cell line: 9>\u001b[1;34m()\u001b[0m\n\u001b[0;32m      <a href='vscode-notebook-cell:/c%3A/repositories/ai-lab/nlp/02_text_classification.ipynb#Y120sZmlsZQ%3D%3D?line=5'>6</a>\u001b[0m train_steps \u001b[39m=\u001b[39m \u001b[39mint\u001b[39m(np\u001b[39m.\u001b[39mceil(\u001b[39mlen\u001b[39m(X_train) \u001b[39m/\u001b[39m BATCH_SIZE))\n\u001b[0;32m      <a href='vscode-notebook-cell:/c%3A/repositories/ai-lab/nlp/02_text_classification.ipynb#Y120sZmlsZQ%3D%3D?line=6'>7</a>\u001b[0m val_steps \u001b[39m=\u001b[39m \u001b[39mint\u001b[39m(np\u001b[39m.\u001b[39mceil(\u001b[39mlen\u001b[39m(X_val) \u001b[39m/\u001b[39m BATCH_SIZE))\n\u001b[1;32m----> <a href='vscode-notebook-cell:/c%3A/repositories/ai-lab/nlp/02_text_classification.ipynb#Y120sZmlsZQ%3D%3D?line=8'>9</a>\u001b[0m m\u001b[39m.\u001b[39;49mfit(x\u001b[39m=\u001b[39;49mtrain_gen, validation_data\u001b[39m=\u001b[39;49mval_gen, steps_per_epoch\u001b[39m=\u001b[39;49mtrain_steps, validation_steps\u001b[39m=\u001b[39;49mval_steps, epochs\u001b[39m=\u001b[39;49m\u001b[39m10\u001b[39;49m)  \u001b[39m# TODO\u001b[39;00m\n\u001b[0;32m     <a href='vscode-notebook-cell:/c%3A/repositories/ai-lab/nlp/02_text_classification.ipynb#Y120sZmlsZQ%3D%3D?line=9'>10</a>\u001b[0m \u001b[39mprint\u001b[39m(m\u001b[39m.\u001b[39msummary())\n",
            "File \u001b[1;32mc:\\Users\\Sebastian\\anaconda3\\lib\\site-packages\\keras\\utils\\traceback_utils.py:70\u001b[0m, in \u001b[0;36mfilter_traceback.<locals>.error_handler\u001b[1;34m(*args, **kwargs)\u001b[0m\n\u001b[0;32m     67\u001b[0m     filtered_tb \u001b[39m=\u001b[39m _process_traceback_frames(e\u001b[39m.\u001b[39m__traceback__)\n\u001b[0;32m     68\u001b[0m     \u001b[39m# To get the full stack trace, call:\u001b[39;00m\n\u001b[0;32m     69\u001b[0m     \u001b[39m# `tf.debugging.disable_traceback_filtering()`\u001b[39;00m\n\u001b[1;32m---> 70\u001b[0m     \u001b[39mraise\u001b[39;00m e\u001b[39m.\u001b[39mwith_traceback(filtered_tb) \u001b[39mfrom\u001b[39;00m \u001b[39mNone\u001b[39m\n\u001b[0;32m     71\u001b[0m \u001b[39mfinally\u001b[39;00m:\n\u001b[0;32m     72\u001b[0m     \u001b[39mdel\u001b[39;00m filtered_tb\n",
            "\u001b[1;32mc:\\repositories\\ai-lab\\nlp\\02_text_classification.ipynb Zelle 64\u001b[0m in \u001b[0;36mdata_generator\u001b[1;34m(x, y, w2i, batch_size)\u001b[0m\n\u001b[0;32m     <a href='vscode-notebook-cell:/c%3A/repositories/ai-lab/nlp/02_text_classification.ipynb#Y120sZmlsZQ%3D%3D?line=14'>15</a>\u001b[0m start_index \u001b[39m=\u001b[39m current_batch \u001b[39m*\u001b[39m batch_size\n\u001b[0;32m     <a href='vscode-notebook-cell:/c%3A/repositories/ai-lab/nlp/02_text_classification.ipynb#Y120sZmlsZQ%3D%3D?line=15'>16</a>\u001b[0m \u001b[39mfor\u001b[39;00m i \u001b[39min\u001b[39;00m \u001b[39mrange\u001b[39m(start_index, start_index \u001b[39m+\u001b[39m batch_size):\n\u001b[0;32m     <a href='vscode-notebook-cell:/c%3A/repositories/ai-lab/nlp/02_text_classification.ipynb#Y120sZmlsZQ%3D%3D?line=16'>17</a>\u001b[0m   \u001b[39m# Add to _batch_x_ at index of _np.vectorize_ value _1_ for each found index \u001b[39;00m\n\u001b[1;32m---> <a href='vscode-notebook-cell:/c%3A/repositories/ai-lab/nlp/02_text_classification.ipynb#Y120sZmlsZQ%3D%3D?line=17'>18</a>\u001b[0m   np\u001b[39m.\u001b[39madd\u001b[39m.\u001b[39mat(batch_x[i \u001b[39m-\u001b[39m start_index], np\u001b[39m.\u001b[39mvectorize(\u001b[39mlambda\u001b[39;00m word: w2i[word])(x[i]), \u001b[39m1\u001b[39m)\n\u001b[0;32m     <a href='vscode-notebook-cell:/c%3A/repositories/ai-lab/nlp/02_text_classification.ipynb#Y120sZmlsZQ%3D%3D?line=18'>19</a>\u001b[0m   batch_y[i \u001b[39m-\u001b[39m start_index] \u001b[39m=\u001b[39m y[i]\n\u001b[0;32m     <a href='vscode-notebook-cell:/c%3A/repositories/ai-lab/nlp/02_text_classification.ipynb#Y120sZmlsZQ%3D%3D?line=20'>21</a>\u001b[0m current_batch \u001b[39m+\u001b[39m\u001b[39m=\u001b[39m \u001b[39m1\u001b[39m\n",
            "File \u001b[1;32mc:\\Users\\Sebastian\\anaconda3\\lib\\site-packages\\pandas\\core\\series.py:958\u001b[0m, in \u001b[0;36mSeries.__getitem__\u001b[1;34m(self, key)\u001b[0m\n\u001b[0;32m    955\u001b[0m     \u001b[39mreturn\u001b[39;00m \u001b[39mself\u001b[39m\u001b[39m.\u001b[39m_values[key]\n\u001b[0;32m    957\u001b[0m \u001b[39melif\u001b[39;00m key_is_scalar:\n\u001b[1;32m--> 958\u001b[0m     \u001b[39mreturn\u001b[39;00m \u001b[39mself\u001b[39;49m\u001b[39m.\u001b[39;49m_get_value(key)\n\u001b[0;32m    960\u001b[0m \u001b[39mif\u001b[39;00m is_hashable(key):\n\u001b[0;32m    961\u001b[0m     \u001b[39m# Otherwise index.get_value will raise InvalidIndexError\u001b[39;00m\n\u001b[0;32m    962\u001b[0m     \u001b[39mtry\u001b[39;00m:\n\u001b[0;32m    963\u001b[0m         \u001b[39m# For labels that don't resolve as scalars like tuples and frozensets\u001b[39;00m\n",
            "File \u001b[1;32mc:\\Users\\Sebastian\\anaconda3\\lib\\site-packages\\pandas\\core\\series.py:1069\u001b[0m, in \u001b[0;36mSeries._get_value\u001b[1;34m(self, label, takeable)\u001b[0m\n\u001b[0;32m   1066\u001b[0m     \u001b[39mreturn\u001b[39;00m \u001b[39mself\u001b[39m\u001b[39m.\u001b[39m_values[label]\n\u001b[0;32m   1068\u001b[0m \u001b[39m# Similar to Index.get_value, but we do not fall back to positional\u001b[39;00m\n\u001b[1;32m-> 1069\u001b[0m loc \u001b[39m=\u001b[39m \u001b[39mself\u001b[39;49m\u001b[39m.\u001b[39;49mindex\u001b[39m.\u001b[39;49mget_loc(label)\n\u001b[0;32m   1070\u001b[0m \u001b[39mreturn\u001b[39;00m \u001b[39mself\u001b[39m\u001b[39m.\u001b[39mindex\u001b[39m.\u001b[39m_get_values_for_loc(\u001b[39mself\u001b[39m, loc, label)\n",
            "File \u001b[1;32mc:\\Users\\Sebastian\\anaconda3\\lib\\site-packages\\pandas\\core\\indexes\\base.py:3623\u001b[0m, in \u001b[0;36mIndex.get_loc\u001b[1;34m(self, key, method, tolerance)\u001b[0m\n\u001b[0;32m   3621\u001b[0m     \u001b[39mreturn\u001b[39;00m \u001b[39mself\u001b[39m\u001b[39m.\u001b[39m_engine\u001b[39m.\u001b[39mget_loc(casted_key)\n\u001b[0;32m   3622\u001b[0m \u001b[39mexcept\u001b[39;00m \u001b[39mKeyError\u001b[39;00m \u001b[39mas\u001b[39;00m err:\n\u001b[1;32m-> 3623\u001b[0m     \u001b[39mraise\u001b[39;00m \u001b[39mKeyError\u001b[39;00m(key) \u001b[39mfrom\u001b[39;00m \u001b[39merr\u001b[39;00m\n\u001b[0;32m   3624\u001b[0m \u001b[39mexcept\u001b[39;00m \u001b[39mTypeError\u001b[39;00m:\n\u001b[0;32m   3625\u001b[0m     \u001b[39m# If we have a listlike key, _check_indexing_error will raise\u001b[39;00m\n\u001b[0;32m   3626\u001b[0m     \u001b[39m#  InvalidIndexError. Otherwise we fall through and re-raise\u001b[39;00m\n\u001b[0;32m   3627\u001b[0m     \u001b[39m#  the TypeError.\u001b[39;00m\n\u001b[0;32m   3628\u001b[0m     \u001b[39mself\u001b[39m\u001b[39m.\u001b[39m_check_indexing_error(key)\n",
            "\u001b[1;31mKeyError\u001b[0m: 0"
          ]
        }
      ],
      "source": [
        "BATCH_SIZE = 100\n",
        "\n",
        "train_gen = data_generator(X_train, y_train, word2idx, BATCH_SIZE)\n",
        "val_gen = data_generator(X_val, y_val, word2idx, BATCH_SIZE)\n",
        "\n",
        "train_steps = int(np.ceil(len(X_train) / BATCH_SIZE))\n",
        "val_steps = int(np.ceil(len(X_val) / BATCH_SIZE))\n",
        "\n",
        "m.fit(x=train_gen, validation_data=val_gen, steps_per_epoch=train_steps, validation_steps=val_steps, epochs=10)  # TODO\n",
        "print(m.summary())\n"
      ]
    },
    {
      "cell_type": "markdown",
      "metadata": {
        "id": "LvBjnS3YYYY2"
      },
      "source": [
        "Während das Netz trainiert wird, könnt ihr euch Gedanken zur Evaluierung machen:\n",
        "\n",
        "- Definiert die üblichen Fehlerklassen (wahr positiv, falsch positiv, wahr negativ, falsch negativ)\n",
        "- Eine häufig benutzte Evaluationsmetrik ist die _Accuracy_. Beschreibt diese Metrik und schreibt die Formel zur Berechnung auf.\n",
        "- Warum könnte die _Accuracy_ eine schlechte Metrik sein?\n",
        "- Zur Evaluation von binären Klassifikationsproblemen wird in der Literatur gerne _Precision_ und _Recall_ verwendet. Wie sind die beiden Evaluationsmaße definiert? Beschreibt diese Metriken mit eigenen Worten. Schreibt auch die Formeln zur Berechnung auf.\n",
        "- Warum könnten _Precision_ und _Recall_ bessere Metriken sein als _Accuracy_?\n"
      ]
    },
    {
      "cell_type": "markdown",
      "metadata": {
        "id": "sO7uif0sYYY4"
      },
      "source": [
        "11. Inzwischen sollte das Netz fertig trainiert sein. Speichert es ab!\n"
      ]
    },
    {
      "cell_type": "code",
      "execution_count": null,
      "metadata": {
        "id": "MpOkWtFWYYY5"
      },
      "outputs": [],
      "source": [
        "m.save(\"my_net.h5\")\n"
      ]
    },
    {
      "cell_type": "markdown",
      "metadata": {
        "id": "Z_TJCJK9YYY8"
      },
      "source": [
        "### 3.4. Evaluation\n",
        "\n",
        "Evaluiert euer Netz mit dem Datensatz, den ihr oben beseite gelegt haben. Benutzt dafür die `predict`-Methode des Models. Berechnet dafür _Precision_, _Recall_, _Accuracy_ und _Confusion Matrix_.\n",
        "\n",
        "Interpretiert kurz eure Ergebnisse.\n"
      ]
    },
    {
      "cell_type": "code",
      "execution_count": null,
      "metadata": {
        "id": "HFssQxB632ig"
      },
      "outputs": [],
      "source": [
        "# TODO\n"
      ]
    },
    {
      "cell_type": "markdown",
      "metadata": {
        "id": "gI0YZIpvYYZA"
      },
      "source": [
        "## 3b. (optional) Erweiterte Klassifikation\n",
        "\n",
        "Im nächsten Schritt wollen wir das Netz auf dem vollen Datensatz trainieren und die Komplexität etwas erhöhen.\n",
        "\n",
        "1. Trainiert euer Netz auf dem großen Datensatz.\n"
      ]
    },
    {
      "cell_type": "code",
      "execution_count": null,
      "metadata": {
        "id": "_4GkVcQRd4W2"
      },
      "outputs": [],
      "source": [
        "# TODO\n"
      ]
    },
    {
      "cell_type": "markdown",
      "metadata": {
        "id": "bQ1XbUuJd5xd"
      },
      "source": [
        "2. Verändert die Parameter Ihres Netzes (z.B Anzahl _hidden units_, Anzahl _hidden layers_) und trainiert das Netz erneut (auf dem kleinen Datensatz). Was stellt ihr fest?\n"
      ]
    },
    {
      "cell_type": "code",
      "execution_count": null,
      "metadata": {
        "id": "OoiplZnYd6Q8"
      },
      "outputs": [],
      "source": [
        "# TODO\n"
      ]
    },
    {
      "cell_type": "markdown",
      "metadata": {
        "id": "ZuUbODElg7Go"
      },
      "source": [
        "## 4. Sentiment Analyse mit Huggingface Transformers\n",
        "\n",
        "In diesem Abschnitt werden wir nun Huggingface (https://huggingface.co/) zu Sentence Classification nutzen.\n",
        "\n",
        "Hierfür benötigen wir die Libraries `datasets` (für preprocessing) und `transformers` (für die Transformer Modelle). Ebenfalls werden wir das Tokenisierung nicht mehr selbst durchführen, sondern viel mehr die `tokenizers` von huggingface hierfür benutzen.\n",
        "\n",
        "Für eine gute Einführung in Klassifikation mit Transformers siehe: https://huggingface.co/docs/transformers/tasks/sequence_classification\n"
      ]
    },
    {
      "cell_type": "code",
      "execution_count": null,
      "metadata": {
        "id": "Hm45vVc7hAF4"
      },
      "outputs": [],
      "source": [
        "!pip install datasets transformers"
      ]
    },
    {
      "cell_type": "markdown",
      "metadata": {
        "id": "QS7kVAiuTX28"
      },
      "source": [
        "### 4.1 Data Preparation\n",
        "\n",
        "Bevor wir ein huggingface transformer Modell nutzen können, müssen wir:\n",
        "\n",
        "- den Datensatz (`df`) als `Dataset` laden\n",
        "- ladet zunächst nur einen Teil des Datensatzes und wenn das Training funktioniert, vergrößert den Datensatz.\n",
        "- die Spalten umbennenen\n",
        "- Train / Test Split (90 / 10)\n"
      ]
    },
    {
      "cell_type": "markdown",
      "metadata": {
        "id": "A_4GikRuWy8m"
      },
      "source": [
        "1. Lade den Datensatz\n"
      ]
    },
    {
      "cell_type": "code",
      "execution_count": null,
      "metadata": {
        "id": "250M9epoVj4x"
      },
      "outputs": [],
      "source": [
        "dataset = # TODO"
      ]
    },
    {
      "cell_type": "markdown",
      "metadata": {
        "id": "JbDNFnJAWxEC"
      },
      "source": [
        "2. Entferne alle unnötigen Spalten und benennen `polarity` in `labels` um. Achte darauf, dass die Spalte `labels` vom Feature-Typ `ClassLabel` ist.\n"
      ]
    },
    {
      "cell_type": "code",
      "execution_count": null,
      "metadata": {
        "id": "VAGS-AD2oTTl"
      },
      "outputs": [],
      "source": [
        "dataset = # TODO"
      ]
    },
    {
      "cell_type": "code",
      "execution_count": null,
      "metadata": {
        "id": "jiM81GM4p1tu"
      },
      "outputs": [],
      "source": [
        "features = # TODO\n",
        "dataset = dataset.cast(features)"
      ]
    },
    {
      "cell_type": "markdown",
      "metadata": {
        "id": "s6jHtvzmX0Nl"
      },
      "source": [
        "3. Teilt den Datensatz in train und test split auf.\n"
      ]
    },
    {
      "cell_type": "code",
      "execution_count": null,
      "metadata": {
        "id": "-4jpb9BSpx6L"
      },
      "outputs": [],
      "source": [
        "dataset = # TODO"
      ]
    },
    {
      "cell_type": "markdown",
      "metadata": {
        "id": "-MWqv7l54RO5"
      },
      "source": [
        "Schaut euch die Klassenverteilung im Datensatz an? Habt ihr noch eine 50/50 Verteilung zwischen positiv und negativ?\n"
      ]
    },
    {
      "cell_type": "markdown",
      "metadata": {
        "id": "zsX9f_App4hX"
      },
      "source": [
        "### 4.1. Training\n",
        "\n",
        "Nun haben wir den Datensatz geladen und vorbereitet.\n",
        "\n",
        "1. Ladet ein `AutoModelForSequenceClassification` eurer Wahl (https://huggingface.co/models) und den entsprechenenden `AutoTokenizer`.\n",
        "\n",
        "- Welches Modell nutzt ihr? Auf welchen Daten wurde das Netz vortrainiert?\n",
        "- Auf welchem Framework basiert das Modell?\n"
      ]
    },
    {
      "cell_type": "code",
      "execution_count": null,
      "metadata": {
        "id": "lG7PpubMpnK6"
      },
      "outputs": [],
      "source": [
        "tokenizer = # TODO"
      ]
    },
    {
      "cell_type": "code",
      "execution_count": null,
      "metadata": {
        "id": "S2jYDhvmqNPC"
      },
      "outputs": [],
      "source": [
        "model = # TODO"
      ]
    },
    {
      "cell_type": "markdown",
      "metadata": {
        "id": "A74aKJTZT3zO"
      },
      "source": [
        "2. Bevor das eigentliche Training beginnt, muss der Datensatz noch tokenized werden. Nutzt hierfür den oben instantiierten `tokenizer` und beantwortet folgende Fragen:\n",
        "\n",
        "- Wie groß ist das des Tokenizers?\n",
        "- In welcher Granularität werden Texte aufgesplittet?\n"
      ]
    },
    {
      "cell_type": "code",
      "execution_count": null,
      "metadata": {
        "id": "xr3AhPWqqDMk"
      },
      "outputs": [],
      "source": [
        "tokenized_dataset = # TODO"
      ]
    },
    {
      "cell_type": "markdown",
      "metadata": {
        "id": "RGqGDAwHUtZl"
      },
      "source": [
        "3. Baut euch eine Methode `compute_metrics`, die die notwendigen Metriken während des Trainings sammelt. Nutzt hierfür wieder Precision, Recall und F1 score.\n"
      ]
    },
    {
      "cell_type": "code",
      "execution_count": null,
      "metadata": {
        "id": "KQEYYJAHrLQZ"
      },
      "outputs": [],
      "source": [
        "def compute_metrics(eval_pred):\n",
        "    \"\"\"Computes the metrics given a tuple of (logits, labels)\"\"\"\n",
        "\n",
        "    # TODO\n",
        "    return {\n",
        "        \"accuracy\": accuracy,\n",
        "        \"f1\": f1,\n",
        "        \"precision\": precision,\n",
        "        \"recall\": recall,\n",
        "    }\n"
      ]
    },
    {
      "cell_type": "markdown",
      "metadata": {
        "id": "7J8e_ijNUwg5"
      },
      "source": [
        "4. Ladet einen `Trainer` und spezifiziert die `TrainingArguments`. Es bietet sich an, nach jeder Epoche zu evaluieren und das beste Modell am Ende zu laden.\n"
      ]
    },
    {
      "cell_type": "code",
      "execution_count": null,
      "metadata": {
        "id": "Db4jXr8LqkS8"
      },
      "outputs": [],
      "source": [
        "finetuning_args = TrainingArgument()  # TODO\n",
        "trainer = Trainer()  # TODO\n"
      ]
    },
    {
      "cell_type": "markdown",
      "metadata": {
        "id": "H0MSoG_N5QG2"
      },
      "source": [
        "5. Trainiert das Modell und behaltet die Metriken im Auge.\n"
      ]
    },
    {
      "cell_type": "code",
      "execution_count": null,
      "metadata": {
        "id": "nnd492AqrNSJ"
      },
      "outputs": [],
      "source": [
        "trainer.train()\n"
      ]
    },
    {
      "cell_type": "markdown",
      "metadata": {
        "id": "Dxlked_-5Wh-"
      },
      "source": [
        "### 4.3. (Optional) Training mit weiterem Modell\n",
        "\n",
        "Falls ihr möchtet, könnt ihr optional das geladene vortrainierte Modell austauschen und ein anderes (größeres, auf anderen Daten trainiert, ...) Modell nutzen.\n"
      ]
    },
    {
      "cell_type": "markdown",
      "metadata": {
        "id": "jX4VdMfmrdCd"
      },
      "source": [
        "### 4.4. Prediction\n",
        "\n",
        "Nun könnt ihr das Modell nutzen, um ein paar Beispiel aus dem Test-Datensatz zu predicten.\n"
      ]
    },
    {
      "cell_type": "code",
      "execution_count": null,
      "metadata": {
        "id": "waL2KVf5rh2Y"
      },
      "outputs": [],
      "source": [
        "id2label = {0: \"neg\", 1: \"pos\"}\n",
        "prediction_ds = tokenized_dataset[\"test\"].select(range(50))\n"
      ]
    },
    {
      "cell_type": "markdown",
      "metadata": {
        "id": "Yl3bqCxs1mQ0"
      },
      "source": [
        "Gebt die falschen Predictionn aus. Was fällt euch auf?\n"
      ]
    },
    {
      "cell_type": "code",
      "execution_count": null,
      "metadata": {
        "id": "5jiNfGXzrcnn"
      },
      "outputs": [],
      "source": [
        "raw_pred, _, _ = trainer.predict(prediction_ds)\n",
        "print(f\"Total predictions: {len(raw_pred)}\")\n",
        "\n",
        "for text, prediction in zip(prediction_ds, np.argmax(raw_pred, axis=1)):\n",
        "    expected = text[\"labels\"]\n",
        "    if expected != prediction:\n",
        "        print(\n",
        "            f\"Text: {text['text']} --- Expected: {id2label[expected]} --- Predicted: {id2label[prediction]}\"\n",
        "        )\n"
      ]
    }
  ],
  "metadata": {
    "accelerator": "GPU",
    "colab": {
      "collapsed_sections": [],
      "machine_shape": "hm",
      "provenance": [],
      "toc_visible": true
    },
    "gpuClass": "premium",
    "kernelspec": {
      "display_name": "Python 3.9.12 ('base')",
      "language": "python",
      "name": "python3"
    },
    "language_info": {
      "codemirror_mode": {
        "name": "ipython",
        "version": 3
      },
      "file_extension": ".py",
      "mimetype": "text/x-python",
      "name": "python",
      "nbconvert_exporter": "python",
      "pygments_lexer": "ipython3",
      "version": "3.9.12"
    },
    "vscode": {
      "interpreter": {
        "hash": "487b39d4bc77932302fbf00c8aa33c8cae154b5482e37c69cf95409c8a1ceaae"
      }
    }
  },
  "nbformat": 4,
  "nbformat_minor": 0
}
