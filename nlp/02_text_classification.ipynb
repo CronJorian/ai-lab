{
  "cells": [
    {
      "cell_type": "markdown",
      "metadata": {
        "id": "URsEpKN3YYXF"
      },
      "source": [
        "# Text Klassifikation - Sentiment Analyse\n",
        "\n",
        "In diesem Notebook möchten wir uns mit der Klassifikation von Texten beschäftigen. Vereinfacht gesagt beschäftigt sich Sentiment Analysis damit, natürlichsprachliche Aussagen dahingehend zu bewerten, ob die subjektive Aussage des Sprechers positiv oder negativ wertend gemeint ist.\n",
        "\n",
        "Zu diesem Zweck haben wir den Datensatz von _Sentiment140_, einem Projekt der Stanford University, ausgewählt. Er beinhaltet 16 Millionen Tweets, die aufgrund der enthaltenen Emoticons automatisch in positiv und negativ eingeteilt wurden.\n",
        "\n",
        "---\n",
        "\n",
        "Dieses Notebook gliedert sich in die folgenden Teile:\n",
        "\n",
        "1. Datenanalyse und Preprocessing\n",
        "2. Tokenisierung & Vokabular\n",
        "3. Klassifikation\n",
        "4. Klassifikation mit huggingface transformers"
      ]
    },
    {
      "cell_type": "code",
      "execution_count": 1,
      "metadata": {
        "id": "baoj_cXFHCqr"
      },
      "outputs": [
        {
          "name": "stderr",
          "output_type": "stream",
          "text": [
            "2022-11-08 18:18:02.278800: I tensorflow/core/platform/cpu_feature_guard.cc:193] This TensorFlow binary is optimized with oneAPI Deep Neural Network Library (oneDNN) to use the following CPU instructions in performance-critical operations:  AVX2 FMA\n",
            "To enable them in other operations, rebuild TensorFlow with the appropriate compiler flags.\n"
          ]
        },
        {
          "data": {
            "text/plain": [
              "'2.10.0'"
            ]
          },
          "execution_count": 1,
          "metadata": {},
          "output_type": "execute_result"
        }
      ],
      "source": [
        "import tensorflow as tf\n",
        "tf.__version__"
      ]
    },
    {
      "cell_type": "markdown",
      "metadata": {
        "id": "ZLSIuUHq-qc_"
      },
      "source": [
        "## 0. Vorbereitung"
      ]
    },
    {
      "cell_type": "markdown",
      "metadata": {
        "id": "xyE-j8e1_qTw"
      },
      "source": [
        "Als erstes muss der Datensatz von http://help.sentiment140.com/for-students in diese Colab Virtual Machine geladen werden."
      ]
    },
    {
      "cell_type": "code",
      "execution_count": 2,
      "metadata": {
        "id": "qzK4XN9vBBWz"
      },
      "outputs": [
        {
          "name": "stdout",
          "output_type": "stream",
          "text": [
            "mkdir: ./download: File exists\n"
          ]
        },
        {
          "name": "stderr",
          "output_type": "stream",
          "text": [
            "Downloading...\n",
            "From: https://drive.google.com/uc?id=0B04GJPshIjmPRnZManQwWEdTZjg\n",
            "To: /Users/sschwarzer/Desktop/repositories/ai-lab/nlp/download/sentiment140.zip\n",
            "100%|██████████| 81.4M/81.4M [00:02<00:00, 35.5MB/s]\n"
          ]
        },
        {
          "data": {
            "text/plain": [
              "'./download/sentiment140.zip'"
            ]
          },
          "execution_count": 2,
          "metadata": {},
          "output_type": "execute_result"
        }
      ],
      "source": [
        "from gdown import download\n",
        "\n",
        "!mkdir ./download\n",
        "\n",
        "download(id=\"0B04GJPshIjmPRnZManQwWEdTZjg\", output=\"./download/sentiment140.zip\")"
      ]
    },
    {
      "cell_type": "code",
      "execution_count": 3,
      "metadata": {
        "id": "NY_uOpPsAfSQ"
      },
      "outputs": [],
      "source": [
        "DATA_DIR = './download/sentiment140'"
      ]
    },
    {
      "cell_type": "code",
      "execution_count": 4,
      "metadata": {
        "id": "87ZXB6FoBV_y"
      },
      "outputs": [
        {
          "name": "stdout",
          "output_type": "stream",
          "text": [
            "Archive:  ./download/sentiment140.zip\n",
            "total 483864\n",
            "drwxr-xr-x  4 sschwarzer  staff        128 Nov  8 17:21 \u001b[1m\u001b[36m.\u001b[m\u001b[m\n",
            "drwxr-xr-x  5 sschwarzer  staff        160 Nov  8 18:18 \u001b[1m\u001b[36m..\u001b[m\u001b[m\n",
            "-rw-r--r--  1 sschwarzer  staff      74326 Mar  4  2010 testdata.manual.2009.06.14.csv\n",
            "-rw-r--r--  1 sschwarzer  staff  238803811 Mar  4  2010 training.1600000.processed.noemoticon.csv\n"
          ]
        }
      ],
      "source": [
        "!mkdir -p {DATA_DIR}\n",
        "!unzip -n {DATA_DIR}.zip -d {DATA_DIR}\n",
        "!rm {DATA_DIR}.zip\n",
        "!ls -la {DATA_DIR}"
      ]
    },
    {
      "cell_type": "markdown",
      "metadata": {
        "id": "O-W8Qq9m-YPu"
      },
      "source": [
        "## 1. Datenbeschaffung und -Analyse\n",
        "\n",
        "Im ersten Schritt sollen folgende Schritte durchgeführt werden."
      ]
    },
    {
      "cell_type": "code",
      "execution_count": 5,
      "metadata": {
        "id": "0n-sY1uc2Nsl"
      },
      "outputs": [],
      "source": [
        "import pandas as pd\n",
        "import os"
      ]
    },
    {
      "cell_type": "markdown",
      "metadata": {
        "id": "OBZTmJUC2NyU"
      },
      "source": [
        "1. Ladet den Datensatz in einen Pandas Dataframe. Welche Feature gibt es? Wie viele Samples gibt es?"
      ]
    },
    {
      "cell_type": "markdown",
      "metadata": {},
      "source": [
        "> The data is a CSV with emoticons removed. Data file format has 6 fields:  \n",
        "> 1. the polarity of the tweet (0 = negative, 2 = neutral, 4 = positive)\n",
        "> 2. the id of the tweet (2087)\n",
        "> 3. the date of the tweet (Sat May 16 23:58:44 UTC 2009)\n",
        "> 4. the query (lyx). If there is no query, then this value is NO_QUERY.\n",
        "> 5. the user that tweeted (robotickilldozr)\n",
        "> 6. the text of the tweet (Lyx is cool)"
      ]
    },
    {
      "cell_type": "markdown",
      "metadata": {},
      "source": [
        "The dataset has 1.6 million samples."
      ]
    },
    {
      "cell_type": "markdown",
      "metadata": {},
      "source": [
        "\n",
        "2. Da wir uns nur für die Felder `polarity` und `text` interessieren, sollte die Liste mit den Daten folgendes Format haben : `id => (polarity, text)`. \n"
      ]
    },
    {
      "cell_type": "code",
      "execution_count": 6,
      "metadata": {
        "id": "RRWljU0LYYXJ"
      },
      "outputs": [],
      "source": [
        "# http://help.sentiment140.com/for-students\n",
        "df = pd.read_csv(fr\"{DATA_DIR}/training.1600000.processed.noemoticon.csv\", encoding=\"latin-1\", index_col=1, usecols=[0, 1, 5], names=[\"polarity\", \"id\", \"text\"], converters={0: int, 1: int, 5: str}) # TODO"
      ]
    },
    {
      "cell_type": "markdown",
      "metadata": {},
      "source": [
        "\n",
        "3. Wandelt diese Werte in 1 (positiv) und 0 (negativ).\n"
      ]
    },
    {
      "cell_type": "code",
      "execution_count": 7,
      "metadata": {},
      "outputs": [
        {
          "data": {
            "text/plain": [
              "array([0, 4])"
            ]
          },
          "execution_count": 7,
          "metadata": {},
          "output_type": "execute_result"
        }
      ],
      "source": [
        "df[\"polarity\"].unique()"
      ]
    },
    {
      "cell_type": "code",
      "execution_count": 8,
      "metadata": {},
      "outputs": [],
      "source": [
        "df.loc[df[\"polarity\"] == 4] = 1"
      ]
    },
    {
      "cell_type": "code",
      "execution_count": 9,
      "metadata": {},
      "outputs": [
        {
          "data": {
            "text/html": [
              "<div>\n",
              "<style scoped>\n",
              "    .dataframe tbody tr th:only-of-type {\n",
              "        vertical-align: middle;\n",
              "    }\n",
              "\n",
              "    .dataframe tbody tr th {\n",
              "        vertical-align: top;\n",
              "    }\n",
              "\n",
              "    .dataframe thead th {\n",
              "        text-align: right;\n",
              "    }\n",
              "</style>\n",
              "<table border=\"1\" class=\"dataframe\">\n",
              "  <thead>\n",
              "    <tr style=\"text-align: right;\">\n",
              "      <th></th>\n",
              "      <th>polarity</th>\n",
              "      <th>text</th>\n",
              "    </tr>\n",
              "    <tr>\n",
              "      <th>id</th>\n",
              "      <th></th>\n",
              "      <th></th>\n",
              "    </tr>\n",
              "  </thead>\n",
              "  <tbody>\n",
              "    <tr>\n",
              "      <th>1467810369</th>\n",
              "      <td>0</td>\n",
              "      <td>@switchfoot http://twitpic.com/2y1zl - Awww, t...</td>\n",
              "    </tr>\n",
              "    <tr>\n",
              "      <th>1467810672</th>\n",
              "      <td>0</td>\n",
              "      <td>is upset that he can't update his Facebook by ...</td>\n",
              "    </tr>\n",
              "    <tr>\n",
              "      <th>1467810917</th>\n",
              "      <td>0</td>\n",
              "      <td>@Kenichan I dived many times for the ball. Man...</td>\n",
              "    </tr>\n",
              "    <tr>\n",
              "      <th>1467811184</th>\n",
              "      <td>0</td>\n",
              "      <td>my whole body feels itchy and like its on fire</td>\n",
              "    </tr>\n",
              "    <tr>\n",
              "      <th>1467811193</th>\n",
              "      <td>0</td>\n",
              "      <td>@nationwideclass no, it's not behaving at all....</td>\n",
              "    </tr>\n",
              "  </tbody>\n",
              "</table>\n",
              "</div>"
            ],
            "text/plain": [
              "            polarity                                               text\n",
              "id                                                                     \n",
              "1467810369         0  @switchfoot http://twitpic.com/2y1zl - Awww, t...\n",
              "1467810672         0  is upset that he can't update his Facebook by ...\n",
              "1467810917         0  @Kenichan I dived many times for the ball. Man...\n",
              "1467811184         0    my whole body feels itchy and like its on fire \n",
              "1467811193         0  @nationwideclass no, it's not behaving at all...."
            ]
          },
          "execution_count": 9,
          "metadata": {},
          "output_type": "execute_result"
        }
      ],
      "source": [
        "df.head()"
      ]
    },
    {
      "cell_type": "markdown",
      "metadata": {},
      "source": [
        "\n",
        "4. Fügt eine Spalte für die Anzahl an Wörtern im Text hinzu.\n"
      ]
    },
    {
      "cell_type": "code",
      "execution_count": 10,
      "metadata": {},
      "outputs": [
        {
          "name": "stdout",
          "output_type": "stream",
          "text": [
            "Mean tweet length: 14.02152875\n"
          ]
        }
      ],
      "source": [
        "df['word_count'] = df[\"text\"].str.strip(\" \").str.split(\" \").str.len() # TODO\n",
        "print(f'Mean tweet length: {df[\"word_count\"].describe()[\"mean\"]}')"
      ]
    },
    {
      "cell_type": "markdown",
      "metadata": {},
      "source": [
        "\n",
        "5. Analysiert den Datensatz mit den Pandas Boardmitteln."
      ]
    },
    {
      "cell_type": "code",
      "execution_count": null,
      "metadata": {},
      "outputs": [],
      "source": [
        "df"
      ]
    },
    {
      "cell_type": "code",
      "execution_count": 11,
      "metadata": {},
      "outputs": [
        {
          "data": {
            "text/html": [
              "<div>\n",
              "<style scoped>\n",
              "    .dataframe tbody tr th:only-of-type {\n",
              "        vertical-align: middle;\n",
              "    }\n",
              "\n",
              "    .dataframe tbody tr th {\n",
              "        vertical-align: top;\n",
              "    }\n",
              "\n",
              "    .dataframe thead th {\n",
              "        text-align: right;\n",
              "    }\n",
              "</style>\n",
              "<table border=\"1\" class=\"dataframe\">\n",
              "  <thead>\n",
              "    <tr style=\"text-align: right;\">\n",
              "      <th></th>\n",
              "      <th>polarity</th>\n",
              "      <th>word_count</th>\n",
              "    </tr>\n",
              "  </thead>\n",
              "  <tbody>\n",
              "    <tr>\n",
              "      <th>count</th>\n",
              "      <td>1600000.0</td>\n",
              "      <td>800000.000000</td>\n",
              "    </tr>\n",
              "    <tr>\n",
              "      <th>mean</th>\n",
              "      <td>0.5</td>\n",
              "      <td>14.021529</td>\n",
              "    </tr>\n",
              "    <tr>\n",
              "      <th>std</th>\n",
              "      <td>0.5</td>\n",
              "      <td>7.293461</td>\n",
              "    </tr>\n",
              "    <tr>\n",
              "      <th>min</th>\n",
              "      <td>0.0</td>\n",
              "      <td>1.000000</td>\n",
              "    </tr>\n",
              "    <tr>\n",
              "      <th>25%</th>\n",
              "      <td>0.0</td>\n",
              "      <td>8.000000</td>\n",
              "    </tr>\n",
              "    <tr>\n",
              "      <th>50%</th>\n",
              "      <td>0.5</td>\n",
              "      <td>13.000000</td>\n",
              "    </tr>\n",
              "    <tr>\n",
              "      <th>75%</th>\n",
              "      <td>1.0</td>\n",
              "      <td>20.000000</td>\n",
              "    </tr>\n",
              "    <tr>\n",
              "      <th>max</th>\n",
              "      <td>1.0</td>\n",
              "      <td>91.000000</td>\n",
              "    </tr>\n",
              "  </tbody>\n",
              "</table>\n",
              "</div>"
            ],
            "text/plain": [
              "        polarity     word_count\n",
              "count  1600000.0  800000.000000\n",
              "mean         0.5      14.021529\n",
              "std          0.5       7.293461\n",
              "min          0.0       1.000000\n",
              "25%          0.0       8.000000\n",
              "50%          0.5      13.000000\n",
              "75%          1.0      20.000000\n",
              "max          1.0      91.000000"
            ]
          },
          "execution_count": 11,
          "metadata": {},
          "output_type": "execute_result"
        }
      ],
      "source": [
        "df.describe()"
      ]
    },
    {
      "cell_type": "markdown",
      "metadata": {
        "id": "nVZCgmAnYYXV"
      },
      "source": [
        "## 2. Tokenisierung\n",
        "\n",
        "Um einen Einblick in die Daten zu bekommen und um später ein Modell zur Sentiment Analyse trainieren zu können, sollen die Daten nun aufbereitet werden. Da die sinntragenden Elemente in den Tweets die Wörter sind, sollten Sie die Tweets in Wörter aufteilen. Um genau zu sein, ist der Term 'Wörter' hier aus linguistischer Sicht etwas falsch, man spricht eigentlich von Tokens. Daher nennt man das Aufteilen von Text auch Tokenizing und die Funktion, die sowas kann, Tokenizer.\n",
        "\n",
        "1. Der allereinfachste Tokenizer ist vermutlich die `split` Methode. Tokenisiert damit die eingelesen Tweets. Am Ende solltet ihr eine Liste `tokenized = [(polarity, [token_1,token_2, ...])]` erhalten."
      ]
    },
    {
      "cell_type": "code",
      "execution_count": null,
      "metadata": {
        "id": "esbcYU6hYYXX"
      },
      "outputs": [],
      "source": [
        "df['tokenized'] = # TODO"
      ]
    },
    {
      "cell_type": "markdown",
      "metadata": {
        "id": "U2V0tecoYYXe"
      },
      "source": [
        "Abgesehen von natürlichsprachlichen Wörtern sind in Tweets mindestens auch Hashtags, Mentions und Links enthalten. Überlegt euch, ob es Sinn ergibt, alle diese Bestandteile in den Daten in dieser From zu behalten. Begründet kurz Ihre Entscheidungen.\n",
        "Falls ihr euch entschlossen habt, nicht alle diese Bestandteile zu behalten, filtert dementsprechend eure Daten. Die Struktur Ihrer Daten sollte am Ende gleich bleiben: `df['cleaned'] = [token_1,...]`"
      ]
    },
    {
      "cell_type": "code",
      "execution_count": null,
      "metadata": {
        "id": "-tPma3rxvLQ6"
      },
      "outputs": [],
      "source": [
        "df['tokenized'] = # TODO"
      ]
    },
    {
      "cell_type": "markdown",
      "metadata": {
        "id": "QH2E049sYYXn"
      },
      "source": [
        "Zählt die Tokens in eurem Datensatz. Benutzt dafür ein Dictionary oder andere Python Build-Ins. \n",
        "\n",
        "1. Wieviele unterschiedliche Wörter gibt es?\n",
        "2. Gebt die 100 häufigsten Wörter sortiert aus. \n",
        "\n",
        "Was zieht ihr aus den beiden Analysen? Was müsst ihr zusätzlich noch filtern?"
      ]
    },
    {
      "cell_type": "code",
      "execution_count": null,
      "metadata": {
        "id": "WB9skQUN2oPe"
      },
      "outputs": [],
      "source": [
        "# TODO"
      ]
    },
    {
      "cell_type": "markdown",
      "metadata": {
        "id": "pm76wuIZzhGC"
      },
      "source": [
        "Eine Möglichkeit für komplexere Preprocessing-Methoden ist das Entfernen von Stoppwörtern. Hiefür nutzen wir NLTK.\n",
        "\n",
        "Filtert eure gesäuberten Tokens auf Stopwörter."
      ]
    },
    {
      "cell_type": "code",
      "execution_count": null,
      "metadata": {
        "id": "N4K-ZoYRzf2B"
      },
      "outputs": [],
      "source": [
        "import nltk"
      ]
    },
    {
      "cell_type": "code",
      "execution_count": null,
      "metadata": {
        "id": "gkETxK9Ezsb8"
      },
      "outputs": [],
      "source": [
        "df['cleaned'] = # TODO"
      ]
    },
    {
      "cell_type": "markdown",
      "metadata": {
        "id": "1BSWVNV0YYXu"
      },
      "source": [
        "## 3. Klassifikation\n",
        "\n",
        "Wie Eingangs erwähnt, beschäftigt sich Sentiment Analysis damit, eine Äußerung automatisch dahingehend zu klassifizieren,\n",
        "ob der Inhalt positiv oder negativ gemeint ist.\n",
        "Es handelt sich also um eine binäre Klassifikation.\n",
        "\n",
        "Für das Training des neuronalen Netzes orintiert sich der nachfolgende Teil an _Keras_ als Framework. Ihr könnt aber auch ein anderes Framework wie bspw. _Pytorch_ benutzen. \n",
        "\n",
        "Aktuell liegen unsere Daten zwar in tokenisierter und gesäuberter Form vor, wir müssen unsere Daten aber noch in Vektoren transformieren.\n",
        "\n",
        "Für die erste Klassifikation encoden wir die Eingabe als **Bag-of-Words**, sodass jedes potentielle Wort einem Eingabeneuron einspricht. _Ein Beispiel_: Zwei Tweets \"lorem ipsum\" und \"foo foo bar\", die Vektoren hätten die Länge 4 und für den ersten Tweet wäre der Vektor [1,1,0,0], für den zweiten [0,0,2,1]."
      ]
    },
    {
      "cell_type": "markdown",
      "metadata": {
        "id": "pIh-IUrCetfp"
      },
      "source": [
        "### 3.1 Vokabular\n",
        "\n",
        "Befüllt das dictionary `word2idx` so, dass jedes Wort auf einen Index abgebildet wird und die Indizes streng monoton aufsteigend sind. Für das Beispiel oben wäre `word2idx = {\"lorem\": 0, \"ipsum\": 1, \"foo\": 3, \"bar\": 4}`"
      ]
    },
    {
      "cell_type": "code",
      "execution_count": null,
      "metadata": {
        "id": "aj0I7deSYYXx"
      },
      "outputs": [],
      "source": [
        "word2idx = # TODO"
      ]
    },
    {
      "cell_type": "markdown",
      "metadata": {
        "id": "wShRcQcfYYX2"
      },
      "source": [
        "Welche Länge werden die Vektoren haben?"
      ]
    },
    {
      "cell_type": "code",
      "execution_count": null,
      "metadata": {
        "id": "eM8DyIgNYYX4"
      },
      "outputs": [],
      "source": [
        "VECTOR_LEN = # TODO"
      ]
    },
    {
      "cell_type": "markdown",
      "metadata": {
        "id": "fc65A8wwYYX9"
      },
      "source": [
        "Wir könnten mit `numpy` ein Array befüllen, das für jeden der 16 Millionen Tweets einen Vektor wie oben beschrieben enthält. \n",
        "Bevor ihr damit beginnen, überschlagt, wieviel Speicherplatz (im Hauptspeicher) ein solches Array belegen würde, wenn jeder Eintrag 32 bit hat. Reicht euer Hauptspeicher dafür aus?"
      ]
    },
    {
      "cell_type": "code",
      "execution_count": null,
      "metadata": {
        "id": "aYODrE0LYYX_"
      },
      "outputs": [],
      "source": [
        "MEMORY = # TODO"
      ]
    },
    {
      "cell_type": "markdown",
      "metadata": {
        "id": "iGTNZMlIYYYD"
      },
      "source": [
        "### 3.2 Data Generator\n",
        "Um das Problem mit dem zu kleinen Hauptspeicher zu umgehen, bietet Keras die Möglichkeit, anstatt auf einem kompletten Datensatz zu operieren, immer nur kleinere Häppchen abzuarbeiten. Dazu wird ein Python-Generator eingesetzt.\n",
        "Vervollständigt die Funktion unten, so dass ein Generator entsteht. Die Parameter der Funktion sind:\n",
        " * d: tokenisierte und gesäuberte Tweets und Labels\n",
        " * w2i: das word2index dictionary\n",
        " * batch_size: Anzahl der vektorisierten Tweets, die pro Aufruf zurückgegeben werden sollen.\n",
        " \n",
        "Die benutzen Tweets nacheinander aus `d` gewählt werden und kein Tweet mehrfach zurückgegeben werden."
      ]
    },
    {
      "cell_type": "code",
      "execution_count": null,
      "metadata": {
        "id": "mRVPs_ZlYYYF"
      },
      "outputs": [],
      "source": [
        "import random\n",
        "import numpy as np\n",
        "\n",
        "def data_generator(x, y, w2i, batch_size):\n",
        "  num_batches = # TODO\n",
        "  current_batch = 0\n",
        "\n",
        "  while True:\n",
        "    # Initialize with zeros\n",
        "    batch_x = np.zeros((batch_size, len(w2i.keys())))\n",
        "    batch_y = np.zeros((batch_size, 1))\n",
        "\n",
        "    # TODO\n",
        "  \n",
        "    current_batch += 1\n",
        "    yield batch_x, batch_y\n",
        "\n",
        "    # Reset counter\n",
        "    if current_batch >= num_batches:\n",
        "      current_batch = 0"
      ]
    },
    {
      "cell_type": "code",
      "execution_count": null,
      "metadata": {
        "id": "ETv9mEIhYYYM"
      },
      "outputs": [],
      "source": [
        "gen = data_generator(...) # TODO"
      ]
    },
    {
      "cell_type": "markdown",
      "metadata": {
        "id": "VwLI3pTcYYYK"
      },
      "source": [
        "Ihr könnt euren Generator wie folgt ausprobieren:"
      ]
    },
    {
      "cell_type": "code",
      "execution_count": null,
      "metadata": {
        "id": "ZEh0__Ljyk8x"
      },
      "outputs": [],
      "source": [
        "next(gen)"
      ]
    },
    {
      "cell_type": "markdown",
      "metadata": {
        "id": "b1qy5nlEYYYW"
      },
      "source": [
        "### 3.3 Neuronales Netz\n",
        "\n",
        "Wir sind nun endlich soweit, unser neuronales Netz aufzubauen. Da unser Netz genau ein hidden Layer hat und auch sonst nicht sonderlich komplex ist, benutzen wir die _Sequential_-API von Keras."
      ]
    },
    {
      "cell_type": "code",
      "execution_count": null,
      "metadata": {
        "id": "VY_sZSc1YYYX"
      },
      "outputs": [],
      "source": [
        "from tensorflow.keras.models import Sequential\n",
        "m = Sequential()"
      ]
    },
    {
      "cell_type": "markdown",
      "metadata": {
        "id": "rcE9-qJxYYYc"
      },
      "source": [
        "Fügt einen _Dense_-Layer dem Netz hinzu, als _hidden units_ könnt ihr 16 nehmen. Da dies auch der Eingabe-Layer ist, müsst ihr den Parameter `input_shape` definieren. (Siehe auch: https://keras.io/layers/core/)"
      ]
    },
    {
      "cell_type": "code",
      "execution_count": null,
      "metadata": {
        "id": "uWkgD9ACYYYd"
      },
      "outputs": [],
      "source": [
        "m.add() # TODO"
      ]
    },
    {
      "cell_type": "markdown",
      "metadata": {
        "id": "LnqAOXj5YYYi"
      },
      "source": [
        "Als letzten Layer in unserem neuronalen Netz, fügt einen weiteren _Dense_-Layer hinzu. Dieser Layer dient auch als \"Ausgabelayer\" Überlegt euch die Anzahl der _hidden units_ (Hinweis: Wie lässt sich unser Machine-Learning-Problem kategorisieren?) Welche _Activation_-Funktion wählt ihr?"
      ]
    },
    {
      "cell_type": "code",
      "execution_count": null,
      "metadata": {
        "id": "-EdR3LgfYYYj"
      },
      "outputs": [],
      "source": [
        "m.add() # TODO"
      ]
    },
    {
      "cell_type": "markdown",
      "metadata": {
        "id": "JlSaW4I1YYYn"
      },
      "source": [
        "7. Kompiliert das neuronale Netz. Als `optimizer` könnt ihr 'adam' benutzen. Wählt eine passende `loss`-Funktion aus. Begründet eure Entscheidung. (https://keras.io/models/model/#compile)"
      ]
    },
    {
      "cell_type": "code",
      "execution_count": null,
      "metadata": {
        "id": "0U54vEg-YYYo"
      },
      "outputs": [],
      "source": [
        "# TODO"
      ]
    },
    {
      "cell_type": "markdown",
      "metadata": {
        "id": "Bpt8M2ynYYYs"
      },
      "source": [
        "### 3.3. Training\n",
        "\n",
        "Bevor ihr nun das neuronale Netz trainiert, teilt noch euren Datensatz in zwei Teile auf. Einen Teil zum Trainieren und einen zum Evaluieren. Das Verhältnis der beiden Datensätze sollte 70%:30% sein. Bevor ihr die Daten aufteilen, durchmischt sie mit der `shuffle`-Methode aus dem `random`-Modul. Außerdem solltet ihr die Datenmenge zunächst auf ca. 100000 begrenzen, damit das Training des neuronalen Netzes nicht ewig dauert."
      ]
    },
    {
      "cell_type": "code",
      "execution_count": null,
      "metadata": {
        "id": "0TLMbqBDYYYt"
      },
      "outputs": [],
      "source": [
        "# TODO"
      ]
    },
    {
      "cell_type": "markdown",
      "metadata": {
        "id": "POelfhirYYYx"
      },
      "source": [
        "Wir sind nun soweit das neuronale Netz zu trainieren. Da wir den oben entwickelten Generator einsetzen wollen, verwenden wir dazu die `fit_generator`-Methode. Als `batch_size` könnt ihr 100 nehmen, für den `epochs`-Parameter 10. Was wählt ihr als `steps_per_epoch`-Parameter? (https://keras.io/models/model/#fit_generator)"
      ]
    },
    {
      "cell_type": "code",
      "execution_count": null,
      "metadata": {
        "id": "i0sWka05YYYy"
      },
      "outputs": [],
      "source": [
        "m.fit() # TODO\n",
        "print(m.summary())"
      ]
    },
    {
      "cell_type": "markdown",
      "metadata": {
        "id": "LvBjnS3YYYY2"
      },
      "source": [
        "Während das Netz trainiert wird, könnt ihr euch Gedanken zur Evaluierung machen:\n",
        "   * Definiert die üblichen Fehlerklassen (wahr positiv, falsch positiv, wahr negativ, falsch negativ)\n",
        "   * Eine häufig benutzte Evaluationsmetrik ist die _Accuracy_. Beschreibt diese Metrik und schreibt die Formel zur Berechnung auf.\n",
        "   * Warum könnte die _Accuracy_ eine schlechte Metrik sein?\n",
        "   * Zur Evaluation von binären Klassifikationsproblemen wird in der Literatur gerne _Precision_ und _Recall_ verwendet. Wie sind die beiden Evaluationsmaße definiert? Beschreibt diese Metriken mit eigenen Worten. Schreibt auch die Formeln zur Berechnung auf.\n",
        "   * Warum könnten _Precision_ und _Recall_ bessere Metriken sein als _Accuracy_?"
      ]
    },
    {
      "cell_type": "markdown",
      "metadata": {
        "id": "sO7uif0sYYY4"
      },
      "source": [
        "11. Inzwischen sollte das Netz fertig trainiert sein. Speichert es ab!"
      ]
    },
    {
      "cell_type": "code",
      "execution_count": null,
      "metadata": {
        "id": "MpOkWtFWYYY5"
      },
      "outputs": [],
      "source": [
        "m.save('my_net.h5')"
      ]
    },
    {
      "cell_type": "markdown",
      "metadata": {
        "id": "Z_TJCJK9YYY8"
      },
      "source": [
        "### 3.4. Evaluation\n",
        "\n",
        "Evaluiert euer Netz mit dem Datensatz, den ihr oben beseite gelegt haben. Benutzt dafür die `predict`-Methode des Models. Berechnet dafür _Precision_, _Recall_, _Accuracy_ und _Confusion Matrix_. \n",
        "\n",
        "Interpretiert kurz eure Ergebnisse. "
      ]
    },
    {
      "cell_type": "code",
      "execution_count": null,
      "metadata": {
        "id": "HFssQxB632ig"
      },
      "outputs": [],
      "source": [
        "# TODO"
      ]
    },
    {
      "cell_type": "markdown",
      "metadata": {
        "id": "gI0YZIpvYYZA"
      },
      "source": [
        "## 3b. (optional) Erweiterte Klassifikation\n",
        "Im nächsten Schritt wollen wir das Netz auf dem vollen Datensatz trainieren und die Komplexität etwas erhöhen.\n",
        "\n",
        "1. Trainiert euer Netz auf dem großen Datensatz."
      ]
    },
    {
      "cell_type": "code",
      "execution_count": null,
      "metadata": {
        "id": "_4GkVcQRd4W2"
      },
      "outputs": [],
      "source": [
        "# TODO"
      ]
    },
    {
      "cell_type": "markdown",
      "metadata": {
        "id": "bQ1XbUuJd5xd"
      },
      "source": [
        "2. Verändert die Parameter Ihres Netzes (z.B Anzahl _hidden units_, Anzahl _hidden layers_) und trainiert das Netz erneut (auf dem kleinen Datensatz). Was stellt ihr fest?"
      ]
    },
    {
      "cell_type": "code",
      "execution_count": null,
      "metadata": {
        "id": "OoiplZnYd6Q8"
      },
      "outputs": [],
      "source": [
        "# TODO"
      ]
    },
    {
      "cell_type": "markdown",
      "metadata": {
        "id": "ZuUbODElg7Go"
      },
      "source": [
        "## 4. Sentiment Analyse mit Huggingface Transformers\n",
        "\n",
        "In diesem Abschnitt werden wir nun Huggingface (https://huggingface.co/) zu Sentence Classification nutzen.\n",
        "\n",
        "Hierfür benötigen wir die Libraries `datasets` (für preprocessing) und `transformers` (für die Transformer Modelle). Ebenfalls werden wir das Tokenisierung nicht mehr selbst durchführen, sondern viel mehr die `tokenizers` von huggingface hierfür benutzen.\n",
        "\n",
        "Für eine gute Einführung in Klassifikation mit Transformers siehe: https://huggingface.co/docs/transformers/tasks/sequence_classification "
      ]
    },
    {
      "cell_type": "code",
      "execution_count": null,
      "metadata": {
        "id": "Hm45vVc7hAF4"
      },
      "outputs": [],
      "source": [
        "!pip install datasets transformers"
      ]
    },
    {
      "cell_type": "markdown",
      "metadata": {
        "id": "QS7kVAiuTX28"
      },
      "source": [
        "### 4.1 Data Preparation\n",
        "\n",
        "Bevor wir ein huggingface transformer Modell nutzen können, müssen wir:\n",
        "\n",
        "* den Datensatz (`df`) als `Dataset` laden\n",
        "* ladet zunächst nur einen Teil des Datensatzes und wenn das Training funktioniert, vergrößert den Datensatz.\n",
        "* die Spalten umbennenen \n",
        "* Train / Test Split (90 / 10)"
      ]
    },
    {
      "cell_type": "markdown",
      "metadata": {
        "id": "A_4GikRuWy8m"
      },
      "source": [
        "1. Lade den Datensatz"
      ]
    },
    {
      "cell_type": "code",
      "execution_count": null,
      "metadata": {
        "id": "250M9epoVj4x"
      },
      "outputs": [],
      "source": [
        "dataset = # TODO"
      ]
    },
    {
      "cell_type": "markdown",
      "metadata": {
        "id": "JbDNFnJAWxEC"
      },
      "source": [
        "2. Entferne alle unnötigen Spalten und benennen `polarity` in `labels` um. Achte darauf, dass die Spalte `labels` vom Feature-Typ `ClassLabel` ist."
      ]
    },
    {
      "cell_type": "code",
      "execution_count": null,
      "metadata": {
        "id": "VAGS-AD2oTTl"
      },
      "outputs": [],
      "source": [
        "dataset = # TODO"
      ]
    },
    {
      "cell_type": "code",
      "execution_count": null,
      "metadata": {
        "id": "jiM81GM4p1tu"
      },
      "outputs": [],
      "source": [
        "features = # TODO\n",
        "dataset = dataset.cast(features)"
      ]
    },
    {
      "cell_type": "markdown",
      "metadata": {
        "id": "s6jHtvzmX0Nl"
      },
      "source": [
        "3. Teilt den Datensatz in train und test split auf."
      ]
    },
    {
      "cell_type": "code",
      "execution_count": null,
      "metadata": {
        "id": "-4jpb9BSpx6L"
      },
      "outputs": [],
      "source": [
        "dataset = # TODO"
      ]
    },
    {
      "cell_type": "markdown",
      "metadata": {
        "id": "-MWqv7l54RO5"
      },
      "source": [
        "Schaut euch die Klassenverteilung im Datensatz an? Habt ihr noch eine 50/50 Verteilung zwischen positiv und negativ?"
      ]
    },
    {
      "cell_type": "markdown",
      "metadata": {
        "id": "zsX9f_App4hX"
      },
      "source": [
        "### 4.1. Training\n",
        "Nun haben wir den Datensatz geladen und vorbereitet. \n",
        "\n",
        "1. Ladet ein `AutoModelForSequenceClassification` eurer Wahl (https://huggingface.co/models) und den entsprechenenden `AutoTokenizer`.\n",
        "\n",
        "  - Welches Modell nutzt ihr? Auf welchen Daten wurde das Netz vortrainiert?\n",
        "  - Auf welchem Framework basiert das Modell?"
      ]
    },
    {
      "cell_type": "code",
      "execution_count": null,
      "metadata": {
        "id": "lG7PpubMpnK6"
      },
      "outputs": [],
      "source": [
        "tokenizer = # TODO"
      ]
    },
    {
      "cell_type": "code",
      "execution_count": null,
      "metadata": {
        "id": "S2jYDhvmqNPC"
      },
      "outputs": [],
      "source": [
        "model = # TODO"
      ]
    },
    {
      "cell_type": "markdown",
      "metadata": {
        "id": "A74aKJTZT3zO"
      },
      "source": [
        "2. Bevor das eigentliche Training beginnt, muss der Datensatz noch tokenized werden. Nutzt hierfür den oben instantiierten `tokenizer` und beantwortet folgende Fragen:\n",
        "  - Wie groß ist das des Tokenizers? \n",
        "  - In welcher Granularität werden Texte aufgesplittet?"
      ]
    },
    {
      "cell_type": "code",
      "execution_count": null,
      "metadata": {
        "id": "xr3AhPWqqDMk"
      },
      "outputs": [],
      "source": [
        "tokenized_dataset = # TODO"
      ]
    },
    {
      "cell_type": "markdown",
      "metadata": {
        "id": "RGqGDAwHUtZl"
      },
      "source": [
        "3. Baut euch eine Methode `compute_metrics`, die die notwendigen Metriken während des Trainings sammelt. Nutzt hierfür wieder Precision, Recall und F1 score."
      ]
    },
    {
      "cell_type": "code",
      "execution_count": null,
      "metadata": {
        "id": "KQEYYJAHrLQZ"
      },
      "outputs": [],
      "source": [
        "def compute_metrics(eval_pred):\n",
        "  \"\"\" Computes the metrics given a tuple of (logits, labels) \"\"\"\n",
        "  \n",
        "  # TODO \n",
        "  return {\n",
        "    \"accuracy\": accuracy,\n",
        "    \"f1\": f1,\n",
        "    \"precision\": precision,\n",
        "    \"recall\": recall,\n",
        "  }"
      ]
    },
    {
      "cell_type": "markdown",
      "metadata": {
        "id": "7J8e_ijNUwg5"
      },
      "source": [
        "4. Ladet einen `Trainer` und spezifiziert die `TrainingArguments`. Es bietet sich an, nach jeder Epoche zu evaluieren und das beste Modell am Ende zu laden."
      ]
    },
    {
      "cell_type": "code",
      "execution_count": null,
      "metadata": {
        "id": "Db4jXr8LqkS8"
      },
      "outputs": [],
      "source": [
        "finetuning_args = TrainingArgument() # TODO\n",
        "trainer = Trainer() # TODO"
      ]
    },
    {
      "cell_type": "markdown",
      "metadata": {
        "id": "H0MSoG_N5QG2"
      },
      "source": [
        "5. Trainiert das Modell und behaltet die Metriken im Auge."
      ]
    },
    {
      "cell_type": "code",
      "execution_count": null,
      "metadata": {
        "id": "nnd492AqrNSJ"
      },
      "outputs": [],
      "source": [
        "trainer.train()"
      ]
    },
    {
      "cell_type": "markdown",
      "metadata": {
        "id": "Dxlked_-5Wh-"
      },
      "source": [
        "### 4.3. (Optional) Training mit weiterem Modell\n",
        "\n",
        "Falls ihr möchtet, könnt ihr optional das geladene vortrainierte Modell austauschen und ein anderes (größeres, auf anderen Daten trainiert, ...) Modell nutzen.\n"
      ]
    },
    {
      "cell_type": "markdown",
      "metadata": {
        "id": "jX4VdMfmrdCd"
      },
      "source": [
        "### 4.4. Prediction\n",
        "\n",
        "Nun könnt ihr das Modell nutzen, um ein paar Beispiel aus dem Test-Datensatz zu predicten."
      ]
    },
    {
      "cell_type": "code",
      "execution_count": null,
      "metadata": {
        "id": "waL2KVf5rh2Y"
      },
      "outputs": [],
      "source": [
        "id2label = { 0: \"neg\", 1: \"pos\" }\n",
        "prediction_ds = tokenized_dataset['test'].select(range(50))"
      ]
    },
    {
      "cell_type": "markdown",
      "metadata": {
        "id": "Yl3bqCxs1mQ0"
      },
      "source": [
        "Gebt die falschen Predictionn aus. Was fällt euch auf?"
      ]
    },
    {
      "cell_type": "code",
      "execution_count": null,
      "metadata": {
        "id": "5jiNfGXzrcnn"
      },
      "outputs": [],
      "source": [
        "raw_pred, _, _ = trainer.predict(prediction_ds)\n",
        "print(f\"Total predictions: {len(raw_pred)}\")\n",
        "\n",
        "for text, prediction in zip(prediction_ds, np.argmax(raw_pred, axis=1)):\n",
        "    expected = text['labels']\n",
        "    if expected != prediction:\n",
        "      print(f\"Text: {text['text']} --- Expected: {id2label[expected]} --- Predicted: {id2label[prediction]}\")"
      ]
    }
  ],
  "metadata": {
    "accelerator": "GPU",
    "colab": {
      "collapsed_sections": [],
      "machine_shape": "hm",
      "provenance": [],
      "toc_visible": true
    },
    "gpuClass": "premium",
    "kernelspec": {
      "display_name": "Python 3.9.13 ('base')",
      "language": "python",
      "name": "python3"
    },
    "language_info": {
      "codemirror_mode": {
        "name": "ipython",
        "version": 3
      },
      "file_extension": ".py",
      "mimetype": "text/x-python",
      "name": "python",
      "nbconvert_exporter": "python",
      "pygments_lexer": "ipython3",
      "version": "3.9.13"
    },
    "vscode": {
      "interpreter": {
        "hash": "119d84cb8c3b84b6d48a93e2933b395fcb363c6d1cda3c0de52c91f1ece8e0fb"
      }
    }
  },
  "nbformat": 4,
  "nbformat_minor": 0
}
