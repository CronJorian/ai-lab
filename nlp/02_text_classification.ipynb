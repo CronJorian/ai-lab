{
  "cells": [
    {
      "cell_type": "markdown",
      "metadata": {
        "id": "URsEpKN3YYXF"
      },
      "source": [
        "# Text Klassifikation - Sentiment Analyse\n",
        "\n",
        "In diesem Notebook möchten wir uns mit der Klassifikation von Texten beschäftigen. Vereinfacht gesagt beschäftigt sich Sentiment Analysis damit, natürlichsprachliche Aussagen dahingehend zu bewerten, ob die subjektive Aussage des Sprechers positiv oder negativ wertend gemeint ist.\n",
        "\n",
        "Zu diesem Zweck haben wir den Datensatz von _Sentiment140_, einem Projekt der Stanford University, ausgewählt. Er beinhaltet 16 Millionen Tweets, die aufgrund der enthaltenen Emoticons automatisch in positiv und negativ eingeteilt wurden.\n",
        "\n",
        "---\n",
        "\n",
        "Dieses Notebook gliedert sich in die folgenden Teile:\n",
        "\n",
        "1. Datenanalyse und Preprocessing\n",
        "2. Tokenisierung & Vokabular\n",
        "3. Klassifikation\n",
        "4. Klassifikation mit huggingface transformers\n"
      ]
    },
    {
      "cell_type": "code",
      "execution_count": 1,
      "metadata": {
        "id": "baoj_cXFHCqr"
      },
      "outputs": [
        {
          "name": "stderr",
          "output_type": "stream",
          "text": [
            "2022-11-15 10:19:07.091840: I tensorflow/core/platform/cpu_feature_guard.cc:193] This TensorFlow binary is optimized with oneAPI Deep Neural Network Library (oneDNN) to use the following CPU instructions in performance-critical operations:  AVX2 FMA\n",
            "To enable them in other operations, rebuild TensorFlow with the appropriate compiler flags.\n"
          ]
        },
        {
          "data": {
            "text/plain": [
              "'2.10.0'"
            ]
          },
          "execution_count": 1,
          "metadata": {},
          "output_type": "execute_result"
        }
      ],
      "source": [
        "import tensorflow as tf\n",
        "\n",
        "tf.__version__\n"
      ]
    },
    {
      "cell_type": "markdown",
      "metadata": {
        "id": "ZLSIuUHq-qc_"
      },
      "source": [
        "## 0. Vorbereitung\n"
      ]
    },
    {
      "cell_type": "markdown",
      "metadata": {
        "id": "xyE-j8e1_qTw"
      },
      "source": [
        "Als erstes muss der Datensatz von http://help.sentiment140.com/for-students in diese Colab Virtual Machine geladen werden.\n"
      ]
    },
    {
      "cell_type": "code",
      "execution_count": 144,
      "metadata": {
        "id": "NY_uOpPsAfSQ"
      },
      "outputs": [],
      "source": [
        "DATA_DIR = \"./download/sentiment140\"\n",
        "\n",
        "!mkdir -p {DATA_DIR}\n"
      ]
    },
    {
      "cell_type": "code",
      "execution_count": 145,
      "metadata": {
        "id": "qzK4XN9vBBWz"
      },
      "outputs": [
        {
          "name": "stderr",
          "output_type": "stream",
          "text": [
            "Downloading...\n",
            "From: https://drive.google.com/uc?id=0B04GJPshIjmPRnZManQwWEdTZjg\n",
            "To: /Users/sschwarzer/Desktop/repositories/ai-lab/nlp/download/sentiment140.zip\n",
            "100%|██████████| 81.4M/81.4M [00:03<00:00, 26.8MB/s]\n"
          ]
        }
      ],
      "source": [
        "from gdown import download\n",
        "import os.path\n",
        "\n",
        "if not os.path.isfile(\n",
        "    \"./download/sentiment140/testdata.manual.2009.06.14.csv\"\n",
        ") or not os.path.isfile(\n",
        "    \"./download/sentiment140/training.1600000.processed.noemoticon.csv\"\n",
        "):\n",
        "    download(id=\"0B04GJPshIjmPRnZManQwWEdTZjg\", output=\"./download/sentiment140.zip\")\n"
      ]
    },
    {
      "cell_type": "code",
      "execution_count": 146,
      "metadata": {
        "id": "87ZXB6FoBV_y"
      },
      "outputs": [
        {
          "name": "stdout",
          "output_type": "stream",
          "text": [
            "Archive:  ./download/sentiment140.zip\n",
            "  inflating: ./download/sentiment140/testdata.manual.2009.06.14.csv  \n",
            "  inflating: ./download/sentiment140/training.1600000.processed.noemoticon.csv  \n",
            "total 497688\n",
            "drwxr-xr-x  4 sschwarzer  staff        128 Nov 15 11:23 \u001b[1m\u001b[36m.\u001b[m\u001b[m\n",
            "drwxr-xr-x  5 sschwarzer  staff        160 Nov 15 11:23 \u001b[1m\u001b[36m..\u001b[m\u001b[m\n",
            "-rw-r--r--  1 sschwarzer  staff      74326 Mar  4  2010 testdata.manual.2009.06.14.csv\n",
            "-rw-r--r--  1 sschwarzer  staff  238803811 Mar  4  2010 training.1600000.processed.noemoticon.csv\n"
          ]
        }
      ],
      "source": [
        "if not os.path.isfile(f\"{DATA_DIR}/testdata.manual.2009.06.14.csv\") or not os.path.isfile(f\"{DATA_DIR}/training.1600000.processed.noemoticon.csv\"): \n",
        "    !unzip -n {DATA_DIR}.zip -d {DATA_DIR}\n",
        "    !rm {DATA_DIR}.zip\n",
        "    !ls -la {DATA_DIR}"
      ]
    },
    {
      "cell_type": "markdown",
      "metadata": {
        "id": "O-W8Qq9m-YPu"
      },
      "source": [
        "## 1. Datenbeschaffung und -Analyse\n",
        "\n",
        "Im ersten Schritt sollen folgende Schritte durchgeführt werden.\n"
      ]
    },
    {
      "cell_type": "code",
      "execution_count": 5,
      "metadata": {
        "id": "0n-sY1uc2Nsl"
      },
      "outputs": [],
      "source": [
        "import pandas as pd\n",
        "import os\n"
      ]
    },
    {
      "cell_type": "markdown",
      "metadata": {
        "id": "OBZTmJUC2NyU"
      },
      "source": [
        "1. Ladet den Datensatz in einen Pandas Dataframe. Welche Feature gibt es? Wie viele Samples gibt es?\n"
      ]
    },
    {
      "cell_type": "markdown",
      "metadata": {},
      "source": [
        "> The data is a CSV with emoticons removed. Data file format has 6 fields:\n",
        ">\n",
        "> 1. the polarity of the tweet (0 = negative, 2 = neutral, 4 = positive)\n",
        "> 2. the id of the tweet (2087)\n",
        "> 3. the date of the tweet (Sat May 16 23:58:44 UTC 2009)\n",
        "> 4. the query (lyx). If there is no query, then this value is NO_QUERY.\n",
        "> 5. the user that tweeted (robotickilldozr)\n",
        "> 6. the text of the tweet (Lyx is cool)\n"
      ]
    },
    {
      "cell_type": "markdown",
      "metadata": {},
      "source": [
        "The dataset has 1.6 million samples.\n"
      ]
    },
    {
      "cell_type": "markdown",
      "metadata": {},
      "source": [
        "2. Da wir uns nur für die Felder `polarity` und `text` interessieren, sollte die Liste mit den Daten folgendes Format haben : `id => (polarity, text)`.\n"
      ]
    },
    {
      "cell_type": "code",
      "execution_count": 6,
      "metadata": {
        "id": "RRWljU0LYYXJ"
      },
      "outputs": [],
      "source": [
        "# http://help.sentiment140.com/for-students\n",
        "df = pd.read_csv(\n",
        "    rf\"{DATA_DIR}/training.1600000.processed.noemoticon.csv\",\n",
        "    encoding=\"latin-1\",\n",
        "    index_col=1,\n",
        "    usecols=[0, 1, 5],\n",
        "    names=[\"polarity\", \"id\", \"text\"],\n",
        "    converters={0: int, 1: int, 5: str},\n",
        ")  # TODO\n"
      ]
    },
    {
      "cell_type": "markdown",
      "metadata": {},
      "source": [
        "3. Wandelt diese Werte in 1 (positiv) und 0 (negativ).\n"
      ]
    },
    {
      "cell_type": "code",
      "execution_count": 7,
      "metadata": {},
      "outputs": [
        {
          "data": {
            "text/plain": [
              "array([0, 4])"
            ]
          },
          "execution_count": 7,
          "metadata": {},
          "output_type": "execute_result"
        }
      ],
      "source": [
        "df[\"polarity\"].unique()\n"
      ]
    },
    {
      "cell_type": "code",
      "execution_count": 8,
      "metadata": {},
      "outputs": [],
      "source": [
        "df[\"polarity\"] = df[\"polarity\"] / 4\n"
      ]
    },
    {
      "cell_type": "code",
      "execution_count": 9,
      "metadata": {},
      "outputs": [],
      "source": [
        "df = df.astype({\"text\": str})\n"
      ]
    },
    {
      "cell_type": "code",
      "execution_count": 10,
      "metadata": {},
      "outputs": [
        {
          "data": {
            "text/html": [
              "<div>\n",
              "<style scoped>\n",
              "    .dataframe tbody tr th:only-of-type {\n",
              "        vertical-align: middle;\n",
              "    }\n",
              "\n",
              "    .dataframe tbody tr th {\n",
              "        vertical-align: top;\n",
              "    }\n",
              "\n",
              "    .dataframe thead th {\n",
              "        text-align: right;\n",
              "    }\n",
              "</style>\n",
              "<table border=\"1\" class=\"dataframe\">\n",
              "  <thead>\n",
              "    <tr style=\"text-align: right;\">\n",
              "      <th></th>\n",
              "      <th>polarity</th>\n",
              "      <th>text</th>\n",
              "    </tr>\n",
              "    <tr>\n",
              "      <th>id</th>\n",
              "      <th></th>\n",
              "      <th></th>\n",
              "    </tr>\n",
              "  </thead>\n",
              "  <tbody>\n",
              "    <tr>\n",
              "      <th>1467810369</th>\n",
              "      <td>0</td>\n",
              "      <td>@switchfoot http://twitpic.com/2y1zl - Awww, t...</td>\n",
              "    </tr>\n",
              "    <tr>\n",
              "      <th>1467810672</th>\n",
              "      <td>0</td>\n",
              "      <td>is upset that he can't update his Facebook by ...</td>\n",
              "    </tr>\n",
              "    <tr>\n",
              "      <th>1467810917</th>\n",
              "      <td>0</td>\n",
              "      <td>@Kenichan I dived many times for the ball. Man...</td>\n",
              "    </tr>\n",
              "    <tr>\n",
              "      <th>1467811184</th>\n",
              "      <td>0</td>\n",
              "      <td>my whole body feels itchy and like its on fire</td>\n",
              "    </tr>\n",
              "    <tr>\n",
              "      <th>1467811193</th>\n",
              "      <td>0</td>\n",
              "      <td>@nationwideclass no, it's not behaving at all....</td>\n",
              "    </tr>\n",
              "  </tbody>\n",
              "</table>\n",
              "</div>"
            ],
            "text/plain": [
              "            polarity                                               text\n",
              "id                                                                     \n",
              "1467810369         0  @switchfoot http://twitpic.com/2y1zl - Awww, t...\n",
              "1467810672         0  is upset that he can't update his Facebook by ...\n",
              "1467810917         0  @Kenichan I dived many times for the ball. Man...\n",
              "1467811184         0    my whole body feels itchy and like its on fire \n",
              "1467811193         0  @nationwideclass no, it's not behaving at all...."
            ]
          },
          "execution_count": 10,
          "metadata": {},
          "output_type": "execute_result"
        }
      ],
      "source": [
        "df.head()\n"
      ]
    },
    {
      "cell_type": "markdown",
      "metadata": {},
      "source": [
        "4. Fügt eine Spalte für die Anzahl an Wörtern im Text hinzu.\n"
      ]
    },
    {
      "cell_type": "code",
      "execution_count": 11,
      "metadata": {},
      "outputs": [
        {
          "name": "stdout",
          "output_type": "stream",
          "text": [
            "Mean tweet length: 7.290991875\n"
          ]
        }
      ],
      "source": [
        "df[\"word_count\"] = df[\"text\"].str.strip().str.split().str.len()  # TODO\n",
        "print(f'Mean tweet length: {df[\"word_count\"].describe()[\"mean\"]}')\n"
      ]
    },
    {
      "cell_type": "markdown",
      "metadata": {},
      "source": [
        "5. Analysiert den Datensatz mit den Pandas Boardmitteln.\n"
      ]
    },
    {
      "cell_type": "code",
      "execution_count": 12,
      "metadata": {},
      "outputs": [
        {
          "data": {
            "text/plain": [
              "polarity      0\n",
              "text          0\n",
              "word_count    0\n",
              "dtype: int64"
            ]
          },
          "execution_count": 12,
          "metadata": {},
          "output_type": "execute_result"
        }
      ],
      "source": [
        "# check whether all text was countable\n",
        "df.isna().sum()\n"
      ]
    },
    {
      "cell_type": "code",
      "execution_count": 13,
      "metadata": {},
      "outputs": [
        {
          "data": {
            "text/html": [
              "<div>\n",
              "<style scoped>\n",
              "    .dataframe tbody tr th:only-of-type {\n",
              "        vertical-align: middle;\n",
              "    }\n",
              "\n",
              "    .dataframe tbody tr th {\n",
              "        vertical-align: top;\n",
              "    }\n",
              "\n",
              "    .dataframe thead th {\n",
              "        text-align: right;\n",
              "    }\n",
              "</style>\n",
              "<table border=\"1\" class=\"dataframe\">\n",
              "  <thead>\n",
              "    <tr style=\"text-align: right;\">\n",
              "      <th></th>\n",
              "      <th>polarity</th>\n",
              "      <th>word_count</th>\n",
              "    </tr>\n",
              "  </thead>\n",
              "  <tbody>\n",
              "    <tr>\n",
              "      <th>count</th>\n",
              "      <td>1600000.0</td>\n",
              "      <td>1.600000e+06</td>\n",
              "    </tr>\n",
              "    <tr>\n",
              "      <th>mean</th>\n",
              "      <td>0.5</td>\n",
              "      <td>7.290992e+00</td>\n",
              "    </tr>\n",
              "    <tr>\n",
              "      <th>std</th>\n",
              "      <td>0.5</td>\n",
              "      <td>8.037034e+00</td>\n",
              "    </tr>\n",
              "    <tr>\n",
              "      <th>min</th>\n",
              "      <td>0.0</td>\n",
              "      <td>1.000000e+00</td>\n",
              "    </tr>\n",
              "    <tr>\n",
              "      <th>25%</th>\n",
              "      <td>0.0</td>\n",
              "      <td>1.000000e+00</td>\n",
              "    </tr>\n",
              "    <tr>\n",
              "      <th>50%</th>\n",
              "      <td>0.5</td>\n",
              "      <td>1.000000e+00</td>\n",
              "    </tr>\n",
              "    <tr>\n",
              "      <th>75%</th>\n",
              "      <td>1.0</td>\n",
              "      <td>1.300000e+01</td>\n",
              "    </tr>\n",
              "    <tr>\n",
              "      <th>max</th>\n",
              "      <td>1.0</td>\n",
              "      <td>5.700000e+01</td>\n",
              "    </tr>\n",
              "  </tbody>\n",
              "</table>\n",
              "</div>"
            ],
            "text/plain": [
              "        polarity    word_count\n",
              "count  1600000.0  1.600000e+06\n",
              "mean         0.5  7.290992e+00\n",
              "std          0.5  8.037034e+00\n",
              "min          0.0  1.000000e+00\n",
              "25%          0.0  1.000000e+00\n",
              "50%          0.5  1.000000e+00\n",
              "75%          1.0  1.300000e+01\n",
              "max          1.0  5.700000e+01"
            ]
          },
          "execution_count": 13,
          "metadata": {},
          "output_type": "execute_result"
        }
      ],
      "source": [
        "df.describe()\n"
      ]
    },
    {
      "cell_type": "markdown",
      "metadata": {
        "id": "nVZCgmAnYYXV"
      },
      "source": [
        "## 2. Tokenisierung\n",
        "\n",
        "Um einen Einblick in die Daten zu bekommen und um später ein Modell zur Sentiment Analyse trainieren zu können, sollen die Daten nun aufbereitet werden. Da die sinntragenden Elemente in den Tweets die Wörter sind, sollten Sie die Tweets in Wörter aufteilen. Um genau zu sein, ist der Term 'Wörter' hier aus linguistischer Sicht etwas falsch, man spricht eigentlich von Tokens. Daher nennt man das Aufteilen von Text auch Tokenizing und die Funktion, die sowas kann, Tokenizer.\n",
        "\n",
        "1. Der allereinfachste Tokenizer ist vermutlich die `split` Methode. Tokenisiert damit die eingelesen Tweets. Am Ende solltet ihr eine Liste `tokenized = [(polarity, [token_1,token_2, ...])]` erhalten.\n"
      ]
    },
    {
      "cell_type": "code",
      "execution_count": 14,
      "metadata": {
        "id": "esbcYU6hYYXX"
      },
      "outputs": [],
      "source": [
        "df[\"tokenized\"] = df[\"text\"].str.split()  # TODO\n"
      ]
    },
    {
      "cell_type": "markdown",
      "metadata": {
        "id": "U2V0tecoYYXe"
      },
      "source": [
        "Abgesehen von natürlichsprachlichen Wörtern sind in Tweets mindestens auch Hashtags, Mentions und Links enthalten. Überlegt euch, ob es Sinn ergibt, alle diese Bestandteile in den Daten in dieser From zu behalten. Begründet kurz Ihre Entscheidungen.\n",
        "Falls ihr euch entschlossen habt, nicht alle diese Bestandteile zu behalten, filtert dementsprechend eure Daten. Die Struktur Ihrer Daten sollte am Ende gleich bleiben: `df['cleaned'] = [token_1,...]`\n"
      ]
    },
    {
      "cell_type": "code",
      "execution_count": 15,
      "metadata": {
        "id": "-tPma3rxvLQ6"
      },
      "outputs": [],
      "source": [
        "import re\n",
        "\n",
        "expression = re.compile(\n",
        "    r\"[-a-zA-Z0-9@:%._\\+~#=]{1,256}\\.[a-zA-Z0-9()]{1,6}\\b([-a-zA-Z0-9()@:%_\\+.~#?&//=]*)\"\n",
        ")\n",
        "df[\"stripped\"] = df[\"tokenized\"].apply(\n",
        "    lambda tokens: [\n",
        "        \"USER_TOKEN\"\n",
        "        if str.startswith(token, \"@\")\n",
        "        else \"HASHTAG_TOKEN\"\n",
        "        if str.startswith(token, \"#\")\n",
        "        else \"URL_TOKEN\"\n",
        "        if bool(expression.search(token))\n",
        "        else token\n",
        "        for token in tokens\n",
        "    ]\n",
        ")  # TODO\n"
      ]
    },
    {
      "cell_type": "markdown",
      "metadata": {},
      "source": [
        "Zählt die Tokens in eurem Datensatz. Benutzt dafür ein Dictionary oder andere Python Build-Ins.\n"
      ]
    },
    {
      "cell_type": "code",
      "execution_count": 16,
      "metadata": {},
      "outputs": [],
      "source": [
        "value_counts = pd.value_counts([token for tokens in df[\"stripped\"] for token in tokens])\n"
      ]
    },
    {
      "cell_type": "markdown",
      "metadata": {},
      "source": [
        "1. Wieviele unterschiedliche Wörter gibt es?\n"
      ]
    },
    {
      "cell_type": "code",
      "execution_count": 17,
      "metadata": {},
      "outputs": [
        {
          "data": {
            "text/plain": [
              "459777"
            ]
          },
          "execution_count": 17,
          "metadata": {},
          "output_type": "execute_result"
        }
      ],
      "source": [
        "len(value_counts)\n"
      ]
    },
    {
      "cell_type": "markdown",
      "metadata": {},
      "source": [
        "2. Gebt die 100 häufigsten Wörter sortiert aus.\n"
      ]
    },
    {
      "cell_type": "code",
      "execution_count": 18,
      "metadata": {},
      "outputs": [
        {
          "data": {
            "text/plain": [
              "Index(['1', 'USER_TOKEN', 'to', 'I', 'the', 'a', 'my', 'i', 'and', 'is', 'in',\n",
              "       'URL_TOKEN', 'for', 'it', 'of', 'have', 'on', 'you', 'so', 'me', 'but',\n",
              "       'that', 'not', 'at', 'be', 'I'm', 'was', 'just', 'with', 'get', 'this',\n",
              "       'go', 'up', 'like', 'out', 'no', 'all', 'work', 'are', 'now', 'got',\n",
              "       'do', 'going', 'don't', 'miss', 'want', 'from', 'day', 'really',\n",
              "       'can't', 'back', '-', 'too', 'am', 'about', 'had', 'still', 'im',\n",
              "       'it's', 'one', 'know', 'feel', '2', 'will', 'when', 'its', 'good',\n",
              "       'think', 'need', 'last', 'your', 'My', 'today', 'has', 'time', 'see',\n",
              "       'u', 'what', 'we', 'been', 'HASHTAG_TOKEN', 'sad', '&amp;', 'wish',\n",
              "       'can', 'some', 'they', 'as', 'an', 'home', 'bad', 'more', 'much', 'i'm',\n",
              "       'if', 'how', 'only', 'hate', 'her', 'off'],\n",
              "      dtype='object')"
            ]
          },
          "execution_count": 18,
          "metadata": {},
          "output_type": "execute_result"
        }
      ],
      "source": [
        "value_counts.index[:100]\n"
      ]
    },
    {
      "cell_type": "markdown",
      "metadata": {},
      "source": [
        "Was zieht ihr aus den beiden Analysen? Was müsst ihr zusätzlich noch filtern?\n"
      ]
    },
    {
      "cell_type": "markdown",
      "metadata": {
        "id": "WB9skQUN2oPe"
      },
      "source": [
        "> Stopwörter sollten auch noch gefiltert werden. Je nach dem kommt es außerdem auf den gewünschten Task am Ende an.\n"
      ]
    },
    {
      "cell_type": "markdown",
      "metadata": {
        "id": "pm76wuIZzhGC"
      },
      "source": [
        "Eine Möglichkeit für komplexere Preprocessing-Methoden ist das Entfernen von Stoppwörtern. Hiefür nutzen wir NLTK.\n",
        "\n",
        "Filtert eure gesäuberten Tokens auf Stopwörter.\n"
      ]
    },
    {
      "cell_type": "code",
      "execution_count": 19,
      "metadata": {
        "id": "N4K-ZoYRzf2B"
      },
      "outputs": [],
      "source": [
        "import nltk\n"
      ]
    },
    {
      "cell_type": "code",
      "execution_count": 20,
      "metadata": {
        "id": "gkETxK9Ezsb8"
      },
      "outputs": [],
      "source": [
        "# df['cleaned'] = nltk.word_tokenize(df[\"text\"]) # TODO\n",
        "tweet_tokenizer = nltk.TweetTokenizer()\n",
        "df[\"cleaned\"] = df[\"text\"].apply(tweet_tokenizer.tokenize)\n"
      ]
    },
    {
      "cell_type": "code",
      "execution_count": 21,
      "metadata": {},
      "outputs": [
        {
          "data": {
            "text/plain": [
              "id\n",
              "1467810369    [@switchfoot, http://twitpic.com/2y1zl, -, Aww...\n",
              "1467810672    [is, upset, that, he, can't, update, his, Face...\n",
              "1467810917    [@Kenichan, I, dived, many, times, for, the, b...\n",
              "1467811184    [my, whole, body, feels, itchy, and, like, its...\n",
              "1467811193    [@nationwideclass, no, ,, it's, not, behaving,...\n",
              "                                    ...                        \n",
              "2193601966                                                  [1]\n",
              "2193601969                                                  [1]\n",
              "2193601991                                                  [1]\n",
              "2193602064                                                  [1]\n",
              "2193602129                                                  [1]\n",
              "Name: cleaned, Length: 1600000, dtype: object"
            ]
          },
          "execution_count": 21,
          "metadata": {},
          "output_type": "execute_result"
        }
      ],
      "source": [
        "df[\"cleaned\"]\n"
      ]
    },
    {
      "cell_type": "markdown",
      "metadata": {
        "id": "1BSWVNV0YYXu"
      },
      "source": [
        "## 3. Klassifikation\n",
        "\n",
        "Wie Eingangs erwähnt, beschäftigt sich Sentiment Analysis damit, eine Äußerung automatisch dahingehend zu klassifizieren,\n",
        "ob der Inhalt positiv oder negativ gemeint ist.\n",
        "Es handelt sich also um eine binäre Klassifikation.\n",
        "\n",
        "Für das Training des neuronalen Netzes orintiert sich der nachfolgende Teil an _Keras_ als Framework. Ihr könnt aber auch ein anderes Framework wie bspw. _Pytorch_ benutzen.\n",
        "\n",
        "Aktuell liegen unsere Daten zwar in tokenisierter und gesäuberter Form vor, wir müssen unsere Daten aber noch in Vektoren transformieren.\n",
        "\n",
        "Für die erste Klassifikation encoden wir die Eingabe als **Bag-of-Words**, sodass jedes potentielle Wort einem Eingabeneuron einspricht. _Ein Beispiel_: Zwei Tweets \"lorem ipsum\" und \"foo foo bar\", die Vektoren hätten die Länge 4 und für den ersten Tweet wäre der Vektor [1,1,0,0], für den zweiten [0,0,2,1].\n"
      ]
    },
    {
      "cell_type": "markdown",
      "metadata": {
        "id": "pIh-IUrCetfp"
      },
      "source": [
        "### 3.1 Vokabular\n",
        "\n",
        "Befüllt das dictionary `word2idx` so, dass jedes Wort auf einen Index abgebildet wird und die Indizes streng monoton aufsteigend sind. Für das Beispiel oben wäre `word2idx = {\"lorem\": 0, \"ipsum\": 1, \"foo\": 3, \"bar\": 4}`\n"
      ]
    },
    {
      "cell_type": "code",
      "execution_count": 22,
      "metadata": {},
      "outputs": [
        {
          "data": {
            "text/html": [
              "<div>\n",
              "<style scoped>\n",
              "    .dataframe tbody tr th:only-of-type {\n",
              "        vertical-align: middle;\n",
              "    }\n",
              "\n",
              "    .dataframe tbody tr th {\n",
              "        vertical-align: top;\n",
              "    }\n",
              "\n",
              "    .dataframe thead th {\n",
              "        text-align: right;\n",
              "    }\n",
              "</style>\n",
              "<table border=\"1\" class=\"dataframe\">\n",
              "  <thead>\n",
              "    <tr style=\"text-align: right;\">\n",
              "      <th></th>\n",
              "      <th>polarity</th>\n",
              "      <th>text</th>\n",
              "      <th>word_count</th>\n",
              "      <th>tokenized</th>\n",
              "      <th>stripped</th>\n",
              "      <th>cleaned</th>\n",
              "    </tr>\n",
              "    <tr>\n",
              "      <th>id</th>\n",
              "      <th></th>\n",
              "      <th></th>\n",
              "      <th></th>\n",
              "      <th></th>\n",
              "      <th></th>\n",
              "      <th></th>\n",
              "    </tr>\n",
              "  </thead>\n",
              "  <tbody>\n",
              "    <tr>\n",
              "      <th>1467810369</th>\n",
              "      <td>0</td>\n",
              "      <td>@switchfoot http://twitpic.com/2y1zl - Awww, t...</td>\n",
              "      <td>19</td>\n",
              "      <td>[@switchfoot, http://twitpic.com/2y1zl, -, Aww...</td>\n",
              "      <td>[USER_TOKEN, URL_TOKEN, -, Awww,, that's, a, b...</td>\n",
              "      <td>[@switchfoot, http://twitpic.com/2y1zl, -, Aww...</td>\n",
              "    </tr>\n",
              "    <tr>\n",
              "      <th>1467810672</th>\n",
              "      <td>0</td>\n",
              "      <td>is upset that he can't update his Facebook by ...</td>\n",
              "      <td>21</td>\n",
              "      <td>[is, upset, that, he, can't, update, his, Face...</td>\n",
              "      <td>[is, upset, that, he, can't, update, his, Face...</td>\n",
              "      <td>[is, upset, that, he, can't, update, his, Face...</td>\n",
              "    </tr>\n",
              "    <tr>\n",
              "      <th>1467810917</th>\n",
              "      <td>0</td>\n",
              "      <td>@Kenichan I dived many times for the ball. Man...</td>\n",
              "      <td>18</td>\n",
              "      <td>[@Kenichan, I, dived, many, times, for, the, b...</td>\n",
              "      <td>[USER_TOKEN, I, dived, many, times, for, the, ...</td>\n",
              "      <td>[@Kenichan, I, dived, many, times, for, the, b...</td>\n",
              "    </tr>\n",
              "    <tr>\n",
              "      <th>1467811184</th>\n",
              "      <td>0</td>\n",
              "      <td>my whole body feels itchy and like its on fire</td>\n",
              "      <td>10</td>\n",
              "      <td>[my, whole, body, feels, itchy, and, like, its...</td>\n",
              "      <td>[my, whole, body, feels, itchy, and, like, its...</td>\n",
              "      <td>[my, whole, body, feels, itchy, and, like, its...</td>\n",
              "    </tr>\n",
              "    <tr>\n",
              "      <th>1467811193</th>\n",
              "      <td>0</td>\n",
              "      <td>@nationwideclass no, it's not behaving at all....</td>\n",
              "      <td>21</td>\n",
              "      <td>[@nationwideclass, no,, it's, not, behaving, a...</td>\n",
              "      <td>[USER_TOKEN, no,, it's, not, behaving, at, all...</td>\n",
              "      <td>[@nationwideclass, no, ,, it's, not, behaving,...</td>\n",
              "    </tr>\n",
              "    <tr>\n",
              "      <th>...</th>\n",
              "      <td>...</td>\n",
              "      <td>...</td>\n",
              "      <td>...</td>\n",
              "      <td>...</td>\n",
              "      <td>...</td>\n",
              "      <td>...</td>\n",
              "    </tr>\n",
              "    <tr>\n",
              "      <th>2193601966</th>\n",
              "      <td>1</td>\n",
              "      <td>1</td>\n",
              "      <td>1</td>\n",
              "      <td>[1]</td>\n",
              "      <td>[1]</td>\n",
              "      <td>[1]</td>\n",
              "    </tr>\n",
              "    <tr>\n",
              "      <th>2193601969</th>\n",
              "      <td>1</td>\n",
              "      <td>1</td>\n",
              "      <td>1</td>\n",
              "      <td>[1]</td>\n",
              "      <td>[1]</td>\n",
              "      <td>[1]</td>\n",
              "    </tr>\n",
              "    <tr>\n",
              "      <th>2193601991</th>\n",
              "      <td>1</td>\n",
              "      <td>1</td>\n",
              "      <td>1</td>\n",
              "      <td>[1]</td>\n",
              "      <td>[1]</td>\n",
              "      <td>[1]</td>\n",
              "    </tr>\n",
              "    <tr>\n",
              "      <th>2193602064</th>\n",
              "      <td>1</td>\n",
              "      <td>1</td>\n",
              "      <td>1</td>\n",
              "      <td>[1]</td>\n",
              "      <td>[1]</td>\n",
              "      <td>[1]</td>\n",
              "    </tr>\n",
              "    <tr>\n",
              "      <th>2193602129</th>\n",
              "      <td>1</td>\n",
              "      <td>1</td>\n",
              "      <td>1</td>\n",
              "      <td>[1]</td>\n",
              "      <td>[1]</td>\n",
              "      <td>[1]</td>\n",
              "    </tr>\n",
              "  </tbody>\n",
              "</table>\n",
              "<p>1600000 rows × 6 columns</p>\n",
              "</div>"
            ],
            "text/plain": [
              "            polarity                                               text  \\\n",
              "id                                                                        \n",
              "1467810369         0  @switchfoot http://twitpic.com/2y1zl - Awww, t...   \n",
              "1467810672         0  is upset that he can't update his Facebook by ...   \n",
              "1467810917         0  @Kenichan I dived many times for the ball. Man...   \n",
              "1467811184         0    my whole body feels itchy and like its on fire    \n",
              "1467811193         0  @nationwideclass no, it's not behaving at all....   \n",
              "...              ...                                                ...   \n",
              "2193601966         1                                                  1   \n",
              "2193601969         1                                                  1   \n",
              "2193601991         1                                                  1   \n",
              "2193602064         1                                                  1   \n",
              "2193602129         1                                                  1   \n",
              "\n",
              "            word_count                                          tokenized  \\\n",
              "id                                                                          \n",
              "1467810369          19  [@switchfoot, http://twitpic.com/2y1zl, -, Aww...   \n",
              "1467810672          21  [is, upset, that, he, can't, update, his, Face...   \n",
              "1467810917          18  [@Kenichan, I, dived, many, times, for, the, b...   \n",
              "1467811184          10  [my, whole, body, feels, itchy, and, like, its...   \n",
              "1467811193          21  [@nationwideclass, no,, it's, not, behaving, a...   \n",
              "...                ...                                                ...   \n",
              "2193601966           1                                                [1]   \n",
              "2193601969           1                                                [1]   \n",
              "2193601991           1                                                [1]   \n",
              "2193602064           1                                                [1]   \n",
              "2193602129           1                                                [1]   \n",
              "\n",
              "                                                     stripped  \\\n",
              "id                                                              \n",
              "1467810369  [USER_TOKEN, URL_TOKEN, -, Awww,, that's, a, b...   \n",
              "1467810672  [is, upset, that, he, can't, update, his, Face...   \n",
              "1467810917  [USER_TOKEN, I, dived, many, times, for, the, ...   \n",
              "1467811184  [my, whole, body, feels, itchy, and, like, its...   \n",
              "1467811193  [USER_TOKEN, no,, it's, not, behaving, at, all...   \n",
              "...                                                       ...   \n",
              "2193601966                                                [1]   \n",
              "2193601969                                                [1]   \n",
              "2193601991                                                [1]   \n",
              "2193602064                                                [1]   \n",
              "2193602129                                                [1]   \n",
              "\n",
              "                                                      cleaned  \n",
              "id                                                             \n",
              "1467810369  [@switchfoot, http://twitpic.com/2y1zl, -, Aww...  \n",
              "1467810672  [is, upset, that, he, can't, update, his, Face...  \n",
              "1467810917  [@Kenichan, I, dived, many, times, for, the, b...  \n",
              "1467811184  [my, whole, body, feels, itchy, and, like, its...  \n",
              "1467811193  [@nationwideclass, no, ,, it's, not, behaving,...  \n",
              "...                                                       ...  \n",
              "2193601966                                                [1]  \n",
              "2193601969                                                [1]  \n",
              "2193601991                                                [1]  \n",
              "2193602064                                                [1]  \n",
              "2193602129                                                [1]  \n",
              "\n",
              "[1600000 rows x 6 columns]"
            ]
          },
          "execution_count": 22,
          "metadata": {},
          "output_type": "execute_result"
        }
      ],
      "source": [
        "df\n"
      ]
    },
    {
      "cell_type": "code",
      "execution_count": 23,
      "metadata": {
        "id": "aj0I7deSYYXx"
      },
      "outputs": [
        {
          "data": {
            "text/plain": [
              "{'1': 0,\n",
              " '.': 1,\n",
              " '!': 2,\n",
              " 'to': 3,\n",
              " 'I': 4,\n",
              " 'the': 5,\n",
              " ',': 6,\n",
              " 'a': 7,\n",
              " 'my': 8,\n",
              " 'i': 9,\n",
              " '...': 10,\n",
              " 'and': 11,\n",
              " 'is': 12,\n",
              " '?': 13,\n",
              " 'in': 14,\n",
              " 'it': 15,\n",
              " 'for': 16,\n",
              " 'of': 17,\n",
              " 'me': 18,\n",
              " 'you': 19,\n",
              " 'on': 20,\n",
              " 'have': 21,\n",
              " 'so': 22,\n",
              " 'but': 23,\n",
              " 'that': 24,\n",
              " 'not': 25,\n",
              " 'at': 26,\n",
              " 'be': 27,\n",
              " \"I'm\": 28,\n",
              " 'was': 29,\n",
              " '..': 30,\n",
              " 'just': 31,\n",
              " 'with': 32,\n",
              " 'up': 33,\n",
              " 'this': 34,\n",
              " 'now': 35,\n",
              " 'get': 36,\n",
              " 'go': 37,\n",
              " 'work': 38,\n",
              " 'out': 39,\n",
              " 'no': 40,\n",
              " 'like': 41,\n",
              " 'all': 42,\n",
              " 'day': 43,\n",
              " '-': 44,\n",
              " 'today': 45,\n",
              " 'too': 46,\n",
              " 'do': 47,\n",
              " 'are': 48,\n",
              " 'going': 49,\n",
              " 'got': 50,\n",
              " 'back': 51,\n",
              " \"don't\": 52,\n",
              " 'miss': 53,\n",
              " 'want': 54,\n",
              " 'really': 55,\n",
              " 'from': 56,\n",
              " \"can't\": 57,\n",
              " 'am': 58,\n",
              " '\"': 59,\n",
              " 'know': 60,\n",
              " 'time': 61,\n",
              " 'about': 62,\n",
              " 'good': 63,\n",
              " 'sad': 64,\n",
              " 'had': 65,\n",
              " 'one': 66,\n",
              " 'still': 67,\n",
              " 'im': 68,\n",
              " \"it's\": 69,\n",
              " 'home': 70,\n",
              " '2': 71,\n",
              " '&': 72,\n",
              " 'u': 73,\n",
              " 'its': 74,\n",
              " 'think': 75,\n",
              " 'will': 76,\n",
              " 'feel': 77,\n",
              " 'when': 78,\n",
              " 'what': 79,\n",
              " 'need': 80,\n",
              " 'bad': 81,\n",
              " 'last': 82,\n",
              " 'My': 83,\n",
              " 'see': 84,\n",
              " 'your': 85,\n",
              " '*': 86,\n",
              " 'has': 87,\n",
              " 'much': 88,\n",
              " 'we': 89,\n",
              " 'been': 90,\n",
              " 'wish': 91,\n",
              " 'can': 92,\n",
              " 'here': 93,\n",
              " 'night': 94,\n",
              " 'there': 95,\n",
              " 'some': 96,\n",
              " 'tomorrow': 97,\n",
              " 'they': 98,\n",
              " 'more': 99,\n",
              " 'sleep': 100,\n",
              " 'as': 101,\n",
              " 'off': 102,\n",
              " 'again': 103,\n",
              " 'an': 104,\n",
              " 'her': 105,\n",
              " \"'\": 106,\n",
              " ':': 107,\n",
              " 'lol': 108,\n",
              " '(': 109,\n",
              " \"i'm\": 110,\n",
              " 'how': 111,\n",
              " ')': 112,\n",
              " 'well': 113,\n",
              " 'if': 114,\n",
              " 'only': 115,\n",
              " 'sorry': 116,\n",
              " 'hate': 117,\n",
              " 'though': 118,\n",
              " 'love': 119,\n",
              " 'right': 120,\n",
              " '/': 121,\n",
              " 'or': 122,\n",
              " 'why': 123,\n",
              " 'then': 124,\n",
              " 'sick': 125,\n",
              " \"didn't\": 126,\n",
              " 'he': 127,\n",
              " 'new': 128,\n",
              " 'over': 129,\n",
              " 'The': 130,\n",
              " 'could': 131,\n",
              " 'would': 132,\n",
              " 'tonight': 133,\n",
              " 'Just': 134,\n",
              " 'by': 135,\n",
              " 'them': 136,\n",
              " 'oh': 137,\n",
              " 'gonna': 138,\n",
              " 'bed': 139,\n",
              " 'morning': 140,\n",
              " 'dont': 141,\n",
              " 'make': 142,\n",
              " 'come': 143,\n",
              " 'getting': 144,\n",
              " 'school': 145,\n",
              " 'hope': 146,\n",
              " 'week': 147,\n",
              " 'did': 148,\n",
              " 'even': 149,\n",
              " 'she': 150,\n",
              " 'down': 151,\n",
              " 'wanna': 152,\n",
              " 'cant': 153,\n",
              " 'very': 154,\n",
              " 'way': 155,\n",
              " 'tired': 156,\n",
              " 'But': 157,\n",
              " 'him': 158,\n",
              " \"It's\": 159,\n",
              " 'No': 160,\n",
              " 'better': 161,\n",
              " 'days': 162,\n",
              " 'never': 163,\n",
              " 'So': 164,\n",
              " 'fun': 165,\n",
              " 'were': 166,\n",
              " 'working': 167,\n",
              " 'people': 168,\n",
              " 'feeling': 169,\n",
              " 'being': 170,\n",
              " '3': 171,\n",
              " 'Oh': 172,\n",
              " 'It': 173,\n",
              " 'find': 174,\n",
              " 'after': 175,\n",
              " 'sucks': 176,\n",
              " 'twitter': 177,\n",
              " 'phone': 178,\n",
              " 'already': 179,\n",
              " '4': 180,\n",
              " \"I've\": 181,\n",
              " 'next': 182,\n",
              " 'long': 183,\n",
              " 'And': 184,\n",
              " 'weekend': 185,\n",
              " 'should': 186,\n",
              " 'lost': 187,\n",
              " 'any': 188,\n",
              " 'hours': 189,\n",
              " 'yet': 190,\n",
              " 'away': 191,\n",
              " 'soon': 192,\n",
              " 'because': 193,\n",
              " 'take': 194,\n",
              " 'his': 195,\n",
              " 'little': 196,\n",
              " 'haha': 197,\n",
              " 'left': 198,\n",
              " 'wait': 199,\n",
              " 'having': 200,\n",
              " \"won't\": 201,\n",
              " 'missed': 202,\n",
              " 'Not': 203,\n",
              " 'thing': 204,\n",
              " \"I'll\": 205,\n",
              " \"doesn't\": 206,\n",
              " 'rain': 207,\n",
              " 'watch': 208,\n",
              " 'bored': 209,\n",
              " 'show': 210,\n",
              " 'doing': 211,\n",
              " 'hurts': 212,\n",
              " 'something': 213,\n",
              " 'before': 214,\n",
              " 'went': 215,\n",
              " 'early': 216,\n",
              " 'than': 217,\n",
              " 'great': 218,\n",
              " 'life': 219,\n",
              " 'another': 220,\n",
              " 'say': 221,\n",
              " 'yeah': 222,\n",
              " 'house': 223,\n",
              " 'who': 224,\n",
              " 'done': 225,\n",
              " 'where': 226,\n",
              " 'friends': 227,\n",
              " 'our': 228,\n",
              " 'watching': 229,\n",
              " 'trying': 230,\n",
              " 'cold': 231,\n",
              " 'gone': 232,\n",
              " \"that's\": 233,\n",
              " 'man': 234,\n",
              " 'first': 235,\n",
              " 'always': 236,\n",
              " 'year': 237,\n",
              " 'Why': 238,\n",
              " 'someone': 239,\n",
              " 'Is': 240,\n",
              " 'You': 241,\n",
              " '@': 242,\n",
              " 'old': 243,\n",
              " 'guess': 244,\n",
              " 'missing': 245,\n",
              " 'into': 246,\n",
              " 'nice': 247,\n",
              " 'ever': 248,\n",
              " 'hard': 249,\n",
              " 'damn': 250,\n",
              " 'car': 251,\n",
              " 'until': 252,\n",
              " 'ready': 253,\n",
              " 'help': 254,\n",
              " 'weather': 255,\n",
              " 'summer': 256,\n",
              " 'Im': 257,\n",
              " 'thought': 258,\n",
              " 'since': 259,\n",
              " 'nothing': 260,\n",
              " 'This': 261,\n",
              " 'same': 262,\n",
              " 'made': 263,\n",
              " 'x': 264,\n",
              " 'guys': 265,\n",
              " 'things': 266,\n",
              " 'anymore': 267,\n",
              " 'late': 268,\n",
              " 'hot': 269,\n",
              " 'sure': 270,\n",
              " 'n': 271,\n",
              " 'hear': 272,\n",
              " 'leave': 273,\n",
              " 'bit': 274,\n",
              " 'looking': 275,\n",
              " 'A': 276,\n",
              " 'us': 277,\n",
              " 'let': 278,\n",
              " 'while': 279,\n",
              " 'please': 280,\n",
              " 'What': 281,\n",
              " 'does': 282,\n",
              " 'poor': 283,\n",
              " 'head': 284,\n",
              " \"isn't\": 285,\n",
              " 'other': 286,\n",
              " 'Sorry': 287,\n",
              " 'start': 288,\n",
              " 'yesterday': 289,\n",
              " 'myself': 290,\n",
              " 'makes': 291,\n",
              " 'ok': 292,\n",
              " 'happy': 293,\n",
              " 'coming': 294,\n",
              " 'wanted': 295,\n",
              " 'without': 296,\n",
              " 'said': 297,\n",
              " 'Now': 298,\n",
              " 'baby': 299,\n",
              " 'tho': 300,\n",
              " 'everyone': 301,\n",
              " '5': 302,\n",
              " \"haven't\": 303,\n",
              " \"you're\": 304,\n",
              " 'look': 305,\n",
              " 'friend': 306,\n",
              " 'play': 307,\n",
              " 'headache': 308,\n",
              " 'didnt': 309,\n",
              " 'two': 310,\n",
              " 'live': 311,\n",
              " 'anything': 312,\n",
              " '<3': 313,\n",
              " 'hour': 314,\n",
              " 'wrong': 315,\n",
              " 'keep': 316,\n",
              " 'till': 317,\n",
              " 'best': 318,\n",
              " 'ur': 319,\n",
              " 'stuff': 320,\n",
              " 'believe': 321,\n",
              " 'ugh': 322,\n",
              " 'many': 323,\n",
              " 'shit': 324,\n",
              " 'game': 325,\n",
              " 'w': 326,\n",
              " '$': 327,\n",
              " 'woke': 328,\n",
              " 'pretty': 329,\n",
              " 'stupid': 330,\n",
              " 'stop': 331,\n",
              " 'We': 332,\n",
              " 'sun': 333,\n",
              " 'around': 334,\n",
              " 'LOL': 335,\n",
              " ';': 336,\n",
              " 'end': 337,\n",
              " 'waiting': 338,\n",
              " 'hurt': 339,\n",
              " 'big': 340,\n",
              " 'few': 341,\n",
              " 'those': 342,\n",
              " 'job': 343,\n",
              " 'That': 344,\n",
              " 'their': 345,\n",
              " 'cause': 346,\n",
              " 'gotta': 347,\n",
              " 'talk': 348,\n",
              " 'might': 349,\n",
              " 'found': 350,\n",
              " 'looks': 351,\n",
              " 'outside': 352,\n",
              " 'saw': 353,\n",
              " \"Can't\": 354,\n",
              " 'least': 355,\n",
              " 'such': 356,\n",
              " 'call': 357,\n",
              " 'Still': 358,\n",
              " 'far': 359,\n",
              " 'actually': 360,\n",
              " 'try': 361,\n",
              " 'put': 362,\n",
              " 'movie': 363,\n",
              " 'Its': 364,\n",
              " 's': 365,\n",
              " 'lot': 366,\n",
              " 'mean': 367,\n",
              " 'weeks': 368,\n",
              " 'tell': 369,\n",
              " 'party': 370,\n",
              " 'girl': 371,\n",
              " 'eat': 372,\n",
              " 'money': 373,\n",
              " 'At': 374,\n",
              " 'How': 375,\n",
              " 'able': 376,\n",
              " 'enough': 377,\n",
              " 'raining': 378,\n",
              " 'maybe': 379,\n",
              " 'yes': 380,\n",
              " 'mom': 381,\n",
              " 'tweet': 382,\n",
              " 'wants': 383,\n",
              " 'alone': 384,\n",
              " 'cry': 385,\n",
              " 'hair': 386,\n",
              " 'thats': 387,\n",
              " '=': 388,\n",
              " 'making': 389,\n",
              " 'Ugh': 390,\n",
              " 'wont': 391,\n",
              " 'later': 392,\n",
              " 'food': 393,\n",
              " 'almost': 394,\n",
              " 'iPhone': 395,\n",
              " 'give': 396,\n",
              " 'Twitter': 397,\n",
              " 'cool': 398,\n",
              " 'use': 399,\n",
              " 'must': 400,\n",
              " 'room': 401,\n",
              " 'times': 402,\n",
              " 'pain': 403,\n",
              " 'ill': 404,\n",
              " 'exam': 405,\n",
              " 'thanks': 406,\n",
              " 'stuck': 407,\n",
              " 'through': 408,\n",
              " 'broke': 409,\n",
              " 'read': 410,\n",
              " 'Good': 411,\n",
              " 'also': 412,\n",
              " 'forgot': 413,\n",
              " 'class': 414,\n",
              " 'Going': 415,\n",
              " 'these': 416,\n",
              " \"wasn't\": 417,\n",
              " 'everything': 418,\n",
              " 'stay': 419,\n",
              " 'computer': 420,\n",
              " 'aww': 421,\n",
              " 'omg': 422,\n",
              " \"couldn't\": 423,\n",
              " 'buy': 424,\n",
              " 'either': 425,\n",
              " 'tried': 426,\n",
              " 'which': 427,\n",
              " 'Have': 428,\n",
              " '+': 429,\n",
              " 'Well': 430,\n",
              " 'leaving': 431,\n",
              " '10': 432,\n",
              " 'anyone': 433,\n",
              " 'awesome': 434,\n",
              " 'mine': 435,\n",
              " 'family': 436,\n",
              " 'whole': 437,\n",
              " 'most': 438,\n",
              " 'probably': 439,\n",
              " 'cuz': 440,\n",
              " 'ago': 441,\n",
              " 'thinking': 442,\n",
              " 'died': 443,\n",
              " 'Wish': 444,\n",
              " 'sooo': 445,\n",
              " \"he's\": 446,\n",
              " 'may': 447,\n",
              " 'lunch': 448,\n",
              " 'every': 449,\n",
              " 'says': 450,\n",
              " 'sore': 451,\n",
              " 'boring': 452,\n",
              " 'half': 453,\n",
              " 'Got': 454,\n",
              " 'kinda': 455,\n",
              " '6': 456,\n",
              " 'Damn': 457,\n",
              " 'They': 458,\n",
              " 'news': 459,\n",
              " 'came': 460,\n",
              " 'Back': 461,\n",
              " 'seen': 462,\n",
              " 'asleep': 463,\n",
              " 'face': 464,\n",
              " 'office': 465,\n",
              " 'feels': 466,\n",
              " 'dog': 467,\n",
              " 'luck': 468,\n",
              " 'b': 469,\n",
              " 'ya': 470,\n",
              " 'took': 471,\n",
              " 'In': 472,\n",
              " 'busy': 473,\n",
              " 'totally': 474,\n",
              " 'If': 475,\n",
              " 'world': 476,\n",
              " 'hell': 477,\n",
              " 'Yeah': 478,\n",
              " \"I'd\": 479,\n",
              " 'place': 480,\n",
              " 'r': 481,\n",
              " \"i'll\": 482,\n",
              " 'dad': 483,\n",
              " 'hungry': 484,\n",
              " 'playing': 485,\n",
              " 'real': 486,\n",
              " 'else': 487,\n",
              " 'happened': 488,\n",
              " 'OMG': 489,\n",
              " 'crap': 490,\n",
              " 'seems': 491,\n",
              " 'Too': 492,\n",
              " 'used': 493,\n",
              " 'finished': 494,\n",
              " 'years': 495,\n",
              " 'hey': 496,\n",
              " 'Hope': 497,\n",
              " 'needs': 498,\n",
              " 'internet': 499,\n",
              " 'study': 500,\n",
              " \"That's\": 501,\n",
              " 'finally': 502,\n",
              " 'music': 503,\n",
              " 'heart': 504,\n",
              " 'dinner': 505,\n",
              " ';)': 506,\n",
              " 'On': 507,\n",
              " 'okay': 508,\n",
              " 'boo': 509,\n",
              " 'awake': 510,\n",
              " 'throat': 511,\n",
              " 'kids': 512,\n",
              " 'til': 513,\n",
              " '½': 514,\n",
              " 'suck': 515,\n",
              " 'taking': 516,\n",
              " 'forward': 517,\n",
              " '8': 518,\n",
              " 'Had': 519,\n",
              " \"Don't\": 520,\n",
              " 'soo': 521,\n",
              " 'hit': 522,\n",
              " 'dead': 523,\n",
              " 'broken': 524,\n",
              " 'idea': 525,\n",
              " 'run': 526,\n",
              " 'win': 527,\n",
              " 'SO': 528,\n",
              " 'mad': 529,\n",
              " 'video': 530,\n",
              " '¿': 531,\n",
              " \"i've\": 532,\n",
              " 'wake': 533,\n",
              " 'tweets': 534,\n",
              " 'song': 535,\n",
              " 'crazy': 536,\n",
              " \"there's\": 537,\n",
              " 'guy': 538,\n",
              " '>': 539,\n",
              " 'homework': 540,\n",
              " 'He': 541,\n",
              " 'started': 542,\n",
              " 'told': 543,\n",
              " 'NOT': 544,\n",
              " 'jealous': 545,\n",
              " 'minutes': 546,\n",
              " 'Me': 547,\n",
              " 'Monday': 548,\n",
              " '7': 549,\n",
              " 'heard': 550,\n",
              " 'full': 551,\n",
              " 'goes': 552,\n",
              " 'coffee': 553,\n",
              " 'beach': 554,\n",
              " 'gets': 555,\n",
              " 'god': 556,\n",
              " \"she's\": 557,\n",
              " 'break': 558,\n",
              " 'rest': 559,\n",
              " 'instead': 560,\n",
              " 'worst': 561,\n",
              " 'laptop': 562,\n",
              " 'amazing': 563,\n",
              " 'exams': 564,\n",
              " 'super': 565,\n",
              " 'upset': 566,\n",
              " 'Sad': 567,\n",
              " 'update': 568,\n",
              " 'free': 569,\n",
              " 'o': 570,\n",
              " 'horrible': 571,\n",
              " 'online': 572,\n",
              " 'wow': 573,\n",
              " 'drive': 574,\n",
              " '~': 575,\n",
              " 'sleeping': 576,\n",
              " 'sigh': 577,\n",
              " 'm': 578,\n",
              " 'sounds': 579,\n",
              " 'All': 580,\n",
              " 'month': 581,\n",
              " 'birthday': 582,\n",
              " 'cut': 583,\n",
              " 'follow': 584,\n",
              " 'fuck': 585,\n",
              " 'U': 586,\n",
              " 'change': 587,\n",
              " 'xx': 588,\n",
              " 'seem': 589,\n",
              " 'both': 590,\n",
              " 'move': 591,\n",
              " 'followers': 592,\n",
              " 't': 593,\n",
              " 'own': 594,\n",
              " 'awww': 595,\n",
              " 'fucking': 596,\n",
              " 'part': 597,\n",
              " 'called': 598,\n",
              " 'trip': 599,\n",
              " 'worse': 600,\n",
              " 'pic': 601,\n",
              " 'supposed': 602,\n",
              " 'TO': 603,\n",
              " 'open': 604,\n",
              " 'starting': 605,\n",
              " 'sitting': 606,\n",
              " 'season': 607,\n",
              " 'ass': 608,\n",
              " 'once': 609,\n",
              " 'seriously': 610,\n",
              " 'Poor': 611,\n",
              " 'Friday': 612,\n",
              " 'excited': 613,\n",
              " 'Ð': 614,\n",
              " 'Please': 615,\n",
              " 'eating': 616,\n",
              " 'happen': 617,\n",
              " 'YOU': 618,\n",
              " 'remember': 619,\n",
              " \"they're\": 620,\n",
              " 'eyes': 621,\n",
              " 'studying': 622,\n",
              " 'stomach': 623,\n",
              " 'Sunday': 624,\n",
              " 'months': 625,\n",
              " 'fall': 626,\n",
              " 'scared': 627,\n",
              " 'Thanks': 628,\n",
              " 'person': 629,\n",
              " 'Hey': 630,\n",
              " 'finish': 631,\n",
              " 'concert': 632,\n",
              " 'doesnt': 633,\n",
              " 'Last': 634,\n",
              " 'watched': 635,\n",
              " 'fail': 636,\n",
              " 'mind': 637,\n",
              " 'picture': 638,\n",
              " 'seeing': 639,\n",
              " 'book': 640,\n",
              " 'fell': 641,\n",
              " 'check': 642,\n",
              " 'send': 643,\n",
              " 'due': 644,\n",
              " 'Really': 645,\n",
              " 'funny': 646,\n",
              " 'means': 647,\n",
              " 'reason': 648,\n",
              " 'Day': 649,\n",
              " 'tickets': 650,\n",
              " 'Watching': 651,\n",
              " 'talking': 652,\n",
              " 'beautiful': 653,\n",
              " \"what's\": 654,\n",
              " 'longer': 655,\n",
              " 'walk': 656,\n",
              " 'true': 657,\n",
              " 'crying': 658,\n",
              " 'MY': 659,\n",
              " 'soooo': 660,\n",
              " 'text': 661,\n",
              " 'boy': 662,\n",
              " 'tv': 663,\n",
              " 'close': 664,\n",
              " 'THE': 665,\n",
              " 'flu': 666,\n",
              " 'reply': 667,\n",
              " 'test': 668,\n",
              " 'c': 669,\n",
              " 'post': 670,\n",
              " 'O': 671,\n",
              " 'meet': 672,\n",
              " 'ate': 673,\n",
              " 'care': 674,\n",
              " 'shopping': 675,\n",
              " \"we're\": 676,\n",
              " 'tummy': 677,\n",
              " 'kind': 678,\n",
              " 'monday': 679,\n",
              " 'sleepy': 680,\n",
              " 'slow': 681,\n",
              " 'running': 682,\n",
              " 'S': 683,\n",
              " 'water': 684,\n",
              " 'lonely': 685,\n",
              " 'She': 686,\n",
              " 'name': 687,\n",
              " 'hoping': 688,\n",
              " 'nap': 689,\n",
              " ':/': 690,\n",
              " 'problem': 691,\n",
              " 'cat': 692,\n",
              " 'mood': 693,\n",
              " 'NO': 694,\n",
              " 'friday': 695,\n",
              " 'following': 696,\n",
              " 'sister': 697,\n",
              " 'link': 698,\n",
              " 'past': 699,\n",
              " 'girls': 700,\n",
              " 'unfortunately': 701,\n",
              " 'dream': 702,\n",
              " 'quite': 703,\n",
              " 'lucky': 704,\n",
              " 'bout': 705,\n",
              " 'Today': 706,\n",
              " 'fast': 707,\n",
              " 'Aww': 708,\n",
              " 'Lol': 709,\n",
              " 'understand': 710,\n",
              " 'town': 711,\n",
              " 'glad': 712,\n",
              " 'site': 713,\n",
              " 'turn': 714,\n",
              " \"aren't\": 715,\n",
              " 'ones': 716,\n",
              " 'goin': 717,\n",
              " 'lots': 718,\n",
              " 'write': 719,\n",
              " 'ME': 720,\n",
              " 'weird': 721,\n",
              " 'sunny': 722,\n",
              " 'hospital': 723,\n",
              " 'Saturday': 724,\n",
              " '30': 725,\n",
              " 'ppl': 726,\n",
              " 'pics': 727,\n",
              " 'brother': 728,\n",
              " 'couple': 729,\n",
              " 'Wow': 730,\n",
              " 'bye': 731,\n",
              " 'Maybe': 732,\n",
              " 'side': 733,\n",
              " 'comes': 734,\n",
              " 'cute': 735,\n",
              " 'hopefully': 736,\n",
              " 'Was': 737,\n",
              " 'Work': 738,\n",
              " 'anyway': 739,\n",
              " 'drink': 740,\n",
              " 'Yes': 741,\n",
              " 'store': 742,\n",
              " 'moving': 743,\n",
              " '@tommcfly': 744,\n",
              " 'God': 745,\n",
              " 'reading': 746,\n",
              " 'final': 747,\n",
              " 'ive': 748,\n",
              " 'bring': 749,\n",
              " 'Getting': 750,\n",
              " 'Morning': 751,\n",
              " 'die': 752,\n",
              " 'less': 753,\n",
              " 'tour': 754,\n",
              " 'gym': 755,\n",
              " 'fair': 756,\n",
              " 'Off': 757,\n",
              " '9': 758,\n",
              " 'yay': 759,\n",
              " 'Will': 760,\n",
              " 'dude': 761,\n",
              " 'moment': 762,\n",
              " 'To': 763,\n",
              " 'New': 764,\n",
              " 'Trying': 765,\n",
              " 'sound': 766,\n",
              " 'aw': 767,\n",
              " 'cannot': 768,\n",
              " 'wishing': 769,\n",
              " 'bought': 770,\n",
              " 'listening': 771,\n",
              " 'afternoon': 772,\n",
              " 'body': 773,\n",
              " 'sunday': 774,\n",
              " 'havent': 775,\n",
              " 'high': 776,\n",
              " 'Haha': 777,\n",
              " 'sometimes': 778,\n",
              " 'bus': 779,\n",
              " 'together': 780,\n",
              " 'pay': 781,\n",
              " 'shower': 782,\n",
              " 'lil': 783,\n",
              " 'killing': 784,\n",
              " 'Time': 785,\n",
              " '%': 786,\n",
              " 'email': 787,\n",
              " 'fix': 788,\n",
              " 'parents': 789,\n",
              " 'Where': 790,\n",
              " 'earlier': 791,\n",
              " 'set': 792,\n",
              " 'hates': 793,\n",
              " 'knew': 794,\n",
              " 'Feeling': 795,\n",
              " 'isnt': 796,\n",
              " 'inside': 797,\n",
              " 'college': 798,\n",
              " 'terrible': 799,\n",
              " 'breakfast': 800,\n",
              " 'keeps': 801,\n",
              " 'sadly': 802,\n",
              " '12': 803,\n",
              " 'Need': 804,\n",
              " 'bummed': 805,\n",
              " 'short': 806,\n",
              " 'saying': 807,\n",
              " 'There': 808,\n",
              " 'flight': 809,\n",
              " '20': 810,\n",
              " 'under': 811,\n",
              " 'airport': 812,\n",
              " 'ride': 813,\n",
              " 'sold': 814,\n",
              " 'red': 815,\n",
              " \"wouldn't\": 816,\n",
              " 'shame': 817,\n",
              " 'hand': 818,\n",
              " 'One': 819,\n",
              " 'fine': 820,\n",
              " 'AND': 821,\n",
              " 'dear': 822,\n",
              " 'course': 823,\n",
              " 'meeting': 824,\n",
              " 'train': 825,\n",
              " 'plans': 826,\n",
              " 'hahaha': 827,\n",
              " 'clean': 828,\n",
              " 'chance': 829,\n",
              " 'ice': 830,\n",
              " 'yea': 831,\n",
              " 'rather': 832,\n",
              " 'Only': 833,\n",
              " 'driving': 834,\n",
              " 'rainy': 835,\n",
              " '@mileycyrus': 836,\n",
              " 'works': 837,\n",
              " 'When': 838,\n",
              " 'disappointed': 839,\n",
              " 'awful': 840,\n",
              " '3.0': 841,\n",
              " 'Can': 842,\n",
              " 'account': 843,\n",
              " '\\x99': 844,\n",
              " 'three': 845,\n",
              " 'iphone': 846,\n",
              " 'hang': 847,\n",
              " 'saturday': 848,\n",
              " 'Ok': 849,\n",
              " 'gave': 850,\n",
              " 'second': 851,\n",
              " 'using': 852,\n",
              " '1st': 853,\n",
              " 'during': 854,\n",
              " '2day': 855,\n",
              " 'IT': 856,\n",
              " 'lovely': 857,\n",
              " 'cleaning': 858,\n",
              " 'Did': 859,\n",
              " 'Another': 860,\n",
              " 'slept': 861,\n",
              " 'lose': 862,\n",
              " 'vacation': 863,\n",
              " 'spend': 864,\n",
              " 'eye': 865,\n",
              " 'top': 866,\n",
              " 'Love': 867,\n",
              " 'realized': 868,\n",
              " 'movies': 869,\n",
              " 'camera': 870,\n",
              " 'nite': 871,\n",
              " 'closed': 872,\n",
              " 'forever': 873,\n",
              " 'page': 874,\n",
              " 'Has': 875,\n",
              " 'won': 876,\n",
              " 'enjoy': 877,\n",
              " 'annoying': 878,\n",
              " 'idk': 879,\n",
              " 'shows': 880,\n",
              " 'felt': 881,\n",
              " 'pool': 882,\n",
              " 'thank': 883,\n",
              " 'y': 884,\n",
              " 'catch': 885,\n",
              " 'sent': 886,\n",
              " 'sweet': 887,\n",
              " 'dying': 888,\n",
              " 'blog': 889,\n",
              " 'feet': 890,\n",
              " 'facebook': 891,\n",
              " 'fever': 892,\n",
              " 'visit': 893,\n",
              " 'cos': 894,\n",
              " 'wear': 895,\n",
              " 'holiday': 896,\n",
              " 'Miss': 897,\n",
              " 'worried': 898,\n",
              " 'Up': 899,\n",
              " 'cream': 900,\n",
              " '@ddlovato': 901,\n",
              " 'tea': 902,\n",
              " 'Man': 903,\n",
              " 'nose': 904,\n",
              " 'apparently': 905,\n",
              " 'figure': 906,\n",
              " 'fan': 907,\n",
              " 'ha': 908,\n",
              " \":'(\": 909,\n",
              " 'da': 910,\n",
              " 'boys': 911,\n",
              " 'listen': 912,\n",
              " 'ask': 913,\n",
              " 'paper': 914,\n",
              " 'pick': 915,\n",
              " 'kill': 916,\n",
              " 'church': 917,\n",
              " 'IS': 918,\n",
              " 'loved': 919,\n",
              " 'Do': 920,\n",
              " 'TV': 921,\n",
              " 'taken': 922,\n",
              " 'Omg': 923,\n",
              " '´': 924,\n",
              " 'spent': 925,\n",
              " 'answer': 926,\n",
              " 'evening': 927,\n",
              " 'lame': 928,\n",
              " 'scary': 929,\n",
              " 'wonder': 930,\n",
              " 'mum': 931,\n",
              " 'Happy': 932,\n",
              " 'pissed': 933,\n",
              " 'Very': 934,\n",
              " 'goodbye': 935,\n",
              " 'Boo': 936,\n",
              " 'hug': 937,\n",
              " 'Missing': 938,\n",
              " 'city': 939,\n",
              " '[': 940,\n",
              " '<': 941,\n",
              " 'looked': 942,\n",
              " 'â': 943,\n",
              " 'list': 944,\n",
              " 'except': 945,\n",
              " 'cancelled': 946,\n",
              " 'updates': 947,\n",
              " 'favorite': 948,\n",
              " 'card': 949,\n",
              " '\\x80': 950,\n",
              " 'boyfriend': 951,\n",
              " 'ah': 952,\n",
              " 'near': 953,\n",
              " ']': 954,\n",
              " 'ache': 955,\n",
              " 'Then': 956,\n",
              " 'story': 957,\n",
              " 'Bad': 958,\n",
              " 'point': 959,\n",
              " 'passed': 960,\n",
              " 'lmao': 961,\n",
              " 'whats': 962,\n",
              " 'June': 963,\n",
              " '100': 964,\n",
              " 'revision': 965,\n",
              " 'line': 966,\n",
              " 'voice': 967,\n",
              " 'hi': 968,\n",
              " 'Looks': 969,\n",
              " '#': 970,\n",
              " 'plane': 971,\n",
              " 'writing': 972,\n",
              " 'hugs': 973,\n",
              " 'hrs': 974,\n",
              " 'depressed': 975,\n",
              " 'turned': 976,\n",
              " 'R': 977,\n",
              " 'wondering': 978,\n",
              " 'date': 979,\n",
              " 'For': 980,\n",
              " 'upload': 981,\n",
              " '15': 982,\n",
              " 'lately': 983,\n",
              " 'badly': 984,\n",
              " 'Am': 985,\n",
              " 'Great': 986,\n",
              " 'episode': 987,\n",
              " 'lazy': 988,\n",
              " 'behind': 989,\n",
              " 'traffic': 990,\n",
              " 'failed': 991,\n",
              " 'dance': 992,\n",
              " 'bike': 993,\n",
              " 'aint': 994,\n",
              " 'black': 995,\n",
              " 'Also': 996,\n",
              " 'definitely': 997,\n",
              " 'ran': 998,\n",
              " 'Working': 999,\n",
              " ...}"
            ]
          },
          "execution_count": 23,
          "metadata": {},
          "output_type": "execute_result"
        }
      ],
      "source": [
        "word2idx = {\n",
        "    word: index\n",
        "    for index, word in enumerate(\n",
        "        pd.value_counts([token for tokens in df[\"cleaned\"] for token in tokens]).index\n",
        "    )\n",
        "}  # TODO\n",
        "word2idx\n"
      ]
    },
    {
      "cell_type": "markdown",
      "metadata": {
        "id": "wShRcQcfYYX2"
      },
      "source": [
        "Welche Länge werden die Vektoren haben?\n"
      ]
    },
    {
      "cell_type": "code",
      "execution_count": 24,
      "metadata": {
        "id": "eM8DyIgNYYX4"
      },
      "outputs": [
        {
          "name": "stdout",
          "output_type": "stream",
          "text": [
            "466230\n"
          ]
        }
      ],
      "source": [
        "VECTOR_LEN = len(word2idx)  # TODO\n",
        "print(VECTOR_LEN)\n"
      ]
    },
    {
      "cell_type": "markdown",
      "metadata": {
        "id": "fc65A8wwYYX9"
      },
      "source": [
        "Wir könnten mit `numpy` ein Array befüllen, das für jeden der 16 Millionen Tweets einen Vektor wie oben beschrieben enthält.\n",
        "Bevor ihr damit beginnen, überschlagt, wieviel Speicherplatz (im Hauptspeicher) ein solches Array belegen würde, wenn jeder Eintrag 32 bit hat. Reicht euer Hauptspeicher dafür aus?\n"
      ]
    },
    {
      "cell_type": "code",
      "execution_count": 25,
      "metadata": {
        "id": "aYODrE0LYYX_"
      },
      "outputs": [
        {
          "name": "stdout",
          "output_type": "stream",
          "text": [
            "Das numpy Array würde 27.14 TB benötigen\n"
          ]
        }
      ],
      "source": [
        "MEMORY = VECTOR_LEN * 16_000_000 * 32  # TODO\n",
        "print(f\"Das numpy Array würde {(MEMORY / 8 / (1024 **4)):.2f} TB benötigen\")\n"
      ]
    },
    {
      "cell_type": "markdown",
      "metadata": {
        "id": "iGTNZMlIYYYD"
      },
      "source": [
        "### 3.2 Data Generator\n",
        "\n",
        "Um das Problem mit dem zu kleinen Hauptspeicher zu umgehen, bietet Keras die Möglichkeit, anstatt auf einem kompletten Datensatz zu operieren, immer nur kleinere Häppchen abzuarbeiten. Dazu wird ein Python-Generator eingesetzt.\n",
        "Vervollständigt die Funktion unten, so dass ein Generator entsteht. Die Parameter der Funktion sind:\n",
        "\n",
        "- x, y: tokenisierte und gesäuberte Tweets und Labels\n",
        "- w2i: das word2index dictionary\n",
        "- batch_size: Anzahl der vektorisierten Tweets, die pro Aufruf zurückgegeben werden sollen.\n",
        "\n",
        "Die benutzen Tweets nacheinander aus `x, y` gewählt werden und kein Tweet mehrfach zurückgegeben werden.\n"
      ]
    },
    {
      "cell_type": "code",
      "execution_count": 42,
      "metadata": {
        "id": "mRVPs_ZlYYYF"
      },
      "outputs": [],
      "source": [
        "import random\n",
        "import numpy as np\n",
        "\n",
        "\n",
        "def data_generator(x, y, w2i, batch_size):\n",
        "    num_batches = int(np.ceil(len(x) / batch_size))  # TODO\n",
        "    current_batch = 0\n",
        "\n",
        "    while True:\n",
        "        # Initialize with zeros\n",
        "        batch_x = np.zeros((batch_size, len(w2i.keys())), dtype=np.int64)\n",
        "        batch_y = np.zeros((batch_size, 1))\n",
        "\n",
        "        # TODO\n",
        "        # Iterate batches\n",
        "        start_index = current_batch * batch_size\n",
        "        for i in range(batch_size):\n",
        "            if i + start_index >= len(x):\n",
        "                break\n",
        "            # Add to _batch_x_ at index of _np.vectorize_ value _1_ for each found index\n",
        "            np.add.at(\n",
        "                batch_x[i],\n",
        "                np.vectorize(\n",
        "                    lambda word: w2i.get(word)\n",
        "                    if w2i.get(word) != None\n",
        "                    else -1  # return -1 if word is not in vocab\n",
        "                )(x[i + start_index]),\n",
        "                1,\n",
        "            )\n",
        "            batch_y[i] = y[i]\n",
        "\n",
        "        current_batch += 1\n",
        "        yield batch_x, batch_y\n",
        "\n",
        "        # Reset counter\n",
        "        if current_batch >= num_batches:\n",
        "            current_batch = 0\n"
      ]
    },
    {
      "cell_type": "code",
      "execution_count": 27,
      "metadata": {
        "id": "ETv9mEIhYYYM"
      },
      "outputs": [],
      "source": [
        "BATCH_SIZE = 32\n",
        "\n",
        "gen = data_generator(\n",
        "    df[\"cleaned\"].to_numpy(), df[\"polarity\"].to_numpy(), word2idx, BATCH_SIZE\n",
        ")  # TODO\n"
      ]
    },
    {
      "cell_type": "markdown",
      "metadata": {
        "id": "VwLI3pTcYYYK"
      },
      "source": [
        "Ihr könnt euren Generator wie folgt ausprobieren:\n"
      ]
    },
    {
      "cell_type": "code",
      "execution_count": 28,
      "metadata": {
        "id": "ZEh0__Ljyk8x"
      },
      "outputs": [
        {
          "data": {
            "text/plain": [
              "(array([[0, 2, 0, ..., 0, 0, 0],\n",
              "        [0, 1, 1, ..., 0, 0, 0],\n",
              "        [0, 1, 0, ..., 0, 0, 0],\n",
              "        ...,\n",
              "        [0, 1, 0, ..., 0, 0, 0],\n",
              "        [1, 0, 0, ..., 0, 0, 0],\n",
              "        [0, 0, 0, ..., 0, 0, 0]]),\n",
              " array([[0.],\n",
              "        [0.],\n",
              "        [0.],\n",
              "        [0.],\n",
              "        [0.],\n",
              "        [0.],\n",
              "        [0.],\n",
              "        [0.],\n",
              "        [0.],\n",
              "        [0.],\n",
              "        [0.],\n",
              "        [0.],\n",
              "        [0.],\n",
              "        [0.],\n",
              "        [0.],\n",
              "        [0.],\n",
              "        [0.],\n",
              "        [0.],\n",
              "        [0.],\n",
              "        [0.],\n",
              "        [0.],\n",
              "        [0.],\n",
              "        [0.],\n",
              "        [0.],\n",
              "        [0.],\n",
              "        [0.],\n",
              "        [0.],\n",
              "        [0.],\n",
              "        [0.],\n",
              "        [0.],\n",
              "        [0.],\n",
              "        [0.]]))"
            ]
          },
          "execution_count": 28,
          "metadata": {},
          "output_type": "execute_result"
        }
      ],
      "source": [
        "next(gen)\n"
      ]
    },
    {
      "cell_type": "markdown",
      "metadata": {
        "id": "b1qy5nlEYYYW"
      },
      "source": [
        "### 3.3 Neuronales Netz\n",
        "\n",
        "Wir sind nun endlich soweit, unser neuronales Netz aufzubauen. Da unser Netz genau ein hidden Layer hat und auch sonst nicht sonderlich komplex ist, benutzen wir die _Sequential_-API von Keras.\n"
      ]
    },
    {
      "cell_type": "code",
      "execution_count": 29,
      "metadata": {
        "id": "VY_sZSc1YYYX"
      },
      "outputs": [
        {
          "name": "stderr",
          "output_type": "stream",
          "text": [
            "2022-11-15 10:20:55.719714: I tensorflow/core/platform/cpu_feature_guard.cc:193] This TensorFlow binary is optimized with oneAPI Deep Neural Network Library (oneDNN) to use the following CPU instructions in performance-critical operations:  AVX2 FMA\n",
            "To enable them in other operations, rebuild TensorFlow with the appropriate compiler flags.\n"
          ]
        }
      ],
      "source": [
        "from tensorflow.keras.models import Sequential\n",
        "from tensorflow.keras.layers import Dense\n",
        "\n",
        "m = Sequential()\n"
      ]
    },
    {
      "cell_type": "markdown",
      "metadata": {
        "id": "rcE9-qJxYYYc"
      },
      "source": [
        "Fügt einen _Dense_-Layer dem Netz hinzu, als _hidden units_ könnt ihr 16 nehmen. Da dies auch der Eingabe-Layer ist, müsst ihr den Parameter `input_shape` definieren. (Siehe auch: https://keras.io/layers/core/)\n"
      ]
    },
    {
      "cell_type": "code",
      "execution_count": 30,
      "metadata": {
        "id": "uWkgD9ACYYYd"
      },
      "outputs": [],
      "source": [
        "m.add(Dense(16, input_shape=(VECTOR_LEN), activation=\"relu\"))  # TODO\n"
      ]
    },
    {
      "cell_type": "markdown",
      "metadata": {
        "id": "LnqAOXj5YYYi"
      },
      "source": [
        "Als letzten Layer in unserem neuronalen Netz, fügt einen weiteren _Dense_-Layer hinzu. Dieser Layer dient auch als \"Ausgabelayer\" Überlegt euch die Anzahl der _hidden units_ (Hinweis: Wie lässt sich unser Machine-Learning-Problem kategorisieren?) Welche _Activation_-Funktion wählt ihr?\n"
      ]
    },
    {
      "cell_type": "code",
      "execution_count": 31,
      "metadata": {
        "id": "-EdR3LgfYYYj"
      },
      "outputs": [],
      "source": [
        "m.add(Dense(1, activation=\"sigmoid\"))  # TODO\n"
      ]
    },
    {
      "cell_type": "markdown",
      "metadata": {
        "id": "JlSaW4I1YYYn"
      },
      "source": [
        "7. Kompiliert das neuronale Netz. Als `optimizer` könnt ihr 'adam' benutzen. Wählt eine passende `loss`-Funktion aus. Begründet eure Entscheidung. (https://keras.io/models/model/#compile)\n"
      ]
    },
    {
      "cell_type": "code",
      "execution_count": 32,
      "metadata": {
        "id": "0U54vEg-YYYo"
      },
      "outputs": [],
      "source": [
        "# TODO\n",
        "m.compile(optimizer=\"adam\", loss=\"binary_crossentropy\")\n"
      ]
    },
    {
      "cell_type": "markdown",
      "metadata": {
        "id": "Bpt8M2ynYYYs"
      },
      "source": [
        "### 3.3. Training\n",
        "\n",
        "Bevor ihr nun das neuronale Netz trainiert, teilt noch euren Datensatz in zwei Teile auf. Einen Teil zum Trainieren und einen zum Evaluieren. Das Verhältnis der beiden Datensätze sollte 70%:30% sein. Bevor ihr die Daten aufteilen, durchmischt sie mit der `shuffle`-Methode aus dem `random`-Modul. Außerdem solltet ihr die Datenmenge zunächst auf ca. 100000 begrenzen, damit das Training des neuronalen Netzes nicht ewig dauert.\n"
      ]
    },
    {
      "cell_type": "code",
      "execution_count": 33,
      "metadata": {
        "id": "0TLMbqBDYYYt"
      },
      "outputs": [],
      "source": [
        "# TODO\n",
        "from sklearn.model_selection import train_test_split\n",
        "\n",
        "SAMPLE_SIZE = 100000\n",
        "sample_df = df.sample(SAMPLE_SIZE)\n",
        "\n",
        "X_train_sample, X_val_sample, y_train_sample, y_val_sample = train_test_split(\n",
        "    sample_df[\"cleaned\"].to_numpy(), sample_df[\"polarity\"].to_numpy(), test_size=0.3\n",
        ")\n"
      ]
    },
    {
      "cell_type": "markdown",
      "metadata": {
        "id": "POelfhirYYYx"
      },
      "source": [
        "Wir sind nun soweit das neuronale Netz zu trainieren. Da wir den oben entwickelten Generator einsetzen wollen, verwenden wir dazu die `fit_generator`-Methode. Als `batch_size` könnt ihr 100 nehmen, für den `epochs`-Parameter 10. Was wählt ihr als `steps_per_epoch`-Parameter? (https://keras.io/models/model/#fit_generator)\n"
      ]
    },
    {
      "cell_type": "code",
      "execution_count": 34,
      "metadata": {
        "id": "i0sWka05YYYy"
      },
      "outputs": [
        {
          "name": "stdout",
          "output_type": "stream",
          "text": [
            "Epoch 1/10\n",
            "700/700 [==============================] - ETA: 0s - loss: 0.6932INFO:tensorflow:Assets written to: ./download/sentiment140/model_checkpoint.hd5/assets\n",
            "700/700 [==============================] - 187s 266ms/step - loss: 0.6932 - val_loss: 0.6999\n",
            "Epoch 2/10\n",
            "700/700 [==============================] - 191s 273ms/step - loss: 0.6545 - val_loss: 0.7328\n",
            "Epoch 3/10\n",
            "700/700 [==============================] - 193s 275ms/step - loss: 0.5772 - val_loss: 0.8046\n",
            "Epoch 4/10\n",
            "700/700 [==============================] - ETA: 0s - loss: 0.5139Restoring model weights from the end of the best epoch: 1.\n",
            "700/700 [==============================] - 195s 279ms/step - loss: 0.5139 - val_loss: 0.8812\n",
            "Epoch 4: early stopping\n",
            "Model: \"sequential\"\n",
            "_________________________________________________________________\n",
            " Layer (type)                Output Shape              Param #   \n",
            "=================================================================\n",
            " dense (Dense)               (None, 16)                7459696   \n",
            "                                                                 \n",
            " dense_1 (Dense)             (None, 1)                 17        \n",
            "                                                                 \n",
            "=================================================================\n",
            "Total params: 7,459,713\n",
            "Trainable params: 7,459,713\n",
            "Non-trainable params: 0\n",
            "_________________________________________________________________\n",
            "None\n"
          ]
        }
      ],
      "source": [
        "BATCH_SIZE = 100\n",
        "PATIENCE = 3\n",
        "\n",
        "train_gen_sample = data_generator(X_train_sample, y_train_sample, word2idx, BATCH_SIZE)\n",
        "val_gen_sample = data_generator(X_val_sample, y_val_sample, word2idx, BATCH_SIZE)\n",
        "\n",
        "train_steps_sample = int(np.ceil(len(X_train_sample) / BATCH_SIZE))\n",
        "val_steps_sample = int(np.ceil(len(X_val_sample) / BATCH_SIZE))\n",
        "\n",
        "model_checkpoint = tf.keras.callbacks.ModelCheckpoint(\n",
        "    \"./download/sentiment140/model_checkpoint_sample.hd5\", save_best_only=True\n",
        ")\n",
        "early_stopping = tf.keras.callbacks.EarlyStopping(\n",
        "    verbose=1, patience=PATIENCE, restore_best_weights=True\n",
        ")\n",
        "\n",
        "m.fit(\n",
        "    x=train_gen_sample,\n",
        "    validation_data=val_gen_sample,\n",
        "    steps_per_epoch=train_steps_sample,\n",
        "    validation_steps=val_steps_sample,\n",
        "    epochs=10,\n",
        "    callbacks=[model_checkpoint, early_stopping],\n",
        ")  # TODO\n",
        "print(m.summary())\n"
      ]
    },
    {
      "cell_type": "markdown",
      "metadata": {
        "id": "LvBjnS3YYYY2"
      },
      "source": [
        "Während das Netz trainiert wird, könnt ihr euch Gedanken zur Evaluierung machen:\n"
      ]
    },
    {
      "cell_type": "markdown",
      "metadata": {},
      "source": [
        "- Definiert die üblichen Fehlerklassen (wahr positiv, falsch positiv, wahr negativ, falsch negativ)\n"
      ]
    },
    {
      "cell_type": "markdown",
      "metadata": {},
      "source": [
        "- Eine häufig benutzte Evaluationsmetrik ist die _Accuracy_. Beschreibt diese Metrik und schreibt die Formel zur Berechnung auf.\n"
      ]
    },
    {
      "cell_type": "markdown",
      "metadata": {},
      "source": [
        "> Accuracy gibt die Treffergenauigkeit aller Vorhersagen zu ihrem wahren Wert an.\n",
        "> $$\\text{Accuracy} = \\frac{TP + TN}{TP + TN + FP + FN} \\Leftrightarrow \\frac{TP + TN}{\\text{All Predictions}}$$\n"
      ]
    },
    {
      "cell_type": "markdown",
      "metadata": {},
      "source": [
        "- Warum könnte die _Accuracy_ eine schlechte Metrik sein?\n"
      ]
    },
    {
      "cell_type": "markdown",
      "metadata": {},
      "source": [
        "> Weil sie relativ anfällig für unbalancierte Datasets ist.\n"
      ]
    },
    {
      "cell_type": "markdown",
      "metadata": {},
      "source": [
        "- Zur Evaluation von binären Klassifikationsproblemen wird in der Literatur gerne _Precision_ und _Recall_ verwendet. Wie sind die beiden Evaluationsmaße definiert? Beschreibt diese Metriken mit eigenen Worten. Schreibt auch die Formeln zur Berechnung auf.\n"
      ]
    },
    {
      "cell_type": "markdown",
      "metadata": {},
      "source": [
        "> Precision und Recall zeichnen sich durch die unten beschriebenen Formeln aus.\n",
        "> Die Precision gibt dabei den Anteil der korrekt vorhergesagten aus allen als Positiv vorhergesagten Daten wieder, wohingegen der Recall wie Wahrscheinlichkeit an mit der ein als positiv vorhergesagtes Datum wirklich positiv ist.  \n",
        "> $$\\text{Precision} = \\frac{TP}{TP + FP}$$\n",
        "> $$\\text{Recall} = \\frac{TP}{TP + FN}$$\n"
      ]
    },
    {
      "cell_type": "markdown",
      "metadata": {},
      "source": [
        "- Warum könnten _Precision_ und _Recall_ bessere Metriken sein als _Accuracy_?\n"
      ]
    },
    {
      "cell_type": "markdown",
      "metadata": {},
      "source": [
        "> Es wird der Fehler 1. Art und 2. Art separat betrachtet.\n"
      ]
    },
    {
      "cell_type": "markdown",
      "metadata": {
        "id": "sO7uif0sYYY4"
      },
      "source": [
        "11. Inzwischen sollte das Netz fertig trainiert sein. Speichert es ab!\n"
      ]
    },
    {
      "cell_type": "code",
      "execution_count": 35,
      "metadata": {
        "id": "MpOkWtFWYYY5"
      },
      "outputs": [],
      "source": [
        "m.save(\"my_net_sample.h5\")\n"
      ]
    },
    {
      "cell_type": "markdown",
      "metadata": {
        "id": "Z_TJCJK9YYY8"
      },
      "source": [
        "### 3.4. Evaluation\n",
        "\n",
        "Evaluiert euer Netz mit dem Datensatz, den ihr oben beseite gelegt haben. Benutzt dafür die `predict`-Methode des Models. Berechnet dafür _Precision_, _Recall_, _Accuracy_ und _Confusion Matrix_.\n",
        "\n",
        "Interpretiert kurz eure Ergebnisse.\n"
      ]
    },
    {
      "cell_type": "code",
      "execution_count": 104,
      "metadata": {
        "id": "HFssQxB632ig"
      },
      "outputs": [
        {
          "name": "stdout",
          "output_type": "stream",
          "text": [
            "1/1 [==============================] - 0s 349ms/step\n"
          ]
        }
      ],
      "source": [
        "# TODO\n",
        "df_test = pd.read_csv(\n",
        "    rf\"{DATA_DIR}/testdata.manual.2009.06.14.csv\",\n",
        "    encoding=\"latin-1\",\n",
        "    index_col=1,\n",
        "    usecols=[0, 1, 5],\n",
        "    names=[\"polarity\", \"id\", \"text\"],\n",
        "    converters={0: int, 1: int, 5: str},\n",
        ")\n",
        "\n",
        "df_test = df_test.loc[\n",
        "    (df_test[\"polarity\"] == 1) | (df_test[\"polarity\"] == 0)\n",
        "]  # Remove polarity 2 from the dataset\n",
        "\n",
        "df_test[\"polarity\"] = df_test[\"polarity\"] / 4\n",
        "df_test = df_test.astype({\"text\": str})\n",
        "\n",
        "df_test[\"cleaned\"] = df_test[\"text\"].apply(tweet_tokenizer.tokenize)\n",
        "\n",
        "test_gen = data_generator(\n",
        "    df_test[\"cleaned\"].to_numpy(), df_test[\"polarity\"].to_numpy(), word2idx, BATCH_SIZE\n",
        ")\n",
        "\n",
        "STEPS = 1\n",
        "MAX_STEPS = min(STEPS, int(np.ceil(len(df_test) / BATCH_SIZE)))\n",
        "\n",
        "predictions = m.predict(test_gen, batch_size=BATCH_SIZE, steps=MAX_STEPS)\n",
        "\n",
        "binary_predictions = np.round(predictions)\n"
      ]
    },
    {
      "cell_type": "code",
      "execution_count": 141,
      "metadata": {},
      "outputs": [],
      "source": [
        "def get_category(truth, prediction):\n",
        "    if truth == prediction == 1:\n",
        "        return \"TP\"\n",
        "    elif truth == prediction == 0:\n",
        "        return \"TN\"\n",
        "    elif truth != prediction == 1:\n",
        "        return \"FP\"\n",
        "    elif truth != prediction == 0:\n",
        "        return \"FN\"\n",
        "\n",
        "\n",
        "evaluation = pd.DataFrame()\n",
        "evaluation[\"truth\"] = df_test[\"polarity\"][: (MAX_STEPS * BATCH_SIZE)].to_numpy()\n",
        "evaluation[\"prediction\"] = binary_predictions\n",
        "evaluation[\"category\"] = evaluation.apply(\n",
        "    lambda row: get_category(row[\"truth\"], row[\"prediction\"]), axis=1\n",
        ")\n"
      ]
    },
    {
      "cell_type": "code",
      "execution_count": 157,
      "metadata": {},
      "outputs": [],
      "source": [
        "cfm = evaluation[\"category\"].value_counts(normalize=True)\n"
      ]
    },
    {
      "cell_type": "code",
      "execution_count": 163,
      "metadata": {},
      "outputs": [
        {
          "name": "stdout",
          "output_type": "stream",
          "text": [
            "precision: 0.0\n",
            "recall: 0.0\n",
            "🤡\n"
          ]
        }
      ],
      "source": [
        "precision = cfm.get(\"TP\", 0.) / (cfm.get(\"TP\", 0.) + cfm.get(\"FP\", 0.))\n",
        "recall = cfm.get(\"TP\", 0.) / (cfm.get(\"TP\", 0.000000001) + cfm.get(\"FN\", 0.))\n",
        "print(f\"precision: {precision}\\nrecall: {recall}\\n🤡\")"
      ]
    },
    {
      "cell_type": "markdown",
      "metadata": {
        "id": "gI0YZIpvYYZA"
      },
      "source": [
        "## 3b. (optional) Erweiterte Klassifikation\n",
        "\n",
        "Im nächsten Schritt wollen wir das Netz auf dem vollen Datensatz trainieren und die Komplexität etwas erhöhen.\n",
        "\n",
        "1. Trainiert euer Netz auf dem großen Datensatz.\n"
      ]
    },
    {
      "cell_type": "code",
      "execution_count": 164,
      "metadata": {
        "id": "_4GkVcQRd4W2"
      },
      "outputs": [
        {
          "name": "stdout",
          "output_type": "stream",
          "text": [
            "Epoch 1/10\n",
            "   37/11200 [..............................] - ETA: 39:43 - loss: 0.6956"
          ]
        },
        {
          "ename": "KeyboardInterrupt",
          "evalue": "",
          "output_type": "error",
          "traceback": [
            "\u001b[0;31m---------------------------------------------------------------------------\u001b[0m",
            "\u001b[0;31mKeyboardInterrupt\u001b[0m                         Traceback (most recent call last)",
            "\u001b[0;32m/var/folders/3v/78hxlk7s49sfnp3vnprqd5p40000gn/T/ipykernel_484/1252324286.py\u001b[0m in \u001b[0;36m<module>\u001b[0;34m\u001b[0m\n\u001b[1;32m     17\u001b[0m )\n\u001b[1;32m     18\u001b[0m \u001b[0;34m\u001b[0m\u001b[0m\n\u001b[0;32m---> 19\u001b[0;31m m.fit(\n\u001b[0m\u001b[1;32m     20\u001b[0m     \u001b[0mx\u001b[0m\u001b[0;34m=\u001b[0m\u001b[0mtrain_gen\u001b[0m\u001b[0;34m,\u001b[0m\u001b[0;34m\u001b[0m\u001b[0;34m\u001b[0m\u001b[0m\n\u001b[1;32m     21\u001b[0m     \u001b[0mvalidation_data\u001b[0m\u001b[0;34m=\u001b[0m\u001b[0mval_gen\u001b[0m\u001b[0;34m,\u001b[0m\u001b[0;34m\u001b[0m\u001b[0;34m\u001b[0m\u001b[0m\n",
            "\u001b[0;32m~/opt/anaconda3/lib/python3.9/site-packages/keras/utils/traceback_utils.py\u001b[0m in \u001b[0;36merror_handler\u001b[0;34m(*args, **kwargs)\u001b[0m\n\u001b[1;32m     63\u001b[0m         \u001b[0mfiltered_tb\u001b[0m \u001b[0;34m=\u001b[0m \u001b[0;32mNone\u001b[0m\u001b[0;34m\u001b[0m\u001b[0;34m\u001b[0m\u001b[0m\n\u001b[1;32m     64\u001b[0m         \u001b[0;32mtry\u001b[0m\u001b[0;34m:\u001b[0m\u001b[0;34m\u001b[0m\u001b[0;34m\u001b[0m\u001b[0m\n\u001b[0;32m---> 65\u001b[0;31m             \u001b[0;32mreturn\u001b[0m \u001b[0mfn\u001b[0m\u001b[0;34m(\u001b[0m\u001b[0;34m*\u001b[0m\u001b[0margs\u001b[0m\u001b[0;34m,\u001b[0m \u001b[0;34m**\u001b[0m\u001b[0mkwargs\u001b[0m\u001b[0;34m)\u001b[0m\u001b[0;34m\u001b[0m\u001b[0;34m\u001b[0m\u001b[0m\n\u001b[0m\u001b[1;32m     66\u001b[0m         \u001b[0;32mexcept\u001b[0m \u001b[0mException\u001b[0m \u001b[0;32mas\u001b[0m \u001b[0me\u001b[0m\u001b[0;34m:\u001b[0m\u001b[0;34m\u001b[0m\u001b[0;34m\u001b[0m\u001b[0m\n\u001b[1;32m     67\u001b[0m             \u001b[0mfiltered_tb\u001b[0m \u001b[0;34m=\u001b[0m \u001b[0m_process_traceback_frames\u001b[0m\u001b[0;34m(\u001b[0m\u001b[0me\u001b[0m\u001b[0;34m.\u001b[0m\u001b[0m__traceback__\u001b[0m\u001b[0;34m)\u001b[0m\u001b[0;34m\u001b[0m\u001b[0;34m\u001b[0m\u001b[0m\n",
            "\u001b[0;32m~/opt/anaconda3/lib/python3.9/site-packages/keras/engine/training.py\u001b[0m in \u001b[0;36mfit\u001b[0;34m(self, x, y, batch_size, epochs, verbose, callbacks, validation_split, validation_data, shuffle, class_weight, sample_weight, initial_epoch, steps_per_epoch, validation_steps, validation_batch_size, validation_freq, max_queue_size, workers, use_multiprocessing)\u001b[0m\n\u001b[1;32m   1562\u001b[0m                         ):\n\u001b[1;32m   1563\u001b[0m                             \u001b[0mcallbacks\u001b[0m\u001b[0;34m.\u001b[0m\u001b[0mon_train_batch_begin\u001b[0m\u001b[0;34m(\u001b[0m\u001b[0mstep\u001b[0m\u001b[0;34m)\u001b[0m\u001b[0;34m\u001b[0m\u001b[0;34m\u001b[0m\u001b[0m\n\u001b[0;32m-> 1564\u001b[0;31m                             \u001b[0mtmp_logs\u001b[0m \u001b[0;34m=\u001b[0m \u001b[0mself\u001b[0m\u001b[0;34m.\u001b[0m\u001b[0mtrain_function\u001b[0m\u001b[0;34m(\u001b[0m\u001b[0miterator\u001b[0m\u001b[0;34m)\u001b[0m\u001b[0;34m\u001b[0m\u001b[0;34m\u001b[0m\u001b[0m\n\u001b[0m\u001b[1;32m   1565\u001b[0m                             \u001b[0;32mif\u001b[0m \u001b[0mdata_handler\u001b[0m\u001b[0;34m.\u001b[0m\u001b[0mshould_sync\u001b[0m\u001b[0;34m:\u001b[0m\u001b[0;34m\u001b[0m\u001b[0;34m\u001b[0m\u001b[0m\n\u001b[1;32m   1566\u001b[0m                                 \u001b[0mcontext\u001b[0m\u001b[0;34m.\u001b[0m\u001b[0masync_wait\u001b[0m\u001b[0;34m(\u001b[0m\u001b[0;34m)\u001b[0m\u001b[0;34m\u001b[0m\u001b[0;34m\u001b[0m\u001b[0m\n",
            "\u001b[0;32m~/opt/anaconda3/lib/python3.9/site-packages/tensorflow/python/util/traceback_utils.py\u001b[0m in \u001b[0;36merror_handler\u001b[0;34m(*args, **kwargs)\u001b[0m\n\u001b[1;32m    148\u001b[0m     \u001b[0mfiltered_tb\u001b[0m \u001b[0;34m=\u001b[0m \u001b[0;32mNone\u001b[0m\u001b[0;34m\u001b[0m\u001b[0;34m\u001b[0m\u001b[0m\n\u001b[1;32m    149\u001b[0m     \u001b[0;32mtry\u001b[0m\u001b[0;34m:\u001b[0m\u001b[0;34m\u001b[0m\u001b[0;34m\u001b[0m\u001b[0m\n\u001b[0;32m--> 150\u001b[0;31m       \u001b[0;32mreturn\u001b[0m \u001b[0mfn\u001b[0m\u001b[0;34m(\u001b[0m\u001b[0;34m*\u001b[0m\u001b[0margs\u001b[0m\u001b[0;34m,\u001b[0m \u001b[0;34m**\u001b[0m\u001b[0mkwargs\u001b[0m\u001b[0;34m)\u001b[0m\u001b[0;34m\u001b[0m\u001b[0;34m\u001b[0m\u001b[0m\n\u001b[0m\u001b[1;32m    151\u001b[0m     \u001b[0;32mexcept\u001b[0m \u001b[0mException\u001b[0m \u001b[0;32mas\u001b[0m \u001b[0me\u001b[0m\u001b[0;34m:\u001b[0m\u001b[0;34m\u001b[0m\u001b[0;34m\u001b[0m\u001b[0m\n\u001b[1;32m    152\u001b[0m       \u001b[0mfiltered_tb\u001b[0m \u001b[0;34m=\u001b[0m \u001b[0m_process_traceback_frames\u001b[0m\u001b[0;34m(\u001b[0m\u001b[0me\u001b[0m\u001b[0;34m.\u001b[0m\u001b[0m__traceback__\u001b[0m\u001b[0;34m)\u001b[0m\u001b[0;34m\u001b[0m\u001b[0;34m\u001b[0m\u001b[0m\n",
            "\u001b[0;32m~/opt/anaconda3/lib/python3.9/site-packages/tensorflow/python/eager/def_function.py\u001b[0m in \u001b[0;36m__call__\u001b[0;34m(self, *args, **kwds)\u001b[0m\n\u001b[1;32m    913\u001b[0m \u001b[0;34m\u001b[0m\u001b[0m\n\u001b[1;32m    914\u001b[0m       \u001b[0;32mwith\u001b[0m \u001b[0mOptionalXlaContext\u001b[0m\u001b[0;34m(\u001b[0m\u001b[0mself\u001b[0m\u001b[0;34m.\u001b[0m\u001b[0m_jit_compile\u001b[0m\u001b[0;34m)\u001b[0m\u001b[0;34m:\u001b[0m\u001b[0;34m\u001b[0m\u001b[0;34m\u001b[0m\u001b[0m\n\u001b[0;32m--> 915\u001b[0;31m         \u001b[0mresult\u001b[0m \u001b[0;34m=\u001b[0m \u001b[0mself\u001b[0m\u001b[0;34m.\u001b[0m\u001b[0m_call\u001b[0m\u001b[0;34m(\u001b[0m\u001b[0;34m*\u001b[0m\u001b[0margs\u001b[0m\u001b[0;34m,\u001b[0m \u001b[0;34m**\u001b[0m\u001b[0mkwds\u001b[0m\u001b[0;34m)\u001b[0m\u001b[0;34m\u001b[0m\u001b[0;34m\u001b[0m\u001b[0m\n\u001b[0m\u001b[1;32m    916\u001b[0m \u001b[0;34m\u001b[0m\u001b[0m\n\u001b[1;32m    917\u001b[0m       \u001b[0mnew_tracing_count\u001b[0m \u001b[0;34m=\u001b[0m \u001b[0mself\u001b[0m\u001b[0;34m.\u001b[0m\u001b[0mexperimental_get_tracing_count\u001b[0m\u001b[0;34m(\u001b[0m\u001b[0;34m)\u001b[0m\u001b[0;34m\u001b[0m\u001b[0;34m\u001b[0m\u001b[0m\n",
            "\u001b[0;32m~/opt/anaconda3/lib/python3.9/site-packages/tensorflow/python/eager/def_function.py\u001b[0m in \u001b[0;36m_call\u001b[0;34m(self, *args, **kwds)\u001b[0m\n\u001b[1;32m    945\u001b[0m       \u001b[0;31m# In this case we have created variables on the first call, so we run the\u001b[0m\u001b[0;34m\u001b[0m\u001b[0;34m\u001b[0m\u001b[0m\n\u001b[1;32m    946\u001b[0m       \u001b[0;31m# defunned version which is guaranteed to never create variables.\u001b[0m\u001b[0;34m\u001b[0m\u001b[0;34m\u001b[0m\u001b[0m\n\u001b[0;32m--> 947\u001b[0;31m       \u001b[0;32mreturn\u001b[0m \u001b[0mself\u001b[0m\u001b[0;34m.\u001b[0m\u001b[0m_stateless_fn\u001b[0m\u001b[0;34m(\u001b[0m\u001b[0;34m*\u001b[0m\u001b[0margs\u001b[0m\u001b[0;34m,\u001b[0m \u001b[0;34m**\u001b[0m\u001b[0mkwds\u001b[0m\u001b[0;34m)\u001b[0m  \u001b[0;31m# pylint: disable=not-callable\u001b[0m\u001b[0;34m\u001b[0m\u001b[0;34m\u001b[0m\u001b[0m\n\u001b[0m\u001b[1;32m    948\u001b[0m     \u001b[0;32melif\u001b[0m \u001b[0mself\u001b[0m\u001b[0;34m.\u001b[0m\u001b[0m_stateful_fn\u001b[0m \u001b[0;32mis\u001b[0m \u001b[0;32mnot\u001b[0m \u001b[0;32mNone\u001b[0m\u001b[0;34m:\u001b[0m\u001b[0;34m\u001b[0m\u001b[0;34m\u001b[0m\u001b[0m\n\u001b[1;32m    949\u001b[0m       \u001b[0;31m# Release the lock early so that multiple threads can perform the call\u001b[0m\u001b[0;34m\u001b[0m\u001b[0;34m\u001b[0m\u001b[0m\n",
            "\u001b[0;32m~/opt/anaconda3/lib/python3.9/site-packages/tensorflow/python/eager/function.py\u001b[0m in \u001b[0;36m__call__\u001b[0;34m(self, *args, **kwargs)\u001b[0m\n\u001b[1;32m   2494\u001b[0m       (graph_function,\n\u001b[1;32m   2495\u001b[0m        filtered_flat_args) = self._maybe_define_function(args, kwargs)\n\u001b[0;32m-> 2496\u001b[0;31m     return graph_function._call_flat(\n\u001b[0m\u001b[1;32m   2497\u001b[0m         filtered_flat_args, captured_inputs=graph_function.captured_inputs)  # pylint: disable=protected-access\n\u001b[1;32m   2498\u001b[0m \u001b[0;34m\u001b[0m\u001b[0m\n",
            "\u001b[0;32m~/opt/anaconda3/lib/python3.9/site-packages/tensorflow/python/eager/function.py\u001b[0m in \u001b[0;36m_call_flat\u001b[0;34m(self, args, captured_inputs, cancellation_manager)\u001b[0m\n\u001b[1;32m   1860\u001b[0m         and executing_eagerly):\n\u001b[1;32m   1861\u001b[0m       \u001b[0;31m# No tape is watching; skip to running the function.\u001b[0m\u001b[0;34m\u001b[0m\u001b[0;34m\u001b[0m\u001b[0m\n\u001b[0;32m-> 1862\u001b[0;31m       return self._build_call_outputs(self._inference_function.call(\n\u001b[0m\u001b[1;32m   1863\u001b[0m           ctx, args, cancellation_manager=cancellation_manager))\n\u001b[1;32m   1864\u001b[0m     forward_backward = self._select_forward_and_backward_functions(\n",
            "\u001b[0;32m~/opt/anaconda3/lib/python3.9/site-packages/tensorflow/python/eager/function.py\u001b[0m in \u001b[0;36mcall\u001b[0;34m(self, ctx, args, cancellation_manager)\u001b[0m\n\u001b[1;32m    497\u001b[0m       \u001b[0;32mwith\u001b[0m \u001b[0m_InterpolateFunctionError\u001b[0m\u001b[0;34m(\u001b[0m\u001b[0mself\u001b[0m\u001b[0;34m)\u001b[0m\u001b[0;34m:\u001b[0m\u001b[0;34m\u001b[0m\u001b[0;34m\u001b[0m\u001b[0m\n\u001b[1;32m    498\u001b[0m         \u001b[0;32mif\u001b[0m \u001b[0mcancellation_manager\u001b[0m \u001b[0;32mis\u001b[0m \u001b[0;32mNone\u001b[0m\u001b[0;34m:\u001b[0m\u001b[0;34m\u001b[0m\u001b[0;34m\u001b[0m\u001b[0m\n\u001b[0;32m--> 499\u001b[0;31m           outputs = execute.execute(\n\u001b[0m\u001b[1;32m    500\u001b[0m               \u001b[0mstr\u001b[0m\u001b[0;34m(\u001b[0m\u001b[0mself\u001b[0m\u001b[0;34m.\u001b[0m\u001b[0msignature\u001b[0m\u001b[0;34m.\u001b[0m\u001b[0mname\u001b[0m\u001b[0;34m)\u001b[0m\u001b[0;34m,\u001b[0m\u001b[0;34m\u001b[0m\u001b[0;34m\u001b[0m\u001b[0m\n\u001b[1;32m    501\u001b[0m               \u001b[0mnum_outputs\u001b[0m\u001b[0;34m=\u001b[0m\u001b[0mself\u001b[0m\u001b[0;34m.\u001b[0m\u001b[0m_num_outputs\u001b[0m\u001b[0;34m,\u001b[0m\u001b[0;34m\u001b[0m\u001b[0;34m\u001b[0m\u001b[0m\n",
            "\u001b[0;32m~/opt/anaconda3/lib/python3.9/site-packages/tensorflow/python/eager/execute.py\u001b[0m in \u001b[0;36mquick_execute\u001b[0;34m(op_name, num_outputs, inputs, attrs, ctx, name)\u001b[0m\n\u001b[1;32m     52\u001b[0m   \u001b[0;32mtry\u001b[0m\u001b[0;34m:\u001b[0m\u001b[0;34m\u001b[0m\u001b[0;34m\u001b[0m\u001b[0m\n\u001b[1;32m     53\u001b[0m     \u001b[0mctx\u001b[0m\u001b[0;34m.\u001b[0m\u001b[0mensure_initialized\u001b[0m\u001b[0;34m(\u001b[0m\u001b[0;34m)\u001b[0m\u001b[0;34m\u001b[0m\u001b[0;34m\u001b[0m\u001b[0m\n\u001b[0;32m---> 54\u001b[0;31m     tensors = pywrap_tfe.TFE_Py_Execute(ctx._handle, device_name, op_name,\n\u001b[0m\u001b[1;32m     55\u001b[0m                                         inputs, attrs, num_outputs)\n\u001b[1;32m     56\u001b[0m   \u001b[0;32mexcept\u001b[0m \u001b[0mcore\u001b[0m\u001b[0;34m.\u001b[0m\u001b[0m_NotOkStatusException\u001b[0m \u001b[0;32mas\u001b[0m \u001b[0me\u001b[0m\u001b[0;34m:\u001b[0m\u001b[0;34m\u001b[0m\u001b[0;34m\u001b[0m\u001b[0m\n",
            "\u001b[0;31mKeyboardInterrupt\u001b[0m: "
          ]
        }
      ],
      "source": [
        "# TODO\n",
        "X_train, X_val, y_train, y_val = train_test_split(\n",
        "    df[\"cleaned\"].to_numpy(), df[\"polarity\"].to_numpy(), test_size=0.3\n",
        ")\n",
        "\n",
        "train_gen = data_generator(X_train, y_train, word2idx, BATCH_SIZE)\n",
        "val_gen = data_generator(X_val, y_val, word2idx, BATCH_SIZE)\n",
        "\n",
        "train_steps = int(np.ceil(len(X_train) / BATCH_SIZE))\n",
        "val_steps = int(np.ceil(len(X_val) / BATCH_SIZE))\n",
        "\n",
        "model_checkpoint = tf.keras.callbacks.ModelCheckpoint(\n",
        "    \"./download/sentiment140/model_checkpoint_full.hd5\", save_best_only=True\n",
        ")\n",
        "early_stopping = tf.keras.callbacks.EarlyStopping(\n",
        "    verbose=1, patience=PATIENCE, restore_best_weights=True\n",
        ")\n",
        "\n",
        "m.fit(\n",
        "    x=train_gen,\n",
        "    validation_data=val_gen,\n",
        "    steps_per_epoch=train_steps,\n",
        "    validation_steps=val_steps,\n",
        "    epochs=10,\n",
        "    callbacks=[model_checkpoint, early_stopping],\n",
        ")\n",
        "print(m.summary())\n"
      ]
    },
    {
      "cell_type": "markdown",
      "metadata": {
        "id": "bQ1XbUuJd5xd"
      },
      "source": [
        "2. Verändert die Parameter Ihres Netzes (z.B Anzahl _hidden units_, Anzahl _hidden layers_) und trainiert das Netz erneut (auf dem kleinen Datensatz). Was stellt ihr fest?\n"
      ]
    },
    {
      "cell_type": "code",
      "execution_count": 165,
      "metadata": {
        "id": "OoiplZnYd6Q8"
      },
      "outputs": [
        {
          "ename": "NameError",
          "evalue": "name 'X_train_sample' is not defined",
          "output_type": "error",
          "traceback": [
            "\u001b[0;31m---------------------------------------------------------------------------\u001b[0m",
            "\u001b[0;31mNameError\u001b[0m                                 Traceback (most recent call last)",
            "\u001b[0;32m/var/folders/3v/78hxlk7s49sfnp3vnprqd5p40000gn/T/ipykernel_484/3493770345.py\u001b[0m in \u001b[0;36m<module>\u001b[0;34m\u001b[0m\n\u001b[0;32m----> 1\u001b[0;31m \u001b[0mtrain_gen_sample\u001b[0m \u001b[0;34m=\u001b[0m \u001b[0mdata_generator\u001b[0m\u001b[0;34m(\u001b[0m\u001b[0mX_train_sample\u001b[0m\u001b[0;34m,\u001b[0m \u001b[0my_train_sample\u001b[0m\u001b[0;34m,\u001b[0m \u001b[0mword2idx\u001b[0m\u001b[0;34m,\u001b[0m \u001b[0mBATCH_SIZE\u001b[0m\u001b[0;34m)\u001b[0m\u001b[0;34m\u001b[0m\u001b[0;34m\u001b[0m\u001b[0m\n\u001b[0m\u001b[1;32m      2\u001b[0m \u001b[0mval_gen_sample\u001b[0m \u001b[0;34m=\u001b[0m \u001b[0mdata_generator\u001b[0m\u001b[0;34m(\u001b[0m\u001b[0mX_val_sample\u001b[0m\u001b[0;34m,\u001b[0m \u001b[0my_val_sample\u001b[0m\u001b[0;34m,\u001b[0m \u001b[0mword2idx\u001b[0m\u001b[0;34m,\u001b[0m \u001b[0mBATCH_SIZE\u001b[0m\u001b[0;34m)\u001b[0m\u001b[0;34m\u001b[0m\u001b[0;34m\u001b[0m\u001b[0m\n\u001b[1;32m      3\u001b[0m \u001b[0;34m\u001b[0m\u001b[0m\n\u001b[1;32m      4\u001b[0m \u001b[0mm_wide\u001b[0m \u001b[0;34m=\u001b[0m \u001b[0mSequential\u001b[0m\u001b[0;34m(\u001b[0m\u001b[0;34m)\u001b[0m\u001b[0;34m\u001b[0m\u001b[0;34m\u001b[0m\u001b[0m\n\u001b[1;32m      5\u001b[0m \u001b[0mm_wide\u001b[0m\u001b[0;34m.\u001b[0m\u001b[0madd\u001b[0m\u001b[0;34m(\u001b[0m\u001b[0mDense\u001b[0m\u001b[0;34m(\u001b[0m\u001b[0;36m64\u001b[0m\u001b[0;34m,\u001b[0m \u001b[0minput_shape\u001b[0m\u001b[0;34m=\u001b[0m\u001b[0;34m(\u001b[0m\u001b[0mVECTOR_LEN\u001b[0m\u001b[0;34m,\u001b[0m\u001b[0;34m)\u001b[0m\u001b[0;34m)\u001b[0m\u001b[0;34m)\u001b[0m\u001b[0;34m\u001b[0m\u001b[0;34m\u001b[0m\u001b[0m\n",
            "\u001b[0;31mNameError\u001b[0m: name 'X_train_sample' is not defined"
          ]
        }
      ],
      "source": [
        "train_gen_sample = data_generator(X_train_sample, y_train_sample, word2idx, BATCH_SIZE)\n",
        "val_gen_sample = data_generator(X_val_sample, y_val_sample, word2idx, BATCH_SIZE)\n",
        "\n",
        "m_wide = Sequential()\n",
        "m_wide.add(Dense(64, input_shape=(VECTOR_LEN,)))\n",
        "m_wide.add(Dense(1, activation=\"sigmoid\"))\n",
        "m_wide.compile(optimizer=\"adam\", loss=\"binary_crossentropy\")\n",
        "\n",
        "m_wide.fit(\n",
        "    x=train_gen_sample,\n",
        "    validation_data=val_gen_sample,\n",
        "    steps_per_epoch=train_steps_sample,\n",
        "    validation_steps=val_steps_sample,\n",
        "    epochs=10,\n",
        "    callbacks=[model_checkpoint, early_stopping],\n",
        ")  # TODO\n",
        "print(m_wide.summary())\n"
      ]
    },
    {
      "cell_type": "code",
      "execution_count": null,
      "metadata": {},
      "outputs": [],
      "source": [
        "train_gen_sample = data_generator(X_train_sample, y_train_sample, word2idx, BATCH_SIZE)\n",
        "val_gen_sample = data_generator(X_val_sample, y_val_sample, word2idx, BATCH_SIZE)\n",
        "\n",
        "m_deep = Sequential()\n",
        "m_deep.add(Dense(16, input_shape=(VECTOR_LEN,)))\n",
        "m_deep.add(Dense(16))\n",
        "m_deep.add(Dense(16))\n",
        "m_deep.add(Dense(16))\n",
        "m_deep.add(Dense(1, activation=\"sigmoid\"))\n",
        "m_deep.compile(optimizer=\"adam\", loss=\"binary_crossentropy\")\n",
        "\n",
        "m_deep.fit(\n",
        "    x=train_gen_sample,\n",
        "    validation_data=val_gen_sample,\n",
        "    steps_per_epoch=train_steps_sample,\n",
        "    validation_steps=val_steps_sample,\n",
        "    epochs=10,\n",
        "    callbacks=[model_checkpoint, early_stopping],\n",
        ")  # TODO\n",
        "print(m_deep.summary())\n"
      ]
    },
    {
      "cell_type": "markdown",
      "metadata": {
        "id": "ZuUbODElg7Go"
      },
      "source": [
        "## 4. Sentiment Analyse mit Huggingface Transformers\n",
        "\n",
        "In diesem Abschnitt werden wir nun Huggingface (https://huggingface.co/) zu Sentence Classification nutzen.\n",
        "\n",
        "Hierfür benötigen wir die Libraries `datasets` (für preprocessing) und `transformers` (für die Transformer Modelle). Ebenfalls werden wir das Tokenisierung nicht mehr selbst durchführen, sondern viel mehr die `tokenizers` von huggingface hierfür benutzen.\n",
        "\n",
        "Für eine gute Einführung in Klassifikation mit Transformers siehe: https://huggingface.co/docs/transformers/tasks/sequence_classification\n"
      ]
    },
    {
      "cell_type": "code",
      "execution_count": null,
      "metadata": {
        "id": "Hm45vVc7hAF4"
      },
      "outputs": [],
      "source": [
        "!pip install datasets transformers"
      ]
    },
    {
      "cell_type": "markdown",
      "metadata": {
        "id": "QS7kVAiuTX28"
      },
      "source": [
        "### 4.1 Data Preparation\n",
        "\n",
        "Bevor wir ein huggingface transformer Modell nutzen können, müssen wir:\n",
        "\n",
        "- den Datensatz (`df`) als `Dataset` laden\n",
        "- ladet zunächst nur einen Teil des Datensatzes und wenn das Training funktioniert, vergrößert den Datensatz.\n",
        "- die Spalten umbennenen\n",
        "- Train / Test Split (90 / 10)\n"
      ]
    },
    {
      "cell_type": "markdown",
      "metadata": {
        "id": "A_4GikRuWy8m"
      },
      "source": [
        "1. Lade den Datensatz\n"
      ]
    },
    {
      "cell_type": "code",
      "execution_count": null,
      "metadata": {
        "id": "250M9epoVj4x"
      },
      "outputs": [],
      "source": [
        "dataset = # TODO"
      ]
    },
    {
      "cell_type": "markdown",
      "metadata": {
        "id": "JbDNFnJAWxEC"
      },
      "source": [
        "2. Entferne alle unnötigen Spalten und benennen `polarity` in `labels` um. Achte darauf, dass die Spalte `labels` vom Feature-Typ `ClassLabel` ist.\n"
      ]
    },
    {
      "cell_type": "code",
      "execution_count": null,
      "metadata": {
        "id": "VAGS-AD2oTTl"
      },
      "outputs": [],
      "source": [
        "dataset = # TODO"
      ]
    },
    {
      "cell_type": "code",
      "execution_count": null,
      "metadata": {
        "id": "jiM81GM4p1tu"
      },
      "outputs": [],
      "source": [
        "features = # TODO\n",
        "dataset = dataset.cast(features)"
      ]
    },
    {
      "cell_type": "markdown",
      "metadata": {
        "id": "s6jHtvzmX0Nl"
      },
      "source": [
        "3. Teilt den Datensatz in train und test split auf.\n"
      ]
    },
    {
      "cell_type": "code",
      "execution_count": null,
      "metadata": {
        "id": "-4jpb9BSpx6L"
      },
      "outputs": [],
      "source": [
        "dataset = # TODO"
      ]
    },
    {
      "cell_type": "markdown",
      "metadata": {
        "id": "-MWqv7l54RO5"
      },
      "source": [
        "Schaut euch die Klassenverteilung im Datensatz an? Habt ihr noch eine 50/50 Verteilung zwischen positiv und negativ?\n"
      ]
    },
    {
      "cell_type": "markdown",
      "metadata": {
        "id": "zsX9f_App4hX"
      },
      "source": [
        "### 4.1. Training\n",
        "\n",
        "Nun haben wir den Datensatz geladen und vorbereitet.\n",
        "\n",
        "1. Ladet ein `AutoModelForSequenceClassification` eurer Wahl (https://huggingface.co/models) und den entsprechenenden `AutoTokenizer`.\n",
        "\n",
        "- Welches Modell nutzt ihr? Auf welchen Daten wurde das Netz vortrainiert?\n",
        "- Auf welchem Framework basiert das Modell?\n"
      ]
    },
    {
      "cell_type": "code",
      "execution_count": null,
      "metadata": {
        "id": "lG7PpubMpnK6"
      },
      "outputs": [],
      "source": [
        "tokenizer = # TODO"
      ]
    },
    {
      "cell_type": "code",
      "execution_count": null,
      "metadata": {
        "id": "S2jYDhvmqNPC"
      },
      "outputs": [],
      "source": [
        "model = # TODO"
      ]
    },
    {
      "cell_type": "markdown",
      "metadata": {
        "id": "A74aKJTZT3zO"
      },
      "source": [
        "2. Bevor das eigentliche Training beginnt, muss der Datensatz noch tokenized werden. Nutzt hierfür den oben instantiierten `tokenizer` und beantwortet folgende Fragen:\n",
        "\n",
        "- Wie groß ist das des Tokenizers?\n",
        "- In welcher Granularität werden Texte aufgesplittet?\n"
      ]
    },
    {
      "cell_type": "code",
      "execution_count": null,
      "metadata": {
        "id": "xr3AhPWqqDMk"
      },
      "outputs": [],
      "source": [
        "tokenized_dataset = # TODO"
      ]
    },
    {
      "cell_type": "markdown",
      "metadata": {
        "id": "RGqGDAwHUtZl"
      },
      "source": [
        "3. Baut euch eine Methode `compute_metrics`, die die notwendigen Metriken während des Trainings sammelt. Nutzt hierfür wieder Precision, Recall und F1 score.\n"
      ]
    },
    {
      "cell_type": "code",
      "execution_count": null,
      "metadata": {
        "id": "KQEYYJAHrLQZ"
      },
      "outputs": [],
      "source": [
        "def compute_metrics(eval_pred):\n",
        "    \"\"\"Computes the metrics given a tuple of (logits, labels)\"\"\"\n",
        "\n",
        "    # TODO\n",
        "    return {\n",
        "        \"accuracy\": accuracy,\n",
        "        \"f1\": f1,\n",
        "        \"precision\": precision,\n",
        "        \"recall\": recall,\n",
        "    }\n"
      ]
    },
    {
      "cell_type": "markdown",
      "metadata": {
        "id": "7J8e_ijNUwg5"
      },
      "source": [
        "4. Ladet einen `Trainer` und spezifiziert die `TrainingArguments`. Es bietet sich an, nach jeder Epoche zu evaluieren und das beste Modell am Ende zu laden.\n"
      ]
    },
    {
      "cell_type": "code",
      "execution_count": null,
      "metadata": {
        "id": "Db4jXr8LqkS8"
      },
      "outputs": [],
      "source": [
        "finetuning_args = TrainingArgument()  # TODO\n",
        "trainer = Trainer()  # TODO\n"
      ]
    },
    {
      "cell_type": "markdown",
      "metadata": {
        "id": "H0MSoG_N5QG2"
      },
      "source": [
        "5. Trainiert das Modell und behaltet die Metriken im Auge.\n"
      ]
    },
    {
      "cell_type": "code",
      "execution_count": null,
      "metadata": {
        "id": "nnd492AqrNSJ"
      },
      "outputs": [],
      "source": [
        "trainer.train()\n"
      ]
    },
    {
      "cell_type": "markdown",
      "metadata": {
        "id": "Dxlked_-5Wh-"
      },
      "source": [
        "### 4.3. (Optional) Training mit weiterem Modell\n",
        "\n",
        "Falls ihr möchtet, könnt ihr optional das geladene vortrainierte Modell austauschen und ein anderes (größeres, auf anderen Daten trainiert, ...) Modell nutzen.\n"
      ]
    },
    {
      "cell_type": "markdown",
      "metadata": {
        "id": "jX4VdMfmrdCd"
      },
      "source": [
        "### 4.4. Prediction\n",
        "\n",
        "Nun könnt ihr das Modell nutzen, um ein paar Beispiel aus dem Test-Datensatz zu predicten.\n"
      ]
    },
    {
      "cell_type": "code",
      "execution_count": null,
      "metadata": {
        "id": "waL2KVf5rh2Y"
      },
      "outputs": [],
      "source": [
        "id2label = {0: \"neg\", 1: \"pos\"}\n",
        "prediction_ds = tokenized_dataset[\"test\"].select(range(50))\n"
      ]
    },
    {
      "cell_type": "markdown",
      "metadata": {
        "id": "Yl3bqCxs1mQ0"
      },
      "source": [
        "Gebt die falschen Predictionn aus. Was fällt euch auf?\n"
      ]
    },
    {
      "cell_type": "code",
      "execution_count": null,
      "metadata": {
        "id": "5jiNfGXzrcnn"
      },
      "outputs": [],
      "source": [
        "raw_pred, _, _ = trainer.predict(prediction_ds)\n",
        "print(f\"Total predictions: {len(raw_pred)}\")\n",
        "\n",
        "for text, prediction in zip(prediction_ds, np.argmax(raw_pred, axis=1)):\n",
        "    expected = text[\"labels\"]\n",
        "    if expected != prediction:\n",
        "        print(\n",
        "            f\"Text: {text['text']} --- Expected: {id2label[expected]} --- Predicted: {id2label[prediction]}\"\n",
        "        )\n"
      ]
    }
  ],
  "metadata": {
    "accelerator": "GPU",
    "colab": {
      "collapsed_sections": [],
      "machine_shape": "hm",
      "provenance": [],
      "toc_visible": true
    },
    "gpuClass": "premium",
    "kernelspec": {
      "display_name": "Python 3.9.13 ('base')",
      "language": "python",
      "name": "python3"
    },
    "language_info": {
      "codemirror_mode": {
        "name": "ipython",
        "version": 3
      },
      "file_extension": ".py",
      "mimetype": "text/x-python",
      "name": "python",
      "nbconvert_exporter": "python",
      "pygments_lexer": "ipython3",
      "version": "3.9.13"
    },
    "vscode": {
      "interpreter": {
        "hash": "119d84cb8c3b84b6d48a93e2933b395fcb363c6d1cda3c0de52c91f1ece8e0fb"
      }
    }
  },
  "nbformat": 4,
  "nbformat_minor": 0
}
