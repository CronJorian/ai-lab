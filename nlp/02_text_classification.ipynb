{
  "nbformat": 4,
  "nbformat_minor": 0,
  "metadata": {
    "kernelspec": {
      "display_name": "Python 3",
      "language": "python",
      "name": "python3"
    },
    "language_info": {
      "codemirror_mode": {
        "name": "ipython",
        "version": 3
      },
      "file_extension": ".py",
      "mimetype": "text/x-python",
      "name": "python",
      "nbconvert_exporter": "python",
      "pygments_lexer": "ipython3",
      "version": "3.7.3"
    },
    "colab": {
      "provenance": [],
      "collapsed_sections": [],
      "toc_visible": true,
      "machine_shape": "hm"
    },
    "accelerator": "GPU",
    "gpuClass": "premium"
  },
  "cells": [
    {
      "cell_type": "markdown",
      "metadata": {
        "id": "URsEpKN3YYXF"
      },
      "source": [
        "# Text Klassifikation - Sentiment Analyse\n",
        "\n",
        "In diesem Notebook möchten wir uns mit der Klassifikation von Texten beschäftigen. Vereinfacht gesagt beschäftigt sich Sentiment Analysis damit, natürlichsprachliche Aussagen dahingehend zu bewerten, ob die subjektive Aussage des Sprechers positiv oder negativ wertend gemeint ist.\n",
        "\n",
        "Zu diesem Zweck haben wir den Datensatz von _Sentiment140_, einem Projekt der Stanford University, ausgewählt. Er beinhaltet 16 Millionen Tweets, die aufgrund der enthaltenen Emoticons automatisch in positiv und negativ eingeteilt wurden.\n",
        "\n",
        "---\n",
        "\n",
        "Dieses Notebook gliedert sich in die folgenden Teile:\n",
        "\n",
        "1. Datenanalyse und Preprocessing\n",
        "2. Tokenisierung & Vokabular\n",
        "3. Klassifikation\n",
        "4. Klassifikation mit huggingface transformers"
      ]
    },
    {
      "cell_type": "code",
      "metadata": {
        "id": "baoj_cXFHCqr"
      },
      "source": [
        "import tensorflow as tf\n",
        "tf.__version__"
      ],
      "execution_count": null,
      "outputs": []
    },
    {
      "cell_type": "markdown",
      "metadata": {
        "id": "ZLSIuUHq-qc_"
      },
      "source": [
        "## 0. Vorbereitung"
      ]
    },
    {
      "cell_type": "markdown",
      "metadata": {
        "id": "xyE-j8e1_qTw"
      },
      "source": [
        "Als erstes muss der Datensatz von http://help.sentiment140.com/for-students in diese Colab Virtual Machine geladen werden."
      ]
    },
    {
      "cell_type": "code",
      "metadata": {
        "id": "qzK4XN9vBBWz"
      },
      "source": [
        "! gdown 0B04GJPshIjmPRnZManQwWEdTZjg"
      ],
      "execution_count": null,
      "outputs": []
    },
    {
      "cell_type": "code",
      "metadata": {
        "id": "NY_uOpPsAfSQ"
      },
      "source": [
        "DATA_DIR = '/content/sentiment140'"
      ],
      "execution_count": null,
      "outputs": []
    },
    {
      "cell_type": "code",
      "metadata": {
        "id": "87ZXB6FoBV_y"
      },
      "source": [
        "!unzip /content/trainingandtestdata.zip -d {DATA_DIR}\n",
        "%rm /content/trainingandtestdata.zip\n",
        "%ls -la /{DATA_DIR}"
      ],
      "execution_count": null,
      "outputs": []
    },
    {
      "cell_type": "markdown",
      "metadata": {
        "id": "O-W8Qq9m-YPu"
      },
      "source": [
        "## 1. Datenbeschaffung und -Analyse\n",
        "\n",
        "Im ersten Schritt sollen folgende Schritte durchgeführt werden."
      ]
    },
    {
      "cell_type": "code",
      "source": [
        "import pandas as pd\n",
        "import os"
      ],
      "metadata": {
        "id": "0n-sY1uc2Nsl"
      },
      "execution_count": null,
      "outputs": []
    },
    {
      "cell_type": "markdown",
      "source": [
        "1. Ladet den Datensatz in einen Pandas Dataframe. Welche Feature gibt es? Wie viele Samples gibt es?\n",
        "\n",
        "2. Da wir uns nur für die Felder `polarity` und `text` interessieren, sollte die Liste mit den Daten folgendes Format haben : `id => (polarity, text)`. \n",
        "\n",
        "3. Wandelt diese Werte in 1 (positiv) und 0 (negativ).\n",
        "\n",
        "4. Fügt eine Spalte für die Anzahl an Wörtern im Text hinzu.\n",
        "\n",
        "5. Analysiert den Datensatz mit den Pandas Boardmitteln."
      ],
      "metadata": {
        "id": "OBZTmJUC2NyU"
      }
    },
    {
      "cell_type": "code",
      "metadata": {
        "id": "RRWljU0LYYXJ"
      },
      "source": [
        "df = # TODO"
      ],
      "execution_count": null,
      "outputs": []
    },
    {
      "cell_type": "code",
      "metadata": {
        "id": "ixWxtxJzBXj1"
      },
      "source": [
        "df['word_count'] = # TODO\n",
        "print(f'Mean tweet length: X')"
      ],
      "execution_count": null,
      "outputs": []
    },
    {
      "cell_type": "markdown",
      "metadata": {
        "id": "nVZCgmAnYYXV"
      },
      "source": [
        "## 2. Tokenisierung\n",
        "\n",
        "Um einen Einblick in die Daten zu bekommen und um später ein Modell zur Sentiment Analyse trainieren zu können, sollen die Daten nun aufbereitet werden. Da die sinntragenden Elemente in den Tweets die Wörter sind, sollten Sie die Tweets in Wörter aufteilen. Um genau zu sein, ist der Term 'Wörter' hier aus linguistischer Sicht etwas falsch, man spricht eigentlich von Tokens. Daher nennt man das Aufteilen von Text auch Tokenizing und die Funktion, die sowas kann, Tokenizer.\n",
        "\n",
        "1. Der allereinfachste Tokenizer ist vermutlich die `split` Methode. Tokenisiert damit die eingelesen Tweets. Am Ende solltet ihr eine Liste `tokenized = [(polarity, [token_1,token_2, ...])]` erhalten."
      ]
    },
    {
      "cell_type": "code",
      "metadata": {
        "id": "esbcYU6hYYXX"
      },
      "source": [
        "df['tokenized'] = # TODO"
      ],
      "execution_count": null,
      "outputs": []
    },
    {
      "cell_type": "markdown",
      "metadata": {
        "id": "U2V0tecoYYXe"
      },
      "source": [
        "Abgesehen von natürlichsprachlichen Wörtern sind in Tweets mindestens auch Hashtags, Mentions und Links enthalten. Überlegt euch, ob es Sinn ergibt, alle diese Bestandteile in den Daten in dieser From zu behalten. Begründet kurz Ihre Entscheidungen.\n",
        "Falls ihr euch entschlossen habt, nicht alle diese Bestandteile zu behalten, filtert dementsprechend eure Daten. Die Struktur Ihrer Daten sollte am Ende gleich bleiben: `df['cleaned'] = [token_1,...]`"
      ]
    },
    {
      "cell_type": "code",
      "metadata": {
        "id": "-tPma3rxvLQ6"
      },
      "source": [
        "df['tokenized'] = # TODO"
      ],
      "execution_count": null,
      "outputs": []
    },
    {
      "cell_type": "markdown",
      "metadata": {
        "id": "QH2E049sYYXn"
      },
      "source": [
        "Zählt die Tokens in eurem Datensatz. Benutzt dafür ein Dictionary oder andere Python Build-Ins. \n",
        "\n",
        "1. Wieviele unterschiedliche Wörter gibt es?\n",
        "2. Gebt die 100 häufigsten Wörter sortiert aus. \n",
        "\n",
        "Was zieht ihr aus den beiden Analysen? Was müsst ihr zusätzlich noch filtern?"
      ]
    },
    {
      "cell_type": "code",
      "source": [
        "# TODO"
      ],
      "metadata": {
        "id": "WB9skQUN2oPe"
      },
      "execution_count": null,
      "outputs": []
    },
    {
      "cell_type": "markdown",
      "metadata": {
        "id": "pm76wuIZzhGC"
      },
      "source": [
        "Eine Möglichkeit für komplexere Preprocessing-Methoden ist das Entfernen von Stoppwörtern. Hiefür nutzen wir NLTK.\n",
        "\n",
        "Filtert eure gesäuberten Tokens auf Stopwörter."
      ]
    },
    {
      "cell_type": "code",
      "metadata": {
        "id": "N4K-ZoYRzf2B"
      },
      "source": [
        "import nltk"
      ],
      "execution_count": null,
      "outputs": []
    },
    {
      "cell_type": "code",
      "metadata": {
        "id": "gkETxK9Ezsb8"
      },
      "source": [
        "df['cleaned'] = # TODO"
      ],
      "execution_count": null,
      "outputs": []
    },
    {
      "cell_type": "markdown",
      "metadata": {
        "id": "1BSWVNV0YYXu"
      },
      "source": [
        "## 3. Klassifikation\n",
        "\n",
        "Wie Eingangs erwähnt, beschäftigt sich Sentiment Analysis damit, eine Äußerung automatisch dahingehend zu klassifizieren,\n",
        "ob der Inhalt positiv oder negativ gemeint ist.\n",
        "Es handelt sich also um eine binäre Klassifikation.\n",
        "\n",
        "Für das Training des neuronalen Netzes orintiert sich der nachfolgende Teil an _Keras_ als Framework. Ihr könnt aber auch ein anderes Framework wie bspw. _Pytorch_ benutzen. \n",
        "\n",
        "Aktuell liegen unsere Daten zwar in tokenisierter und gesäuberter Form vor, wir müssen unsere Daten aber noch in Vektoren transformieren.\n",
        "\n",
        "Für die erste Klassifikation encoden wir die Eingabe als **Bag-of-Words**, sodass jedes potentielle Wort einem Eingabeneuron einspricht. _Ein Beispiel_: Zwei Tweets \"lorem ipsum\" und \"foo foo bar\", die Vektoren hätten die Länge 4 und für den ersten Tweet wäre der Vektor [1,1,0,0], für den zweiten [0,0,2,1]."
      ]
    },
    {
      "cell_type": "markdown",
      "metadata": {
        "id": "pIh-IUrCetfp"
      },
      "source": [
        "### 3.1 Vokabular\n",
        "\n",
        "Befüllt das dictionary `word2idx` so, dass jedes Wort auf einen Index abgebildet wird und die Indizes streng monoton aufsteigend sind. Für das Beispiel oben wäre `word2idx = {\"lorem\": 0, \"ipsum\": 1, \"foo\": 3, \"bar\": 4}`"
      ]
    },
    {
      "cell_type": "code",
      "metadata": {
        "id": "aj0I7deSYYXx"
      },
      "source": [
        "word2idx = # TODO"
      ],
      "execution_count": null,
      "outputs": []
    },
    {
      "cell_type": "markdown",
      "metadata": {
        "id": "wShRcQcfYYX2"
      },
      "source": [
        "Welche Länge werden die Vektoren haben?"
      ]
    },
    {
      "cell_type": "code",
      "metadata": {
        "id": "eM8DyIgNYYX4"
      },
      "source": [
        "VECTOR_LEN = # TODO"
      ],
      "execution_count": null,
      "outputs": []
    },
    {
      "cell_type": "markdown",
      "metadata": {
        "id": "fc65A8wwYYX9"
      },
      "source": [
        "Wir könnten mit `numpy` ein Array befüllen, das für jeden der 16 Millionen Tweets einen Vektor wie oben beschrieben enthält. \n",
        "Bevor ihr damit beginnen, überschlagt, wieviel Speicherplatz (im Hauptspeicher) ein solches Array belegen würde, wenn jeder Eintrag 32 bit hat. Reicht euer Hauptspeicher dafür aus?"
      ]
    },
    {
      "cell_type": "code",
      "metadata": {
        "id": "aYODrE0LYYX_"
      },
      "source": [
        "MEMORY = # TODO"
      ],
      "execution_count": null,
      "outputs": []
    },
    {
      "cell_type": "markdown",
      "metadata": {
        "id": "iGTNZMlIYYYD"
      },
      "source": [
        "### 3.2 Data Generator\n",
        "Um das Problem mit dem zu kleinen Hauptspeicher zu umgehen, bietet Keras die Möglichkeit, anstatt auf einem kompletten Datensatz zu operieren, immer nur kleinere Häppchen abzuarbeiten. Dazu wird ein Python-Generator eingesetzt.\n",
        "Vervollständigt die Funktion unten, so dass ein Generator entsteht. Die Parameter der Funktion sind:\n",
        " * d: tokenisierte und gesäuberte Tweets und Labels\n",
        " * w2i: das word2index dictionary\n",
        " * batch_size: Anzahl der vektorisierten Tweets, die pro Aufruf zurückgegeben werden sollen.\n",
        " \n",
        "Die benutzen Tweets nacheinander aus `d` gewählt werden und kein Tweet mehrfach zurückgegeben werden."
      ]
    },
    {
      "cell_type": "code",
      "metadata": {
        "id": "mRVPs_ZlYYYF"
      },
      "source": [
        "import random\n",
        "import numpy as np\n",
        "\n",
        "def data_generator(x, y, w2i, batch_size):\n",
        "  num_batches = # TODO\n",
        "  current_batch = 0\n",
        "\n",
        "  while True:\n",
        "    # Initialize with zeros\n",
        "    batch_x = np.zeros((batch_size, len(w2i.keys())))\n",
        "    batch_y = np.zeros((batch_size, 1))\n",
        "\n",
        "    # TODO\n",
        "  \n",
        "    current_batch += 1\n",
        "    yield batch_x, batch_y\n",
        "\n",
        "    # Reset counter\n",
        "    if current_batch >= num_batches:\n",
        "      current_batch = 0"
      ],
      "execution_count": null,
      "outputs": []
    },
    {
      "cell_type": "code",
      "metadata": {
        "id": "ETv9mEIhYYYM"
      },
      "source": [
        "gen = data_generator(...) # TODO"
      ],
      "execution_count": null,
      "outputs": []
    },
    {
      "cell_type": "markdown",
      "metadata": {
        "id": "VwLI3pTcYYYK"
      },
      "source": [
        "Ihr könnt euren Generator wie folgt ausprobieren:"
      ]
    },
    {
      "cell_type": "code",
      "metadata": {
        "id": "ZEh0__Ljyk8x"
      },
      "source": [
        "next(gen)"
      ],
      "execution_count": null,
      "outputs": []
    },
    {
      "cell_type": "markdown",
      "metadata": {
        "id": "b1qy5nlEYYYW"
      },
      "source": [
        "### 3.3 Neuronales Netz\n",
        "\n",
        "Wir sind nun endlich soweit, unser neuronales Netz aufzubauen. Da unser Netz genau ein hidden Layer hat und auch sonst nicht sonderlich komplex ist, benutzen wir die _Sequential_-API von Keras."
      ]
    },
    {
      "cell_type": "code",
      "metadata": {
        "id": "VY_sZSc1YYYX"
      },
      "source": [
        "from tensorflow.keras.models import Sequential\n",
        "m = Sequential()"
      ],
      "execution_count": null,
      "outputs": []
    },
    {
      "cell_type": "markdown",
      "metadata": {
        "id": "rcE9-qJxYYYc"
      },
      "source": [
        "Fügt einen _Dense_-Layer dem Netz hinzu, als _hidden units_ könnt ihr 16 nehmen. Da dies auch der Eingabe-Layer ist, müsst ihr den Parameter `input_shape` definieren. (Siehe auch: https://keras.io/layers/core/)"
      ]
    },
    {
      "cell_type": "code",
      "metadata": {
        "id": "uWkgD9ACYYYd"
      },
      "source": [
        "m.add() # TODO"
      ],
      "execution_count": null,
      "outputs": []
    },
    {
      "cell_type": "markdown",
      "metadata": {
        "id": "LnqAOXj5YYYi"
      },
      "source": [
        "Als letzten Layer in unserem neuronalen Netz, fügt einen weiteren _Dense_-Layer hinzu. Dieser Layer dient auch als \"Ausgabelayer\" Überlegt euch die Anzahl der _hidden units_ (Hinweis: Wie lässt sich unser Machine-Learning-Problem kategorisieren?) Welche _Activation_-Funktion wählt ihr?"
      ]
    },
    {
      "cell_type": "code",
      "metadata": {
        "id": "-EdR3LgfYYYj"
      },
      "source": [
        "m.add() # TODO"
      ],
      "execution_count": null,
      "outputs": []
    },
    {
      "cell_type": "markdown",
      "metadata": {
        "id": "JlSaW4I1YYYn"
      },
      "source": [
        "7. Kompiliert das neuronale Netz. Als `optimizer` könnt ihr 'adam' benutzen. Wählt eine passende `loss`-Funktion aus. Begründet eure Entscheidung. (https://keras.io/models/model/#compile)"
      ]
    },
    {
      "cell_type": "code",
      "metadata": {
        "id": "0U54vEg-YYYo"
      },
      "source": [
        "# TODO"
      ],
      "execution_count": null,
      "outputs": []
    },
    {
      "cell_type": "markdown",
      "metadata": {
        "id": "Bpt8M2ynYYYs"
      },
      "source": [
        "### 3.3. Training\n",
        "\n",
        "Bevor ihr nun das neuronale Netz trainiert, teilt noch euren Datensatz in zwei Teile auf. Einen Teil zum Trainieren und einen zum Evaluieren. Das Verhältnis der beiden Datensätze sollte 70%:30% sein. Bevor ihr die Daten aufteilen, durchmischt sie mit der `shuffle`-Methode aus dem `random`-Modul. Außerdem solltet ihr die Datenmenge zunächst auf ca. 100000 begrenzen, damit das Training des neuronalen Netzes nicht ewig dauert."
      ]
    },
    {
      "cell_type": "code",
      "metadata": {
        "id": "0TLMbqBDYYYt"
      },
      "source": [
        "# TODO"
      ],
      "execution_count": null,
      "outputs": []
    },
    {
      "cell_type": "markdown",
      "metadata": {
        "id": "POelfhirYYYx"
      },
      "source": [
        "Wir sind nun soweit das neuronale Netz zu trainieren. Da wir den oben entwickelten Generator einsetzen wollen, verwenden wir dazu die `fit_generator`-Methode. Als `batch_size` könnt ihr 100 nehmen, für den `epochs`-Parameter 10. Was wählt ihr als `steps_per_epoch`-Parameter? (https://keras.io/models/model/#fit_generator)"
      ]
    },
    {
      "cell_type": "code",
      "metadata": {
        "id": "i0sWka05YYYy"
      },
      "source": [
        "m.fit() # TODO\n",
        "print(m.summary())"
      ],
      "execution_count": null,
      "outputs": []
    },
    {
      "cell_type": "markdown",
      "metadata": {
        "id": "LvBjnS3YYYY2"
      },
      "source": [
        "Während das Netz trainiert wird, könnt ihr euch Gedanken zur Evaluierung machen:\n",
        "   * Definiert die üblichen Fehlerklassen (wahr positiv, falsch positiv, wahr negativ, falsch negativ)\n",
        "   * Eine häufig benutzte Evaluationsmetrik ist die _Accuracy_. Beschreibt diese Metrik und schreibt die Formel zur Berechnung auf.\n",
        "   * Warum könnte die _Accuracy_ eine schlechte Metrik sein?\n",
        "   * Zur Evaluation von binären Klassifikationsproblemen wird in der Literatur gerne _Precision_ und _Recall_ verwendet. Wie sind die beiden Evaluationsmaße definiert? Beschreibt diese Metriken mit eigenen Worten. Schreibt auch die Formeln zur Berechnung auf.\n",
        "   * Warum könnten _Precision_ und _Recall_ bessere Metriken sein als _Accuracy_?"
      ]
    },
    {
      "cell_type": "markdown",
      "metadata": {
        "id": "sO7uif0sYYY4"
      },
      "source": [
        "11. Inzwischen sollte das Netz fertig trainiert sein. Speichert es ab!"
      ]
    },
    {
      "cell_type": "code",
      "metadata": {
        "id": "MpOkWtFWYYY5"
      },
      "source": [
        "m.save('my_net.h5')"
      ],
      "execution_count": null,
      "outputs": []
    },
    {
      "cell_type": "markdown",
      "metadata": {
        "id": "Z_TJCJK9YYY8"
      },
      "source": [
        "### 3.4. Evaluation\n",
        "\n",
        "Evaluiert euer Netz mit dem Datensatz, den ihr oben beseite gelegt haben. Benutzt dafür die `predict`-Methode des Models. Berechnet dafür _Precision_, _Recall_, _Accuracy_ und _Confusion Matrix_. \n",
        "\n",
        "Interpretiert kurz eure Ergebnisse. "
      ]
    },
    {
      "cell_type": "code",
      "source": [
        "# TODO"
      ],
      "metadata": {
        "id": "HFssQxB632ig"
      },
      "execution_count": null,
      "outputs": []
    },
    {
      "cell_type": "markdown",
      "metadata": {
        "id": "gI0YZIpvYYZA"
      },
      "source": [
        "## 3b. (optional) Erweiterte Klassifikation\n",
        "Im nächsten Schritt wollen wir das Netz auf dem vollen Datensatz trainieren und die Komplexität etwas erhöhen.\n",
        "\n",
        "1. Trainiert euer Netz auf dem großen Datensatz."
      ]
    },
    {
      "cell_type": "code",
      "metadata": {
        "id": "_4GkVcQRd4W2"
      },
      "source": [
        "# TODO"
      ],
      "execution_count": null,
      "outputs": []
    },
    {
      "cell_type": "markdown",
      "metadata": {
        "id": "bQ1XbUuJd5xd"
      },
      "source": [
        "2. Verändert die Parameter Ihres Netzes (z.B Anzahl _hidden units_, Anzahl _hidden layers_) und trainiert das Netz erneut (auf dem kleinen Datensatz). Was stellt ihr fest?"
      ]
    },
    {
      "cell_type": "code",
      "metadata": {
        "id": "OoiplZnYd6Q8"
      },
      "source": [
        "# TODO"
      ],
      "execution_count": null,
      "outputs": []
    },
    {
      "cell_type": "markdown",
      "source": [
        "## 4. Sentiment Analyse mit Huggingface Transformers\n",
        "\n",
        "In diesem Abschnitt werden wir nun Huggingface (https://huggingface.co/) zu Sentence Classification nutzen.\n",
        "\n",
        "Hierfür benötigen wir die Libraries `datasets` (für preprocessing) und `transformers` (für die Transformer Modelle). Ebenfalls werden wir das Tokenisierung nicht mehr selbst durchführen, sondern viel mehr die `tokenizers` von huggingface hierfür benutzen.\n",
        "\n",
        "Für eine gute Einführung in Klassifikation mit Transformers siehe: https://huggingface.co/docs/transformers/tasks/sequence_classification "
      ],
      "metadata": {
        "id": "ZuUbODElg7Go"
      }
    },
    {
      "cell_type": "code",
      "source": [
        "!pip install datasets transformers"
      ],
      "metadata": {
        "id": "Hm45vVc7hAF4"
      },
      "execution_count": null,
      "outputs": []
    },
    {
      "cell_type": "markdown",
      "source": [
        "### 4.1 Data Preparation\n",
        "\n",
        "Bevor wir ein huggingface transformer Modell nutzen können, müssen wir:\n",
        "\n",
        "* den Datensatz (`df`) als `Dataset` laden\n",
        "* ladet zunächst nur einen Teil des Datensatzes und wenn das Training funktioniert, vergrößert den Datensatz.\n",
        "* die Spalten umbennenen \n",
        "* Train / Test Split (90 / 10)"
      ],
      "metadata": {
        "id": "QS7kVAiuTX28"
      }
    },
    {
      "cell_type": "markdown",
      "source": [
        "1. Lade den Datensatz"
      ],
      "metadata": {
        "id": "A_4GikRuWy8m"
      }
    },
    {
      "cell_type": "code",
      "source": [
        "dataset = # TODO"
      ],
      "metadata": {
        "id": "250M9epoVj4x"
      },
      "execution_count": null,
      "outputs": []
    },
    {
      "cell_type": "markdown",
      "source": [
        "2. Entferne alle unnötigen Spalten und benennen `polarity` in `labels` um. Achte darauf, dass die Spalte `labels` vom Feature-Typ `ClassLabel` ist."
      ],
      "metadata": {
        "id": "JbDNFnJAWxEC"
      }
    },
    {
      "cell_type": "code",
      "source": [
        "dataset = # TODO"
      ],
      "metadata": {
        "id": "VAGS-AD2oTTl"
      },
      "execution_count": null,
      "outputs": []
    },
    {
      "cell_type": "code",
      "source": [
        "features = # TODO\n",
        "dataset = dataset.cast(features)"
      ],
      "metadata": {
        "id": "jiM81GM4p1tu"
      },
      "execution_count": null,
      "outputs": []
    },
    {
      "cell_type": "markdown",
      "source": [
        "3. Teilt den Datensatz in train und test split auf."
      ],
      "metadata": {
        "id": "s6jHtvzmX0Nl"
      }
    },
    {
      "cell_type": "code",
      "source": [
        "dataset = # TODO"
      ],
      "metadata": {
        "id": "-4jpb9BSpx6L"
      },
      "execution_count": null,
      "outputs": []
    },
    {
      "cell_type": "markdown",
      "source": [
        "Schaut euch die Klassenverteilung im Datensatz an? Habt ihr noch eine 50/50 Verteilung zwischen positiv und negativ?"
      ],
      "metadata": {
        "id": "-MWqv7l54RO5"
      }
    },
    {
      "cell_type": "markdown",
      "source": [
        "### 4.1. Training\n",
        "Nun haben wir den Datensatz geladen und vorbereitet. \n",
        "\n",
        "1. Ladet ein `AutoModelForSequenceClassification` eurer Wahl (https://huggingface.co/models) und den entsprechenenden `AutoTokenizer`.\n",
        "\n",
        "  - Welches Modell nutzt ihr? Auf welchen Daten wurde das Netz vortrainiert?\n",
        "  - Auf welchem Framework basiert das Modell?"
      ],
      "metadata": {
        "id": "zsX9f_App4hX"
      }
    },
    {
      "cell_type": "code",
      "source": [
        "tokenizer = # TODO"
      ],
      "metadata": {
        "id": "lG7PpubMpnK6"
      },
      "execution_count": null,
      "outputs": []
    },
    {
      "cell_type": "code",
      "source": [
        "model = # TODO"
      ],
      "metadata": {
        "id": "S2jYDhvmqNPC"
      },
      "execution_count": null,
      "outputs": []
    },
    {
      "cell_type": "markdown",
      "source": [
        "2. Bevor das eigentliche Training beginnt, muss der Datensatz noch tokenized werden. Nutzt hierfür den oben instantiierten `tokenizer` und beantwortet folgende Fragen:\n",
        "  - Wie groß ist das des Tokenizers? \n",
        "  - In welcher Granularität werden Texte aufgesplittet?"
      ],
      "metadata": {
        "id": "A74aKJTZT3zO"
      }
    },
    {
      "cell_type": "code",
      "source": [
        "tokenized_dataset = # TODO"
      ],
      "metadata": {
        "id": "xr3AhPWqqDMk"
      },
      "execution_count": null,
      "outputs": []
    },
    {
      "cell_type": "markdown",
      "source": [
        "3. Baut euch eine Methode `compute_metrics`, die die notwendigen Metriken während des Trainings sammelt. Nutzt hierfür wieder Precision, Recall und F1 score."
      ],
      "metadata": {
        "id": "RGqGDAwHUtZl"
      }
    },
    {
      "cell_type": "code",
      "source": [
        "def compute_metrics(eval_pred):\n",
        "  \"\"\" Computes the metrics given a tuple of (logits, labels) \"\"\"\n",
        "  \n",
        "  # TODO \n",
        "  return {\n",
        "    \"accuracy\": accuracy,\n",
        "    \"f1\": f1,\n",
        "    \"precision\": precision,\n",
        "    \"recall\": recall,\n",
        "  }"
      ],
      "metadata": {
        "id": "KQEYYJAHrLQZ"
      },
      "execution_count": null,
      "outputs": []
    },
    {
      "cell_type": "markdown",
      "source": [
        "4. Ladet einen `Trainer` und spezifiziert die `TrainingArguments`. Es bietet sich an, nach jeder Epoche zu evaluieren und das beste Modell am Ende zu laden."
      ],
      "metadata": {
        "id": "7J8e_ijNUwg5"
      }
    },
    {
      "cell_type": "code",
      "source": [
        "finetuning_args = TrainingArgument() # TODO\n",
        "trainer = Trainer() # TODO"
      ],
      "metadata": {
        "id": "Db4jXr8LqkS8"
      },
      "execution_count": null,
      "outputs": []
    },
    {
      "cell_type": "markdown",
      "source": [
        "5. Trainiert das Modell und behaltet die Metriken im Auge."
      ],
      "metadata": {
        "id": "H0MSoG_N5QG2"
      }
    },
    {
      "cell_type": "code",
      "source": [
        "trainer.train()"
      ],
      "metadata": {
        "id": "nnd492AqrNSJ"
      },
      "execution_count": null,
      "outputs": []
    },
    {
      "cell_type": "markdown",
      "source": [
        "### 4.3. (Optional) Training mit weiterem Modell\n",
        "\n",
        "Falls ihr möchtet, könnt ihr optional das geladene vortrainierte Modell austauschen und ein anderes (größeres, auf anderen Daten trainiert, ...) Modell nutzen.\n"
      ],
      "metadata": {
        "id": "Dxlked_-5Wh-"
      }
    },
    {
      "cell_type": "markdown",
      "source": [
        "### 4.4. Prediction\n",
        "\n",
        "Nun könnt ihr das Modell nutzen, um ein paar Beispiel aus dem Test-Datensatz zu predicten."
      ],
      "metadata": {
        "id": "jX4VdMfmrdCd"
      }
    },
    {
      "cell_type": "code",
      "source": [
        "id2label = { 0: \"neg\", 1: \"pos\" }\n",
        "prediction_ds = tokenized_dataset['test'].select(range(50))"
      ],
      "metadata": {
        "id": "waL2KVf5rh2Y"
      },
      "execution_count": null,
      "outputs": []
    },
    {
      "cell_type": "markdown",
      "source": [
        "Gebt die falschen Predictionn aus. Was fällt euch auf?"
      ],
      "metadata": {
        "id": "Yl3bqCxs1mQ0"
      }
    },
    {
      "cell_type": "code",
      "source": [
        "raw_pred, _, _ = trainer.predict(prediction_ds)\n",
        "print(f\"Total predictions: {len(raw_pred)}\")\n",
        "\n",
        "for text, prediction in zip(prediction_ds, np.argmax(raw_pred, axis=1)):\n",
        "    expected = text['labels']\n",
        "    if expected != prediction:\n",
        "      print(f\"Text: {text['text']} --- Expected: {id2label[expected]} --- Predicted: {id2label[prediction]}\")"
      ],
      "metadata": {
        "id": "5jiNfGXzrcnn"
      },
      "execution_count": null,
      "outputs": []
    }
  ]
}